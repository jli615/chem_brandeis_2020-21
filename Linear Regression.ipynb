{
 "cells": [
  {
   "cell_type": "code",
   "execution_count": 1,
   "metadata": {},
   "outputs": [],
   "source": [
    "import pandas as pd\n",
    "import numpy as np\n",
    "from sklearn import svm\n",
    "from sklearn.linear_model import LinearRegression, Lasso, Ridge\n",
    "from sklearn.tree import DecisionTreeRegressor\n",
    "from sklearn.ensemble import GradientBoostingRegressor, RandomForestRegressor\n",
    "from sklearn.model_selection import train_test_split, cross_validate, cross_val_score, cross_val_predict, LeaveOneOut, KFold\n",
    "from sklearn.metrics import mean_squared_error, r2_score\n",
    "from sklearn.preprocessing import MinMaxScaler\n",
    "from sklearn import metrics\n",
    "import matplotlib.pyplot as plt\n",
    "\n",
    "import arff"
   ]
  },
  {
   "cell_type": "code",
   "execution_count": 2,
   "metadata": {},
   "outputs": [],
   "source": [
    "solvent_data = pd.read_excel('/Users/jlisd/Downloads/AI Chem/AI Chem/Holistic prediction of enantioselectivity in asymmetric catalysis.Supplementary Data.xlsx', sheet_name = 'solvent')\n",
    "solvent_data.set_index('solvent_name', inplace = True)\n",
    "solvent_columns = list(solvent_data.columns)"
   ]
  },
  {
   "cell_type": "code",
   "execution_count": 3,
   "metadata": {},
   "outputs": [
    {
     "data": {
      "text/plain": [
       "(12, 160)"
      ]
     },
     "execution_count": 3,
     "metadata": {},
     "output_type": "execute_result"
    }
   ],
   "source": [
    "solvent_data.shape"
   ]
  },
  {
   "cell_type": "code",
   "execution_count": 4,
   "metadata": {},
   "outputs": [],
   "source": [
    "nucleophile_data = pd.read_excel('/Users/jlisd/Downloads/AI Chem/AI Chem/Holistic prediction of enantioselectivity in asymmetric catalysis.Supplementary Data.xlsx', sheet_name = 'nucleophiles')\n",
    "nucleophile_data.set_index('nucleophile_name', inplace = True)\n",
    "nucleophile_columns = list(nucleophile_data.columns)"
   ]
  },
  {
   "cell_type": "code",
   "execution_count": 5,
   "metadata": {},
   "outputs": [],
   "source": [
    "raw_catalyst_data = pd.read_excel('/Users/jlisd/Downloads/AI Chem/AI Chem/Holistic prediction of enantioselectivity in asymmetric catalysis.Supplementary Data.xlsx', sheet_name = 'full_catalyst')\n",
    "raw_catalyst_data.rename(columns = {'last catalyst only S used': 'catalyst_name'}, inplace = True)\n",
    "\n",
    "#Taking care of catalyst R/S\n",
    "r_catalyst_data = raw_catalyst_data.copy()\n",
    "for i in range(17):\n",
    "    r_catalyst_data.iloc[i, 1] = r_catalyst_data.iloc[i, 1].replace('R/S', 'R')\n",
    "    #print(r_catalyst_data.iloc[i, 1])\n",
    "r_catalyst_data.drop(17, inplace = True)    \n",
    "\n",
    "s_catalyst_data = raw_catalyst_data.copy()\n",
    "for i in range(17):\n",
    "    s_catalyst_data.iloc[i, 1] = s_catalyst_data.iloc[i, 1].replace('R/S', 'S')\n",
    "    #print(s_catalyst_data.iloc[i, 1])\n",
    "    \n",
    "catalyst_data = pd.concat([r_catalyst_data, s_catalyst_data])\n",
    "catalyst_data.set_index('catalyst_name', inplace = True)\n",
    "catalyst_columns = list(catalyst_data.columns)"
   ]
  },
  {
   "cell_type": "code",
   "execution_count": 6,
   "metadata": {},
   "outputs": [],
   "source": [
    "iminium_data = pd.read_excel('/Users/jlisd/Downloads/AI Chem/AI Chem/Holistic prediction of enantioselectivity in asymmetric catalysis.Supplementary Data.xlsx', sheet_name = 'iminiums')\n",
    "iminium_data.rename(columns = {'imine': 'iminium_name', 'electronic energy difference (kcal/mol) ': 'electronic energy difference (kcal/mol)'}, inplace = True)\n",
    "#removed space at the end of electronic energy\n",
    "iminium_data.set_index('iminium_name', inplace = True)\n",
    "iminium_data.drop(labels = ['Unnamed: 1'], axis = 1, inplace = True)\n",
    "for i in range(1, 181):\n",
    "    z_iminium_name = '(Z)-Iminium ' + str(i)\n",
    "    e_iminium_name = '(E)-Iminium ' + str(i)\n",
    "    iminium_data.loc[z_iminium_name, 'electronic energy difference (kcal/mol)'] = iminium_data.loc[e_iminium_name, 'electronic energy difference (kcal/mol)']\n",
    "iminium_columns = list(iminium_data.columns)"
   ]
  },
  {
   "cell_type": "code",
   "execution_count": 7,
   "metadata": {},
   "outputs": [],
   "source": [
    "class Reaction():\n",
    "    \n",
    "    def __init__(self, name, entry, catalyst, nucleophile, substrate, solvent, iminium, majorenantiomer, minorenantiomer, ee, G):\n",
    "        self.name = name\n",
    "        self.entry = entry\n",
    "        self.catalyst = catalyst\n",
    "        self.nucleophile = nucleophile\n",
    "        self.substrate = substrate\n",
    "        self.solvent = solvent\n",
    "        self.iminium = iminium\n",
    "        self.majorenantiomer = majorenantiomer\n",
    "        self.minorenantiomer = minorenantiomer\n",
    "        self.ee = ee\n",
    "        self.G = G\n",
    "            \n",
    "        self.solvent_properties = dict()\n",
    "        for column in solvent_columns:\n",
    "            self.solvent_properties[column] = solvent_data.loc[solvent, column]\n",
    "            \n",
    "        self.catalyst_properties = dict()\n",
    "        for column in catalyst_columns:\n",
    "            self.catalyst_properties[column] = catalyst_data.loc[catalyst, column]\n",
    "            \n",
    "        self.nucleophile_properties = dict()\n",
    "        for column in nucleophile_columns:\n",
    "            self.nucleophile_properties[column] = nucleophile_data.loc[nucleophile, column]\n",
    "        \n",
    "        self.e_iminium = '(E)-' + str(iminium)\n",
    "        self.z_iminium = '(Z)-' + str(iminium)\n",
    "        \n",
    "        self.e_iminium_properties = dict()\n",
    "        self.z_iminium_properties = dict()\n",
    "        for column in iminium_columns:\n",
    "            self.e_iminium_properties[column] = iminium_data.loc[self.e_iminium, column]\n",
    "            self.z_iminium_properties[column] = iminium_data.loc[self.z_iminium, column]\n",
    "            \n",
    "    def __repr__(self):\n",
    "        return \"Reaction - {}\".format(self.name)\n",
    "        #iminium stuff"
   ]
  },
  {
   "cell_type": "code",
   "execution_count": 8,
   "metadata": {},
   "outputs": [],
   "source": [
    "reactions = dict()\n",
    "\n",
    "def process_data(reaction_number, reaction, sheetname = None):\n",
    "    reaction_file = '/Users/jlisd/Downloads/AI Chem/AI Chem/reaction info 5-23/' + str(reaction_number) + ' ' + reaction + '.xlsx'\n",
    "    if sheetname == None:\n",
    "        data = pd.read_excel(reaction_file)\n",
    "    else:\n",
    "        data = pd.read_excel(reaction_file, sheet_name = sheetname)\n",
    "        \n",
    "    data.set_index('entry', inplace = True)\n",
    "    \n",
    "    entries = len(data)\n",
    "    for entry in range(1, entries + 1):\n",
    "        if sheetname == None:\n",
    "            reaction_name = reaction + ' ' + str(entry)\n",
    "        else:\n",
    "            reaction_name = reaction + ' ' + sheetname + ' ' + str(entry)\n",
    "        \n",
    "        reactions[reaction_name] = Reaction(reaction_name, entry,\n",
    "                                            data.loc[entry, 'Catalyst'],\n",
    "                                            data.loc[entry, 'Nucleophile'],\n",
    "                                            data.loc[entry, 'Substrate'],\n",
    "                                            data.loc[entry, 'Solvent'],\n",
    "                                            data.loc[entry, 'Iminium'],\n",
    "                                            data.loc[entry, 'Major Enantiomer'],\n",
    "                                            data.loc[entry, 'Minor Enantiomer'],\n",
    "                                            data.loc[entry, 'ee'],\n",
    "                                            data.loc[entry, 'ΔΔG‡'])"
   ]
  },
  {
   "cell_type": "code",
   "execution_count": 9,
   "metadata": {},
   "outputs": [],
   "source": [
    "process_data(1, 'Addition of Alcohols', 'Scope')\n",
    "process_data(2, 'Addition of thiols', 'Catalyst & solvent screening da')\n",
    "process_data(2, 'Addition of thiols', 'Effect of catalyst loading')\n",
    "process_data(2, 'Addition of thiols', 'Imine scope')\n",
    "process_data(2, 'Addition of thiols', 'Thiol scope')\n",
    "process_data(3, 'Hydrophosphonylation of imines', 'Catalyst screening data')\n",
    "process_data(3, 'Hydrophosphonylation of imines', 'Scope')\n",
    "process_data(4, 'Addition of diazomethylphosphonates', \"Optimization of catalyst and re\")\n",
    "process_data(4, 'Addition of diazomethylphosphonates', \"Imine scope\")\n",
    "process_data(5, 'Addition of diazoacetamides', 'Catalyst screening data')\n",
    "process_data(5, 'Addition of diazoacetamides', 'Solvent screening data')\n",
    "process_data(5, 'Addition of diazoacetamides', 'Substrate(s) scope')\n",
    "process_data(6, 'Strecker Reaction (with aldimines)', 'Catalyst screening data')\n",
    "process_data(6, 'Strecker Reaction (with aldimines)', 'Solvent screening data')\n",
    "process_data(6, 'Strecker Reaction (with aldimines)', 'Imine scope')\n",
    "process_data(7, 'Peroxidation of imines', 'Catalyst screening data')\n",
    "process_data(7, 'Peroxidation of imines', 'Solvent screening data')\n",
    "process_data(7, 'Peroxidation of imines', 'Substrate(s) scope')\n",
    "process_data(8, 'Transfer Hydrogenation of b,g-Alkynyl a-Imino Esters', 'Catalyst screening and reaction')\n",
    "process_data(8, 'Transfer Hydrogenation of b,g-Alkynyl a-Imino Esters', 'Scope')\n",
    "process_data(9, 'Transfer Hydrogenation of Enamides', 'Scope')\n",
    "process_data(10, 'Transfer Hydrogenation of N-aryl imines (List)', 'Catalyst screening data')\n",
    "process_data(10, 'Transfer Hydrogenation of N-aryl imines (List)', 'Imine scope')\n",
    "process_data(11, 'Transfer Hydrogenation of N-aryl imines (Rueping)', 'Catalyst screening data')\n",
    "process_data(11, 'Transfer Hydrogenation of N-aryl imines (Rueping)', 'Solvent screening data')\n",
    "process_data(11, 'Transfer Hydrogenation of N-aryl imines (Rueping)', 'Imine scope')\n",
    "#process_data(12, 'Reductive amination of N-aryl imines (Macmillan)', 'Reaction optimization')\n",
    "process_data(13, 'Transfer Hydrogenation of trifluoromethyl ketimines', 'Benzothiazoline screening data')\n",
    "process_data(13, 'Transfer Hydrogenation of trifluoromethyl ketimines', 'Imine scope')\n",
    "process_data(14, 'Transfer Hydrogenation of N-aryl imines by benzothiazoline', 'Catalyst screening data')\n",
    "process_data(14, 'Transfer Hydrogenation of N-aryl imines by benzothiazoline', 'Benzothiazoline screening data')\n",
    "process_data(14, 'Transfer Hydrogenation of N-aryl imines by benzothiazoline', 'Imine scope')\n",
    "#process_data(15, 'Reductive amination of aliphatic ketones by benzothiazoline', 'Catalyst screening data')\n",
    "#process_data(15, 'Reductive amination of aliphatic ketones by benzothiazoline', 'Imine scope')\n",
    "process_data(16, 'Transfer Hydrogenation of ethyl ketimines', 'Benzothiazoline screening data')\n",
    "process_data(16, 'Transfer Hydrogenation of ethyl ketimines', 'Scope 1 benzothiazoline')\n",
    "process_data(16, 'Transfer Hydrogenation of ethyl ketimines', 'Scope 2 dihydropyridine')\n",
    "process_data(17, 'Strecker Reaction (with ketimines)', 'Catalyst screening data')\n",
    "process_data(17, 'Strecker Reaction (with ketimines)', 'Solvent data')\n",
    "process_data(17, 'Strecker Reaction (with ketimines)', 'Imine scope')\n",
    "process_data(18, 'Addition of enecarbamates to benzoyl imines')\n",
    "process_data(19, 'Hydrogenation of fluorinated alkynyl ketimines')\n",
    "process_data(20, 'Addition of thiols to imines (Denmark)')"
   ]
  },
  {
   "cell_type": "code",
   "execution_count": 10,
   "metadata": {},
   "outputs": [
    {
     "data": {
      "text/plain": [
       "423"
      ]
     },
     "execution_count": 10,
     "metadata": {},
     "output_type": "execute_result"
    }
   ],
   "source": [
    "reactions\n",
    "len(reactions)"
   ]
  },
  {
   "cell_type": "code",
   "execution_count": 11,
   "metadata": {},
   "outputs": [
    {
     "name": "stdout",
     "output_type": "stream",
     "text": [
      "['Iminium 1', 'Iminium 2', 'Iminium 3', 'Iminium 4', 'Iminium 5', 'Iminium 6', 'Iminium 7', 'Iminium 8', 'Iminium 9', 'Iminium 11', 'Iminium 12']\n"
     ]
    }
   ],
   "source": [
    "#looking for missing iminiums\n",
    "iminiums = ['Iminium ' + str(i) for i in range(1,181)]\n",
    "\n",
    "for reaction in reactions:\n",
    "    if reactions[reaction].iminium in iminiums:\n",
    "        iminiums.remove(reactions[reaction].iminium)\n",
    "        \n",
    "print(iminiums)"
   ]
  },
  {
   "cell_type": "code",
   "execution_count": 12,
   "metadata": {},
   "outputs": [
    {
     "name": "stdout",
     "output_type": "stream",
     "text": [
      "[]\n"
     ]
    }
   ],
   "source": [
    "#looking for missing nucleophiles\n",
    "nucleophiles = list(nucleophile_data.index)\n",
    "\n",
    "for reaction in reactions:\n",
    "    if reactions[reaction].nucleophile in nucleophiles:\n",
    "        nucleophiles.remove(reactions[reaction].nucleophile)\n",
    "        \n",
    "print(nucleophiles)"
   ]
  },
  {
   "cell_type": "code",
   "execution_count": 13,
   "metadata": {},
   "outputs": [],
   "source": [
    "catalyst = pd.DataFrame(columns = ['Reaction'] + catalyst_columns)\n",
    "catalyst.set_index('Reaction', inplace = True)\n",
    "\n",
    "for reaction in reactions:\n",
    "    for column in catalyst_columns:\n",
    "        catalyst.loc[reaction, column] = reactions[reaction].catalyst_properties[column]\n",
    "        \n",
    "#first column is numerical"
   ]
  },
  {
   "cell_type": "code",
   "execution_count": 15,
   "metadata": {},
   "outputs": [
    {
     "data": {
      "text/html": [
       "<div>\n",
       "<style scoped>\n",
       "    .dataframe tbody tr th:only-of-type {\n",
       "        vertical-align: middle;\n",
       "    }\n",
       "\n",
       "    .dataframe tbody tr th {\n",
       "        vertical-align: top;\n",
       "    }\n",
       "\n",
       "    .dataframe thead th {\n",
       "        text-align: right;\n",
       "    }\n",
       "</style>\n",
       "<table border=\"1\" class=\"dataframe\">\n",
       "  <thead>\n",
       "    <tr style=\"text-align: right;\">\n",
       "      <th></th>\n",
       "      <th>Ar group</th>\n",
       "      <th>arhs</th>\n",
       "      <th>alhs</th>\n",
       "      <th>aavg</th>\n",
       "      <th>b</th>\n",
       "      <th>AREA(q)</th>\n",
       "      <th>sin(AREA)</th>\n",
       "      <th>Lwhole R</th>\n",
       "      <th>B1whole R</th>\n",
       "      <th>B5whole R</th>\n",
       "      <th>...</th>\n",
       "      <th>C3 A</th>\n",
       "      <th>C4 A</th>\n",
       "      <th>C5 A</th>\n",
       "      <th>C6 A</th>\n",
       "      <th>nPOsy</th>\n",
       "      <th>iPOsy</th>\n",
       "      <th>nPOas</th>\n",
       "      <th>iPOas</th>\n",
       "      <th>P</th>\n",
       "      <th>PNMR</th>\n",
       "    </tr>\n",
       "    <tr>\n",
       "      <th>Reaction</th>\n",
       "      <th></th>\n",
       "      <th></th>\n",
       "      <th></th>\n",
       "      <th></th>\n",
       "      <th></th>\n",
       "      <th></th>\n",
       "      <th></th>\n",
       "      <th></th>\n",
       "      <th></th>\n",
       "      <th></th>\n",
       "      <th></th>\n",
       "      <th></th>\n",
       "      <th></th>\n",
       "      <th></th>\n",
       "      <th></th>\n",
       "      <th></th>\n",
       "      <th></th>\n",
       "      <th></th>\n",
       "      <th></th>\n",
       "      <th></th>\n",
       "      <th></th>\n",
       "    </tr>\n",
       "  </thead>\n",
       "  <tbody>\n",
       "    <tr>\n",
       "      <th>Addition of enecarbamates to benzoyl imines 1</th>\n",
       "      <td>9-Anthryl</td>\n",
       "      <td>78.854</td>\n",
       "      <td>78.853</td>\n",
       "      <td>78.8535</td>\n",
       "      <td>55.161</td>\n",
       "      <td>61</td>\n",
       "      <td>-0.966118</td>\n",
       "      <td>6.94</td>\n",
       "      <td>1.73</td>\n",
       "      <td>5.72</td>\n",
       "      <td>...</td>\n",
       "      <td>-0.054</td>\n",
       "      <td>-0.162</td>\n",
       "      <td>-0.059</td>\n",
       "      <td>-0.049</td>\n",
       "      <td>1088.24</td>\n",
       "      <td>321.983</td>\n",
       "      <td>1324.49</td>\n",
       "      <td>223.989</td>\n",
       "      <td>2.539</td>\n",
       "      <td>268.953</td>\n",
       "    </tr>\n",
       "    <tr>\n",
       "      <th>Addition of enecarbamates to benzoyl imines 2</th>\n",
       "      <td>9-Anthryl</td>\n",
       "      <td>78.854</td>\n",
       "      <td>78.853</td>\n",
       "      <td>78.8535</td>\n",
       "      <td>55.161</td>\n",
       "      <td>61</td>\n",
       "      <td>-0.966118</td>\n",
       "      <td>6.94</td>\n",
       "      <td>1.73</td>\n",
       "      <td>5.72</td>\n",
       "      <td>...</td>\n",
       "      <td>-0.054</td>\n",
       "      <td>-0.162</td>\n",
       "      <td>-0.059</td>\n",
       "      <td>-0.049</td>\n",
       "      <td>1088.24</td>\n",
       "      <td>321.983</td>\n",
       "      <td>1324.49</td>\n",
       "      <td>223.989</td>\n",
       "      <td>2.539</td>\n",
       "      <td>268.953</td>\n",
       "    </tr>\n",
       "    <tr>\n",
       "      <th>Addition of enecarbamates to benzoyl imines 3</th>\n",
       "      <td>9-Anthryl</td>\n",
       "      <td>78.854</td>\n",
       "      <td>78.853</td>\n",
       "      <td>78.8535</td>\n",
       "      <td>55.161</td>\n",
       "      <td>61</td>\n",
       "      <td>-0.966118</td>\n",
       "      <td>6.94</td>\n",
       "      <td>1.73</td>\n",
       "      <td>5.72</td>\n",
       "      <td>...</td>\n",
       "      <td>-0.054</td>\n",
       "      <td>-0.162</td>\n",
       "      <td>-0.059</td>\n",
       "      <td>-0.049</td>\n",
       "      <td>1088.24</td>\n",
       "      <td>321.983</td>\n",
       "      <td>1324.49</td>\n",
       "      <td>223.989</td>\n",
       "      <td>2.539</td>\n",
       "      <td>268.953</td>\n",
       "    </tr>\n",
       "    <tr>\n",
       "      <th>Addition of enecarbamates to benzoyl imines 4</th>\n",
       "      <td>9-Anthryl</td>\n",
       "      <td>78.854</td>\n",
       "      <td>78.853</td>\n",
       "      <td>78.8535</td>\n",
       "      <td>55.161</td>\n",
       "      <td>61</td>\n",
       "      <td>-0.966118</td>\n",
       "      <td>6.94</td>\n",
       "      <td>1.73</td>\n",
       "      <td>5.72</td>\n",
       "      <td>...</td>\n",
       "      <td>-0.054</td>\n",
       "      <td>-0.162</td>\n",
       "      <td>-0.059</td>\n",
       "      <td>-0.049</td>\n",
       "      <td>1088.24</td>\n",
       "      <td>321.983</td>\n",
       "      <td>1324.49</td>\n",
       "      <td>223.989</td>\n",
       "      <td>2.539</td>\n",
       "      <td>268.953</td>\n",
       "    </tr>\n",
       "    <tr>\n",
       "      <th>Addition of enecarbamates to benzoyl imines 5</th>\n",
       "      <td>9-Anthryl</td>\n",
       "      <td>78.854</td>\n",
       "      <td>78.853</td>\n",
       "      <td>78.8535</td>\n",
       "      <td>55.161</td>\n",
       "      <td>61</td>\n",
       "      <td>-0.966118</td>\n",
       "      <td>6.94</td>\n",
       "      <td>1.73</td>\n",
       "      <td>5.72</td>\n",
       "      <td>...</td>\n",
       "      <td>-0.054</td>\n",
       "      <td>-0.162</td>\n",
       "      <td>-0.059</td>\n",
       "      <td>-0.049</td>\n",
       "      <td>1088.24</td>\n",
       "      <td>321.983</td>\n",
       "      <td>1324.49</td>\n",
       "      <td>223.989</td>\n",
       "      <td>2.539</td>\n",
       "      <td>268.953</td>\n",
       "    </tr>\n",
       "    <tr>\n",
       "      <th>...</th>\n",
       "      <td>...</td>\n",
       "      <td>...</td>\n",
       "      <td>...</td>\n",
       "      <td>...</td>\n",
       "      <td>...</td>\n",
       "      <td>...</td>\n",
       "      <td>...</td>\n",
       "      <td>...</td>\n",
       "      <td>...</td>\n",
       "      <td>...</td>\n",
       "      <td>...</td>\n",
       "      <td>...</td>\n",
       "      <td>...</td>\n",
       "      <td>...</td>\n",
       "      <td>...</td>\n",
       "      <td>...</td>\n",
       "      <td>...</td>\n",
       "      <td>...</td>\n",
       "      <td>...</td>\n",
       "      <td>...</td>\n",
       "      <td>...</td>\n",
       "    </tr>\n",
       "    <tr>\n",
       "      <th>Addition of thiols to imines (Denmark) 30</th>\n",
       "      <td>2,4,6-CyC6H2</td>\n",
       "      <td>74.179</td>\n",
       "      <td>74.164</td>\n",
       "      <td>74.1715</td>\n",
       "      <td>54.611</td>\n",
       "      <td>47</td>\n",
       "      <td>0.123573</td>\n",
       "      <td>11.16</td>\n",
       "      <td>3.27</td>\n",
       "      <td>7.58</td>\n",
       "      <td>...</td>\n",
       "      <td>-0.22248</td>\n",
       "      <td>-0.00641</td>\n",
       "      <td>-0.22731</td>\n",
       "      <td>0.043085</td>\n",
       "      <td>1088.87</td>\n",
       "      <td>199.962</td>\n",
       "      <td>1316.93</td>\n",
       "      <td>184.626</td>\n",
       "      <td>2.56344</td>\n",
       "      <td>270.392</td>\n",
       "    </tr>\n",
       "    <tr>\n",
       "      <th>Addition of thiols to imines (Denmark) 31</th>\n",
       "      <td>2,4,6-CyC6H2</td>\n",
       "      <td>74.179</td>\n",
       "      <td>74.164</td>\n",
       "      <td>74.1715</td>\n",
       "      <td>54.611</td>\n",
       "      <td>47</td>\n",
       "      <td>0.123573</td>\n",
       "      <td>11.16</td>\n",
       "      <td>3.27</td>\n",
       "      <td>7.58</td>\n",
       "      <td>...</td>\n",
       "      <td>-0.22248</td>\n",
       "      <td>-0.00641</td>\n",
       "      <td>-0.22731</td>\n",
       "      <td>0.043085</td>\n",
       "      <td>1088.87</td>\n",
       "      <td>199.962</td>\n",
       "      <td>1316.93</td>\n",
       "      <td>184.626</td>\n",
       "      <td>2.56344</td>\n",
       "      <td>270.392</td>\n",
       "    </tr>\n",
       "    <tr>\n",
       "      <th>Addition of thiols to imines (Denmark) 32</th>\n",
       "      <td>2,4,6-CyC6H2</td>\n",
       "      <td>74.179</td>\n",
       "      <td>74.164</td>\n",
       "      <td>74.1715</td>\n",
       "      <td>54.611</td>\n",
       "      <td>47</td>\n",
       "      <td>0.123573</td>\n",
       "      <td>11.16</td>\n",
       "      <td>3.27</td>\n",
       "      <td>7.58</td>\n",
       "      <td>...</td>\n",
       "      <td>-0.22248</td>\n",
       "      <td>-0.00641</td>\n",
       "      <td>-0.22731</td>\n",
       "      <td>0.043085</td>\n",
       "      <td>1088.87</td>\n",
       "      <td>199.962</td>\n",
       "      <td>1316.93</td>\n",
       "      <td>184.626</td>\n",
       "      <td>2.56344</td>\n",
       "      <td>270.392</td>\n",
       "    </tr>\n",
       "    <tr>\n",
       "      <th>Addition of thiols to imines (Denmark) 33</th>\n",
       "      <td>2,4,6-CyC6H2</td>\n",
       "      <td>74.179</td>\n",
       "      <td>74.164</td>\n",
       "      <td>74.1715</td>\n",
       "      <td>54.611</td>\n",
       "      <td>47</td>\n",
       "      <td>0.123573</td>\n",
       "      <td>11.16</td>\n",
       "      <td>3.27</td>\n",
       "      <td>7.58</td>\n",
       "      <td>...</td>\n",
       "      <td>-0.22248</td>\n",
       "      <td>-0.00641</td>\n",
       "      <td>-0.22731</td>\n",
       "      <td>0.043085</td>\n",
       "      <td>1088.87</td>\n",
       "      <td>199.962</td>\n",
       "      <td>1316.93</td>\n",
       "      <td>184.626</td>\n",
       "      <td>2.56344</td>\n",
       "      <td>270.392</td>\n",
       "    </tr>\n",
       "    <tr>\n",
       "      <th>Addition of thiols to imines (Denmark) 34</th>\n",
       "      <td>2,4,6-CyC6H2</td>\n",
       "      <td>74.179</td>\n",
       "      <td>74.164</td>\n",
       "      <td>74.1715</td>\n",
       "      <td>54.611</td>\n",
       "      <td>47</td>\n",
       "      <td>0.123573</td>\n",
       "      <td>11.16</td>\n",
       "      <td>3.27</td>\n",
       "      <td>7.58</td>\n",
       "      <td>...</td>\n",
       "      <td>-0.22248</td>\n",
       "      <td>-0.00641</td>\n",
       "      <td>-0.22731</td>\n",
       "      <td>0.043085</td>\n",
       "      <td>1088.87</td>\n",
       "      <td>199.962</td>\n",
       "      <td>1316.93</td>\n",
       "      <td>184.626</td>\n",
       "      <td>2.56344</td>\n",
       "      <td>270.392</td>\n",
       "    </tr>\n",
       "  </tbody>\n",
       "</table>\n",
       "<p>64 rows × 85 columns</p>\n",
       "</div>"
      ],
      "text/plain": [
       "                                                   Ar group    arhs    alhs  \\\n",
       "Reaction                                                                      \n",
       "Addition of enecarbamates to benzoyl imines 1     9-Anthryl  78.854  78.853   \n",
       "Addition of enecarbamates to benzoyl imines 2     9-Anthryl  78.854  78.853   \n",
       "Addition of enecarbamates to benzoyl imines 3     9-Anthryl  78.854  78.853   \n",
       "Addition of enecarbamates to benzoyl imines 4     9-Anthryl  78.854  78.853   \n",
       "Addition of enecarbamates to benzoyl imines 5     9-Anthryl  78.854  78.853   \n",
       "...                                                     ...     ...     ...   \n",
       "Addition of thiols to imines (Denmark) 30      2,4,6-CyC6H2  74.179  74.164   \n",
       "Addition of thiols to imines (Denmark) 31      2,4,6-CyC6H2  74.179  74.164   \n",
       "Addition of thiols to imines (Denmark) 32      2,4,6-CyC6H2  74.179  74.164   \n",
       "Addition of thiols to imines (Denmark) 33      2,4,6-CyC6H2  74.179  74.164   \n",
       "Addition of thiols to imines (Denmark) 34      2,4,6-CyC6H2  74.179  74.164   \n",
       "\n",
       "                                                  aavg       b AREA(q)  \\\n",
       "Reaction                                                                 \n",
       "Addition of enecarbamates to benzoyl imines 1  78.8535  55.161      61   \n",
       "Addition of enecarbamates to benzoyl imines 2  78.8535  55.161      61   \n",
       "Addition of enecarbamates to benzoyl imines 3  78.8535  55.161      61   \n",
       "Addition of enecarbamates to benzoyl imines 4  78.8535  55.161      61   \n",
       "Addition of enecarbamates to benzoyl imines 5  78.8535  55.161      61   \n",
       "...                                                ...     ...     ...   \n",
       "Addition of thiols to imines (Denmark) 30      74.1715  54.611      47   \n",
       "Addition of thiols to imines (Denmark) 31      74.1715  54.611      47   \n",
       "Addition of thiols to imines (Denmark) 32      74.1715  54.611      47   \n",
       "Addition of thiols to imines (Denmark) 33      74.1715  54.611      47   \n",
       "Addition of thiols to imines (Denmark) 34      74.1715  54.611      47   \n",
       "\n",
       "                                              sin(AREA) Lwhole R B1whole R  \\\n",
       "Reaction                                                                     \n",
       "Addition of enecarbamates to benzoyl imines 1 -0.966118     6.94      1.73   \n",
       "Addition of enecarbamates to benzoyl imines 2 -0.966118     6.94      1.73   \n",
       "Addition of enecarbamates to benzoyl imines 3 -0.966118     6.94      1.73   \n",
       "Addition of enecarbamates to benzoyl imines 4 -0.966118     6.94      1.73   \n",
       "Addition of enecarbamates to benzoyl imines 5 -0.966118     6.94      1.73   \n",
       "...                                                 ...      ...       ...   \n",
       "Addition of thiols to imines (Denmark) 30      0.123573    11.16      3.27   \n",
       "Addition of thiols to imines (Denmark) 31      0.123573    11.16      3.27   \n",
       "Addition of thiols to imines (Denmark) 32      0.123573    11.16      3.27   \n",
       "Addition of thiols to imines (Denmark) 33      0.123573    11.16      3.27   \n",
       "Addition of thiols to imines (Denmark) 34      0.123573    11.16      3.27   \n",
       "\n",
       "                                              B5whole R  ...     C3 A  \\\n",
       "Reaction                                                 ...            \n",
       "Addition of enecarbamates to benzoyl imines 1      5.72  ...   -0.054   \n",
       "Addition of enecarbamates to benzoyl imines 2      5.72  ...   -0.054   \n",
       "Addition of enecarbamates to benzoyl imines 3      5.72  ...   -0.054   \n",
       "Addition of enecarbamates to benzoyl imines 4      5.72  ...   -0.054   \n",
       "Addition of enecarbamates to benzoyl imines 5      5.72  ...   -0.054   \n",
       "...                                                 ...  ...      ...   \n",
       "Addition of thiols to imines (Denmark) 30          7.58  ... -0.22248   \n",
       "Addition of thiols to imines (Denmark) 31          7.58  ... -0.22248   \n",
       "Addition of thiols to imines (Denmark) 32          7.58  ... -0.22248   \n",
       "Addition of thiols to imines (Denmark) 33          7.58  ... -0.22248   \n",
       "Addition of thiols to imines (Denmark) 34          7.58  ... -0.22248   \n",
       "\n",
       "                                                  C4 A     C5 A      C6 A  \\\n",
       "Reaction                                                                    \n",
       "Addition of enecarbamates to benzoyl imines 1   -0.162   -0.059    -0.049   \n",
       "Addition of enecarbamates to benzoyl imines 2   -0.162   -0.059    -0.049   \n",
       "Addition of enecarbamates to benzoyl imines 3   -0.162   -0.059    -0.049   \n",
       "Addition of enecarbamates to benzoyl imines 4   -0.162   -0.059    -0.049   \n",
       "Addition of enecarbamates to benzoyl imines 5   -0.162   -0.059    -0.049   \n",
       "...                                                ...      ...       ...   \n",
       "Addition of thiols to imines (Denmark) 30     -0.00641 -0.22731  0.043085   \n",
       "Addition of thiols to imines (Denmark) 31     -0.00641 -0.22731  0.043085   \n",
       "Addition of thiols to imines (Denmark) 32     -0.00641 -0.22731  0.043085   \n",
       "Addition of thiols to imines (Denmark) 33     -0.00641 -0.22731  0.043085   \n",
       "Addition of thiols to imines (Denmark) 34     -0.00641 -0.22731  0.043085   \n",
       "\n",
       "                                                 nPOsy    iPOsy    nPOas  \\\n",
       "Reaction                                                                   \n",
       "Addition of enecarbamates to benzoyl imines 1  1088.24  321.983  1324.49   \n",
       "Addition of enecarbamates to benzoyl imines 2  1088.24  321.983  1324.49   \n",
       "Addition of enecarbamates to benzoyl imines 3  1088.24  321.983  1324.49   \n",
       "Addition of enecarbamates to benzoyl imines 4  1088.24  321.983  1324.49   \n",
       "Addition of enecarbamates to benzoyl imines 5  1088.24  321.983  1324.49   \n",
       "...                                                ...      ...      ...   \n",
       "Addition of thiols to imines (Denmark) 30      1088.87  199.962  1316.93   \n",
       "Addition of thiols to imines (Denmark) 31      1088.87  199.962  1316.93   \n",
       "Addition of thiols to imines (Denmark) 32      1088.87  199.962  1316.93   \n",
       "Addition of thiols to imines (Denmark) 33      1088.87  199.962  1316.93   \n",
       "Addition of thiols to imines (Denmark) 34      1088.87  199.962  1316.93   \n",
       "\n",
       "                                                 iPOas        P     PNMR  \n",
       "Reaction                                                                  \n",
       "Addition of enecarbamates to benzoyl imines 1  223.989    2.539  268.953  \n",
       "Addition of enecarbamates to benzoyl imines 2  223.989    2.539  268.953  \n",
       "Addition of enecarbamates to benzoyl imines 3  223.989    2.539  268.953  \n",
       "Addition of enecarbamates to benzoyl imines 4  223.989    2.539  268.953  \n",
       "Addition of enecarbamates to benzoyl imines 5  223.989    2.539  268.953  \n",
       "...                                                ...      ...      ...  \n",
       "Addition of thiols to imines (Denmark) 30      184.626  2.56344  270.392  \n",
       "Addition of thiols to imines (Denmark) 31      184.626  2.56344  270.392  \n",
       "Addition of thiols to imines (Denmark) 32      184.626  2.56344  270.392  \n",
       "Addition of thiols to imines (Denmark) 33      184.626  2.56344  270.392  \n",
       "Addition of thiols to imines (Denmark) 34      184.626  2.56344  270.392  \n",
       "\n",
       "[64 rows x 85 columns]"
      ]
     },
     "execution_count": 15,
     "metadata": {},
     "output_type": "execute_result"
    }
   ],
   "source": [
    "catalyst.iloc[359: , :]"
   ]
  },
  {
   "cell_type": "code",
   "execution_count": 17,
   "metadata": {},
   "outputs": [],
   "source": [
    "nucleophile = pd.DataFrame(columns = ['Reaction'] + nucleophile_columns)\n",
    "nucleophile.set_index('Reaction', inplace = True)\n",
    "\n",
    "for reaction in reactions:\n",
    "    for column in nucleophile_columns:\n",
    "        nucleophile.loc[reaction, column] = reactions[reaction].nucleophile_properties[column]\n",
    "        \n",
    "#first column is numerical"
   ]
  },
  {
   "cell_type": "code",
   "execution_count": 18,
   "metadata": {},
   "outputs": [],
   "source": [
    "solvent = pd.DataFrame(columns = ['Reaction'] + solvent_columns)\n",
    "solvent.set_index('Reaction', inplace = True)\n",
    "\n",
    "for reaction in reactions:\n",
    "    for column in solvent_columns:\n",
    "        solvent.loc[reaction, column] = reactions[reaction].solvent_properties[column]\n",
    "        \n",
    "#first column is numerical"
   ]
  },
  {
   "cell_type": "code",
   "execution_count": 19,
   "metadata": {},
   "outputs": [],
   "source": [
    "e_iminium = pd.DataFrame(columns = ['Reaction'] + iminium_columns)\n",
    "e_iminium.set_index('Reaction', inplace = True)\n",
    "z_iminium = pd.DataFrame(columns = ['Reaction'] + iminium_columns)\n",
    "z_iminium.set_index('Reaction', inplace = True)\n",
    "\n",
    "for reaction in reactions:\n",
    "    for column in iminium_columns:\n",
    "        e_iminium.loc[reaction, column] = reactions[reaction].e_iminium_properties[column]\n",
    "        z_iminium.loc[reaction, column] = reactions[reaction].z_iminium_properties[column]"
   ]
  },
  {
   "cell_type": "code",
   "execution_count": 15,
   "metadata": {},
   "outputs": [],
   "source": [
    "e_iminium_columns = ['E-iminium ' + column for column in iminium_columns]\n",
    "z_iminium_columns = ['Z-iminium ' + column for column in iminium_columns]\n",
    "\n",
    "e_iminium.columns = e_iminium_columns\n",
    "z_iminium.columns = z_iminium_columns"
   ]
  },
  {
   "cell_type": "code",
   "execution_count": 16,
   "metadata": {},
   "outputs": [],
   "source": [
    "ee = pd.DataFrame(columns = ['Reaction', 'ee'])\n",
    "ee.set_index('Reaction', inplace = True)\n",
    "\n",
    "for reaction in reactions:\n",
    "    ee.loc[reaction, 'ee'] = reactions[reaction].ee\n",
    "        \n",
    "#first column is numerical"
   ]
  },
  {
   "cell_type": "code",
   "execution_count": 25,
   "metadata": {},
   "outputs": [],
   "source": [
    "Y = pd.DataFrame(columns = ['Reaction', 'ΔΔG‡'])\n",
    "Y.set_index('Reaction', inplace = True)\n",
    "\n",
    "for reaction in reactions:\n",
    "    Y.loc[reaction, 'ΔΔG‡'] = reactions[reaction].G\n",
    "    "
   ]
  },
  {
   "cell_type": "code",
   "execution_count": 18,
   "metadata": {},
   "outputs": [
    {
     "name": "stdout",
     "output_type": "stream",
     "text": [
      "(406, 85) (406, 15) (406, 160) (406, 21) (406, 21) (406, 1)\n"
     ]
    }
   ],
   "source": [
    "print(catalyst.shape, nucleophile.shape, solvent.shape, e_iminium.shape, z_iminium.shape, ee.shape)"
   ]
  },
  {
   "cell_type": "code",
   "execution_count": 19,
   "metadata": {},
   "outputs": [
    {
     "data": {
      "text/plain": [
       "(406, 299)"
      ]
     },
     "execution_count": 19,
     "metadata": {},
     "output_type": "execute_result"
    }
   ],
   "source": [
    "X = pd.concat([catalyst.drop(['Ar group'], axis = 1), \n",
    "               nucleophile.drop(['nucleophile'], axis = 1), \n",
    "               solvent.drop(['solvent'], axis = 1), \n",
    "               e_iminium, \n",
    "               z_iminium], axis = 1)\n",
    "X.shape"
   ]
  },
  {
   "cell_type": "code",
   "execution_count": 26,
   "metadata": {},
   "outputs": [
    {
     "data": {
      "text/plain": [
       "(423, 257)"
      ]
     },
     "execution_count": 26,
     "metadata": {},
     "output_type": "execute_result"
    }
   ],
   "source": [
    "X_no_iminium = pd.concat([catalyst.drop(['Ar group'], axis = 1), \n",
    "               nucleophile.drop(['nucleophile'], axis = 1), \n",
    "               solvent.drop(['solvent'], axis = 1)], axis = 1)\n",
    "X_no_iminium.shape"
   ]
  },
  {
   "cell_type": "code",
   "execution_count": 27,
   "metadata": {},
   "outputs": [],
   "source": [
    "X_out_of_sample =  pd.concat([catalyst.iloc[359:, :].drop(['Ar group'], axis = 1), \n",
    "               nucleophile.iloc[359:, :].drop(['nucleophile'], axis = 1), \n",
    "               solvent.iloc[359:, :].drop(['solvent'], axis = 1)], axis = 1)\n",
    "Y_out_of_sample = Y.iloc[359:, :]"
   ]
  },
  {
   "cell_type": "code",
   "execution_count": 30,
   "metadata": {},
   "outputs": [
    {
     "data": {
      "text/html": [
       "<div>\n",
       "<style scoped>\n",
       "    .dataframe tbody tr th:only-of-type {\n",
       "        vertical-align: middle;\n",
       "    }\n",
       "\n",
       "    .dataframe tbody tr th {\n",
       "        vertical-align: top;\n",
       "    }\n",
       "\n",
       "    .dataframe thead th {\n",
       "        text-align: right;\n",
       "    }\n",
       "</style>\n",
       "<table border=\"1\" class=\"dataframe\">\n",
       "  <thead>\n",
       "    <tr style=\"text-align: right;\">\n",
       "      <th></th>\n",
       "      <th>arhs</th>\n",
       "      <th>alhs</th>\n",
       "      <th>aavg</th>\n",
       "      <th>b</th>\n",
       "      <th>AREA(q)</th>\n",
       "      <th>sin(AREA)</th>\n",
       "      <th>Lwhole R</th>\n",
       "      <th>B1whole R</th>\n",
       "      <th>B5whole R</th>\n",
       "      <th>L2 R</th>\n",
       "      <th>...</th>\n",
       "      <th>CLOGP</th>\n",
       "      <th>MR</th>\n",
       "      <th>CMR</th>\n",
       "      <th>RMM</th>\n",
       "      <th>Density</th>\n",
       "      <th>no. of H bond donor</th>\n",
       "      <th>no. H bond acceptor</th>\n",
       "      <th>Polarizability (solvent)</th>\n",
       "      <th>HOMO (solvent)</th>\n",
       "      <th>LUMO (solvent)</th>\n",
       "    </tr>\n",
       "    <tr>\n",
       "      <th>Reaction</th>\n",
       "      <th></th>\n",
       "      <th></th>\n",
       "      <th></th>\n",
       "      <th></th>\n",
       "      <th></th>\n",
       "      <th></th>\n",
       "      <th></th>\n",
       "      <th></th>\n",
       "      <th></th>\n",
       "      <th></th>\n",
       "      <th></th>\n",
       "      <th></th>\n",
       "      <th></th>\n",
       "      <th></th>\n",
       "      <th></th>\n",
       "      <th></th>\n",
       "      <th></th>\n",
       "      <th></th>\n",
       "      <th></th>\n",
       "      <th></th>\n",
       "      <th></th>\n",
       "    </tr>\n",
       "  </thead>\n",
       "  <tbody>\n",
       "    <tr>\n",
       "      <th>Addition of enecarbamates to benzoyl imines 1</th>\n",
       "      <td>78.854</td>\n",
       "      <td>78.853</td>\n",
       "      <td>78.8535</td>\n",
       "      <td>55.161</td>\n",
       "      <td>61</td>\n",
       "      <td>-0.966118</td>\n",
       "      <td>6.94</td>\n",
       "      <td>1.73</td>\n",
       "      <td>5.72</td>\n",
       "      <td>9.12</td>\n",
       "      <td>...</td>\n",
       "      <td>2.641</td>\n",
       "      <td>31.17</td>\n",
       "      <td>3.1524</td>\n",
       "      <td>92.14</td>\n",
       "      <td>0.87</td>\n",
       "      <td>0</td>\n",
       "      <td>0</td>\n",
       "      <td>76.81</td>\n",
       "      <td>-0.29584</td>\n",
       "      <td>0.0237</td>\n",
       "    </tr>\n",
       "    <tr>\n",
       "      <th>Addition of enecarbamates to benzoyl imines 2</th>\n",
       "      <td>78.854</td>\n",
       "      <td>78.853</td>\n",
       "      <td>78.8535</td>\n",
       "      <td>55.161</td>\n",
       "      <td>61</td>\n",
       "      <td>-0.966118</td>\n",
       "      <td>6.94</td>\n",
       "      <td>1.73</td>\n",
       "      <td>5.72</td>\n",
       "      <td>9.12</td>\n",
       "      <td>...</td>\n",
       "      <td>2.641</td>\n",
       "      <td>31.17</td>\n",
       "      <td>3.1524</td>\n",
       "      <td>92.14</td>\n",
       "      <td>0.87</td>\n",
       "      <td>0</td>\n",
       "      <td>0</td>\n",
       "      <td>76.81</td>\n",
       "      <td>-0.29584</td>\n",
       "      <td>0.0237</td>\n",
       "    </tr>\n",
       "    <tr>\n",
       "      <th>Addition of enecarbamates to benzoyl imines 3</th>\n",
       "      <td>78.854</td>\n",
       "      <td>78.853</td>\n",
       "      <td>78.8535</td>\n",
       "      <td>55.161</td>\n",
       "      <td>61</td>\n",
       "      <td>-0.966118</td>\n",
       "      <td>6.94</td>\n",
       "      <td>1.73</td>\n",
       "      <td>5.72</td>\n",
       "      <td>9.12</td>\n",
       "      <td>...</td>\n",
       "      <td>2.641</td>\n",
       "      <td>31.17</td>\n",
       "      <td>3.1524</td>\n",
       "      <td>92.14</td>\n",
       "      <td>0.87</td>\n",
       "      <td>0</td>\n",
       "      <td>0</td>\n",
       "      <td>76.81</td>\n",
       "      <td>-0.29584</td>\n",
       "      <td>0.0237</td>\n",
       "    </tr>\n",
       "    <tr>\n",
       "      <th>Addition of enecarbamates to benzoyl imines 4</th>\n",
       "      <td>78.854</td>\n",
       "      <td>78.853</td>\n",
       "      <td>78.8535</td>\n",
       "      <td>55.161</td>\n",
       "      <td>61</td>\n",
       "      <td>-0.966118</td>\n",
       "      <td>6.94</td>\n",
       "      <td>1.73</td>\n",
       "      <td>5.72</td>\n",
       "      <td>9.12</td>\n",
       "      <td>...</td>\n",
       "      <td>2.641</td>\n",
       "      <td>31.17</td>\n",
       "      <td>3.1524</td>\n",
       "      <td>92.14</td>\n",
       "      <td>0.87</td>\n",
       "      <td>0</td>\n",
       "      <td>0</td>\n",
       "      <td>76.81</td>\n",
       "      <td>-0.29584</td>\n",
       "      <td>0.0237</td>\n",
       "    </tr>\n",
       "    <tr>\n",
       "      <th>Addition of enecarbamates to benzoyl imines 5</th>\n",
       "      <td>78.854</td>\n",
       "      <td>78.853</td>\n",
       "      <td>78.8535</td>\n",
       "      <td>55.161</td>\n",
       "      <td>61</td>\n",
       "      <td>-0.966118</td>\n",
       "      <td>6.94</td>\n",
       "      <td>1.73</td>\n",
       "      <td>5.72</td>\n",
       "      <td>9.12</td>\n",
       "      <td>...</td>\n",
       "      <td>2.641</td>\n",
       "      <td>31.17</td>\n",
       "      <td>3.1524</td>\n",
       "      <td>92.14</td>\n",
       "      <td>0.87</td>\n",
       "      <td>0</td>\n",
       "      <td>0</td>\n",
       "      <td>76.81</td>\n",
       "      <td>-0.29584</td>\n",
       "      <td>0.0237</td>\n",
       "    </tr>\n",
       "    <tr>\n",
       "      <th>...</th>\n",
       "      <td>...</td>\n",
       "      <td>...</td>\n",
       "      <td>...</td>\n",
       "      <td>...</td>\n",
       "      <td>...</td>\n",
       "      <td>...</td>\n",
       "      <td>...</td>\n",
       "      <td>...</td>\n",
       "      <td>...</td>\n",
       "      <td>...</td>\n",
       "      <td>...</td>\n",
       "      <td>...</td>\n",
       "      <td>...</td>\n",
       "      <td>...</td>\n",
       "      <td>...</td>\n",
       "      <td>...</td>\n",
       "      <td>...</td>\n",
       "      <td>...</td>\n",
       "      <td>...</td>\n",
       "      <td>...</td>\n",
       "      <td>...</td>\n",
       "    </tr>\n",
       "    <tr>\n",
       "      <th>Addition of thiols to imines (Denmark) 30</th>\n",
       "      <td>74.179</td>\n",
       "      <td>74.164</td>\n",
       "      <td>74.1715</td>\n",
       "      <td>54.611</td>\n",
       "      <td>47</td>\n",
       "      <td>0.123573</td>\n",
       "      <td>11.16</td>\n",
       "      <td>3.27</td>\n",
       "      <td>7.58</td>\n",
       "      <td>6.83</td>\n",
       "      <td>...</td>\n",
       "      <td>2.641</td>\n",
       "      <td>31.17</td>\n",
       "      <td>3.1524</td>\n",
       "      <td>92.14</td>\n",
       "      <td>0.87</td>\n",
       "      <td>0</td>\n",
       "      <td>0</td>\n",
       "      <td>76.81</td>\n",
       "      <td>-0.29584</td>\n",
       "      <td>0.0237</td>\n",
       "    </tr>\n",
       "    <tr>\n",
       "      <th>Addition of thiols to imines (Denmark) 31</th>\n",
       "      <td>74.179</td>\n",
       "      <td>74.164</td>\n",
       "      <td>74.1715</td>\n",
       "      <td>54.611</td>\n",
       "      <td>47</td>\n",
       "      <td>0.123573</td>\n",
       "      <td>11.16</td>\n",
       "      <td>3.27</td>\n",
       "      <td>7.58</td>\n",
       "      <td>6.83</td>\n",
       "      <td>...</td>\n",
       "      <td>2.641</td>\n",
       "      <td>31.17</td>\n",
       "      <td>3.1524</td>\n",
       "      <td>92.14</td>\n",
       "      <td>0.87</td>\n",
       "      <td>0</td>\n",
       "      <td>0</td>\n",
       "      <td>76.81</td>\n",
       "      <td>-0.29584</td>\n",
       "      <td>0.0237</td>\n",
       "    </tr>\n",
       "    <tr>\n",
       "      <th>Addition of thiols to imines (Denmark) 32</th>\n",
       "      <td>74.179</td>\n",
       "      <td>74.164</td>\n",
       "      <td>74.1715</td>\n",
       "      <td>54.611</td>\n",
       "      <td>47</td>\n",
       "      <td>0.123573</td>\n",
       "      <td>11.16</td>\n",
       "      <td>3.27</td>\n",
       "      <td>7.58</td>\n",
       "      <td>6.83</td>\n",
       "      <td>...</td>\n",
       "      <td>2.641</td>\n",
       "      <td>31.17</td>\n",
       "      <td>3.1524</td>\n",
       "      <td>92.14</td>\n",
       "      <td>0.87</td>\n",
       "      <td>0</td>\n",
       "      <td>0</td>\n",
       "      <td>76.81</td>\n",
       "      <td>-0.29584</td>\n",
       "      <td>0.0237</td>\n",
       "    </tr>\n",
       "    <tr>\n",
       "      <th>Addition of thiols to imines (Denmark) 33</th>\n",
       "      <td>74.179</td>\n",
       "      <td>74.164</td>\n",
       "      <td>74.1715</td>\n",
       "      <td>54.611</td>\n",
       "      <td>47</td>\n",
       "      <td>0.123573</td>\n",
       "      <td>11.16</td>\n",
       "      <td>3.27</td>\n",
       "      <td>7.58</td>\n",
       "      <td>6.83</td>\n",
       "      <td>...</td>\n",
       "      <td>2.641</td>\n",
       "      <td>31.17</td>\n",
       "      <td>3.1524</td>\n",
       "      <td>92.14</td>\n",
       "      <td>0.87</td>\n",
       "      <td>0</td>\n",
       "      <td>0</td>\n",
       "      <td>76.81</td>\n",
       "      <td>-0.29584</td>\n",
       "      <td>0.0237</td>\n",
       "    </tr>\n",
       "    <tr>\n",
       "      <th>Addition of thiols to imines (Denmark) 34</th>\n",
       "      <td>74.179</td>\n",
       "      <td>74.164</td>\n",
       "      <td>74.1715</td>\n",
       "      <td>54.611</td>\n",
       "      <td>47</td>\n",
       "      <td>0.123573</td>\n",
       "      <td>11.16</td>\n",
       "      <td>3.27</td>\n",
       "      <td>7.58</td>\n",
       "      <td>6.83</td>\n",
       "      <td>...</td>\n",
       "      <td>2.641</td>\n",
       "      <td>31.17</td>\n",
       "      <td>3.1524</td>\n",
       "      <td>92.14</td>\n",
       "      <td>0.87</td>\n",
       "      <td>0</td>\n",
       "      <td>0</td>\n",
       "      <td>76.81</td>\n",
       "      <td>-0.29584</td>\n",
       "      <td>0.0237</td>\n",
       "    </tr>\n",
       "  </tbody>\n",
       "</table>\n",
       "<p>64 rows × 257 columns</p>\n",
       "</div>"
      ],
      "text/plain": [
       "                                                 arhs    alhs     aavg  \\\n",
       "Reaction                                                                 \n",
       "Addition of enecarbamates to benzoyl imines 1  78.854  78.853  78.8535   \n",
       "Addition of enecarbamates to benzoyl imines 2  78.854  78.853  78.8535   \n",
       "Addition of enecarbamates to benzoyl imines 3  78.854  78.853  78.8535   \n",
       "Addition of enecarbamates to benzoyl imines 4  78.854  78.853  78.8535   \n",
       "Addition of enecarbamates to benzoyl imines 5  78.854  78.853  78.8535   \n",
       "...                                               ...     ...      ...   \n",
       "Addition of thiols to imines (Denmark) 30      74.179  74.164  74.1715   \n",
       "Addition of thiols to imines (Denmark) 31      74.179  74.164  74.1715   \n",
       "Addition of thiols to imines (Denmark) 32      74.179  74.164  74.1715   \n",
       "Addition of thiols to imines (Denmark) 33      74.179  74.164  74.1715   \n",
       "Addition of thiols to imines (Denmark) 34      74.179  74.164  74.1715   \n",
       "\n",
       "                                                    b AREA(q) sin(AREA)  \\\n",
       "Reaction                                                                  \n",
       "Addition of enecarbamates to benzoyl imines 1  55.161      61 -0.966118   \n",
       "Addition of enecarbamates to benzoyl imines 2  55.161      61 -0.966118   \n",
       "Addition of enecarbamates to benzoyl imines 3  55.161      61 -0.966118   \n",
       "Addition of enecarbamates to benzoyl imines 4  55.161      61 -0.966118   \n",
       "Addition of enecarbamates to benzoyl imines 5  55.161      61 -0.966118   \n",
       "...                                               ...     ...       ...   \n",
       "Addition of thiols to imines (Denmark) 30      54.611      47  0.123573   \n",
       "Addition of thiols to imines (Denmark) 31      54.611      47  0.123573   \n",
       "Addition of thiols to imines (Denmark) 32      54.611      47  0.123573   \n",
       "Addition of thiols to imines (Denmark) 33      54.611      47  0.123573   \n",
       "Addition of thiols to imines (Denmark) 34      54.611      47  0.123573   \n",
       "\n",
       "                                              Lwhole R B1whole R B5whole R  \\\n",
       "Reaction                                                                     \n",
       "Addition of enecarbamates to benzoyl imines 1     6.94      1.73      5.72   \n",
       "Addition of enecarbamates to benzoyl imines 2     6.94      1.73      5.72   \n",
       "Addition of enecarbamates to benzoyl imines 3     6.94      1.73      5.72   \n",
       "Addition of enecarbamates to benzoyl imines 4     6.94      1.73      5.72   \n",
       "Addition of enecarbamates to benzoyl imines 5     6.94      1.73      5.72   \n",
       "...                                                ...       ...       ...   \n",
       "Addition of thiols to imines (Denmark) 30        11.16      3.27      7.58   \n",
       "Addition of thiols to imines (Denmark) 31        11.16      3.27      7.58   \n",
       "Addition of thiols to imines (Denmark) 32        11.16      3.27      7.58   \n",
       "Addition of thiols to imines (Denmark) 33        11.16      3.27      7.58   \n",
       "Addition of thiols to imines (Denmark) 34        11.16      3.27      7.58   \n",
       "\n",
       "                                               L2 R  ...  CLOGP     MR  \\\n",
       "Reaction                                             ...                 \n",
       "Addition of enecarbamates to benzoyl imines 1  9.12  ...  2.641  31.17   \n",
       "Addition of enecarbamates to benzoyl imines 2  9.12  ...  2.641  31.17   \n",
       "Addition of enecarbamates to benzoyl imines 3  9.12  ...  2.641  31.17   \n",
       "Addition of enecarbamates to benzoyl imines 4  9.12  ...  2.641  31.17   \n",
       "Addition of enecarbamates to benzoyl imines 5  9.12  ...  2.641  31.17   \n",
       "...                                             ...  ...    ...    ...   \n",
       "Addition of thiols to imines (Denmark) 30      6.83  ...  2.641  31.17   \n",
       "Addition of thiols to imines (Denmark) 31      6.83  ...  2.641  31.17   \n",
       "Addition of thiols to imines (Denmark) 32      6.83  ...  2.641  31.17   \n",
       "Addition of thiols to imines (Denmark) 33      6.83  ...  2.641  31.17   \n",
       "Addition of thiols to imines (Denmark) 34      6.83  ...  2.641  31.17   \n",
       "\n",
       "                                                  CMR    RMM Density  \\\n",
       "Reaction                                                               \n",
       "Addition of enecarbamates to benzoyl imines 1  3.1524  92.14    0.87   \n",
       "Addition of enecarbamates to benzoyl imines 2  3.1524  92.14    0.87   \n",
       "Addition of enecarbamates to benzoyl imines 3  3.1524  92.14    0.87   \n",
       "Addition of enecarbamates to benzoyl imines 4  3.1524  92.14    0.87   \n",
       "Addition of enecarbamates to benzoyl imines 5  3.1524  92.14    0.87   \n",
       "...                                               ...    ...     ...   \n",
       "Addition of thiols to imines (Denmark) 30      3.1524  92.14    0.87   \n",
       "Addition of thiols to imines (Denmark) 31      3.1524  92.14    0.87   \n",
       "Addition of thiols to imines (Denmark) 32      3.1524  92.14    0.87   \n",
       "Addition of thiols to imines (Denmark) 33      3.1524  92.14    0.87   \n",
       "Addition of thiols to imines (Denmark) 34      3.1524  92.14    0.87   \n",
       "\n",
       "                                              no. of H bond donor  \\\n",
       "Reaction                                                            \n",
       "Addition of enecarbamates to benzoyl imines 1                   0   \n",
       "Addition of enecarbamates to benzoyl imines 2                   0   \n",
       "Addition of enecarbamates to benzoyl imines 3                   0   \n",
       "Addition of enecarbamates to benzoyl imines 4                   0   \n",
       "Addition of enecarbamates to benzoyl imines 5                   0   \n",
       "...                                                           ...   \n",
       "Addition of thiols to imines (Denmark) 30                       0   \n",
       "Addition of thiols to imines (Denmark) 31                       0   \n",
       "Addition of thiols to imines (Denmark) 32                       0   \n",
       "Addition of thiols to imines (Denmark) 33                       0   \n",
       "Addition of thiols to imines (Denmark) 34                       0   \n",
       "\n",
       "                                              no. H bond acceptor  \\\n",
       "Reaction                                                            \n",
       "Addition of enecarbamates to benzoyl imines 1                   0   \n",
       "Addition of enecarbamates to benzoyl imines 2                   0   \n",
       "Addition of enecarbamates to benzoyl imines 3                   0   \n",
       "Addition of enecarbamates to benzoyl imines 4                   0   \n",
       "Addition of enecarbamates to benzoyl imines 5                   0   \n",
       "...                                                           ...   \n",
       "Addition of thiols to imines (Denmark) 30                       0   \n",
       "Addition of thiols to imines (Denmark) 31                       0   \n",
       "Addition of thiols to imines (Denmark) 32                       0   \n",
       "Addition of thiols to imines (Denmark) 33                       0   \n",
       "Addition of thiols to imines (Denmark) 34                       0   \n",
       "\n",
       "                                              Polarizability (solvent)  \\\n",
       "Reaction                                                                 \n",
       "Addition of enecarbamates to benzoyl imines 1                    76.81   \n",
       "Addition of enecarbamates to benzoyl imines 2                    76.81   \n",
       "Addition of enecarbamates to benzoyl imines 3                    76.81   \n",
       "Addition of enecarbamates to benzoyl imines 4                    76.81   \n",
       "Addition of enecarbamates to benzoyl imines 5                    76.81   \n",
       "...                                                                ...   \n",
       "Addition of thiols to imines (Denmark) 30                        76.81   \n",
       "Addition of thiols to imines (Denmark) 31                        76.81   \n",
       "Addition of thiols to imines (Denmark) 32                        76.81   \n",
       "Addition of thiols to imines (Denmark) 33                        76.81   \n",
       "Addition of thiols to imines (Denmark) 34                        76.81   \n",
       "\n",
       "                                              HOMO (solvent) LUMO (solvent)  \n",
       "Reaction                                                                     \n",
       "Addition of enecarbamates to benzoyl imines 1       -0.29584         0.0237  \n",
       "Addition of enecarbamates to benzoyl imines 2       -0.29584         0.0237  \n",
       "Addition of enecarbamates to benzoyl imines 3       -0.29584         0.0237  \n",
       "Addition of enecarbamates to benzoyl imines 4       -0.29584         0.0237  \n",
       "Addition of enecarbamates to benzoyl imines 5       -0.29584         0.0237  \n",
       "...                                                      ...            ...  \n",
       "Addition of thiols to imines (Denmark) 30           -0.29584         0.0237  \n",
       "Addition of thiols to imines (Denmark) 31           -0.29584         0.0237  \n",
       "Addition of thiols to imines (Denmark) 32           -0.29584         0.0237  \n",
       "Addition of thiols to imines (Denmark) 33           -0.29584         0.0237  \n",
       "Addition of thiols to imines (Denmark) 34           -0.29584         0.0237  \n",
       "\n",
       "[64 rows x 257 columns]"
      ]
     },
     "execution_count": 30,
     "metadata": {},
     "output_type": "execute_result"
    }
   ],
   "source": [
    "X_out_of_sample"
   ]
  },
  {
   "cell_type": "code",
   "execution_count": 29,
   "metadata": {},
   "outputs": [],
   "source": [
    "X_out_of_sample.to_excel('X_oos.xlsx')\n",
    "Y_out_of_sample.to_excel('Y_oos.xlsx')"
   ]
  },
  {
   "cell_type": "markdown",
   "metadata": {},
   "source": [
    "###############################################################################################################################\n",
    "\n",
    "End of Data Processing\n",
    "\n",
    "Cross Validation Section\n",
    "\n",
    "###############################################################################################################################"
   ]
  },
  {
   "cell_type": "code",
   "execution_count": 22,
   "metadata": {},
   "outputs": [
    {
     "name": "stdout",
     "output_type": "stream",
     "text": [
      "2.3059584408612205e+23\n"
     ]
    },
    {
     "data": {
      "text/plain": [
       "array([-9.54683742e+17, -1.17206284e+18, -1.73705493e+21, -1.34337633e+21,\n",
       "       -7.96280521e+19, -2.17923976e+23, -4.71262204e+00, -1.62744143e+00,\n",
       "        1.87796706e-01, -9.50968179e+21])"
      ]
     },
     "execution_count": 22,
     "metadata": {},
     "output_type": "execute_result"
    }
   ],
   "source": [
    "model_cvs = LinearRegression()\n",
    "\n",
    "scores = cross_val_score(model_cvs, X, Y, cv = 10)\n",
    "print(sum(np.abs(scores)))\n",
    "scores"
   ]
  },
  {
   "cell_type": "code",
   "execution_count": 23,
   "metadata": {},
   "outputs": [
    {
     "name": "stdout",
     "output_type": "stream",
     "text": [
      "56 Hydrophosphonylation of imines Catalyst screening data 3 [-1.82179633] 0.4327774968834095 [-2.25457382]\n",
      "56 Hydrophosphonylation of imines Catalyst screening data 3 [-2.25457382]\n",
      "235 Transfer Hydrogenation of N-aryl imines (Rueping) Imine scope 3 [-0.81185225] 1.201124727515497 [-2.01297698]\n",
      "235 Transfer Hydrogenation of N-aryl imines (Rueping) Imine scope 3 [-2.01297698]\n",
      "237 Transfer Hydrogenation of N-aryl imines (Rueping) Imine scope 5 [-0.81882986] 1.257809284477365 [-2.07663914]\n",
      "237 Transfer Hydrogenation of N-aryl imines (Rueping) Imine scope 5 [-2.07663914]\n",
      "238 Transfer Hydrogenation of N-aryl imines (Rueping) Imine scope 6 [-0.80262901] 1.201124727515497 [-2.00375374]\n",
      "238 Transfer Hydrogenation of N-aryl imines (Rueping) Imine scope 6 [-2.00375374]\n",
      "239 Transfer Hydrogenation of N-aryl imines (Rueping) Imine scope 7 [-0.83631842] 1.616030205239777 [-2.45234863]\n",
      "239 Transfer Hydrogenation of N-aryl imines (Rueping) Imine scope 7 [-2.45234863]\n",
      "240 Transfer Hydrogenation of N-aryl imines (Rueping) Imine scope 8 [-0.85678931] 1.383382752349264 [-2.24017207]\n",
      "240 Transfer Hydrogenation of N-aryl imines (Rueping) Imine scope 8 [-2.24017207]\n",
      "241 Transfer Hydrogenation of N-aryl imines (Rueping) Imine scope 9 [-0.84406656] 1.383382752349264 [-2.22744932]\n",
      "241 Transfer Hydrogenation of N-aryl imines (Rueping) Imine scope 9 [-2.22744932]\n",
      "244 Transfer Hydrogenation of N-aryl imines (Rueping) Imine scope 12 [-0.81160414] 1.201124727515497 [-2.01272887]\n",
      "244 Transfer Hydrogenation of N-aryl imines (Rueping) Imine scope 12 [-2.01272887]\n",
      "245 Transfer Hydrogenation of N-aryl imines (Rueping) Imine scope 13 [-0.85529] 1.530865137225877 [-2.38615513]\n",
      "245 Transfer Hydrogenation of N-aryl imines (Rueping) Imine scope 13 [-2.38615513]\n",
      "262 Transfer Hydrogenation of N-aryl imines by benzothiazoline Catalyst screening data 3 [2.95052917] 0.9306179806499254 [2.01991119]\n",
      "262 Transfer Hydrogenation of N-aryl imines by benzothiazoline Catalyst screening data 3 [2.01991119]\n",
      "314 Transfer Hydrogenation of ethyl ketimines Scope 2 dihydropyridine 8 [1.5016371] -0.6664138548148211 [2.16805095]\n",
      "314 Transfer Hydrogenation of ethyl ketimines Scope 2 dihydropyridine 8 [2.16805095]\n"
     ]
    }
   ],
   "source": [
    "predict_model_cvs = LinearRegression()\n",
    "\n",
    "y_pred = cross_val_predict(predict_model_cvs, X.loc[:, [\n",
    "'B53',\n",
    "'iPOsy',\n",
    "'nPOas',\n",
    "'iPOas',\n",
    "'nXH',\n",
    "'iXH',\n",
    "'Polarizability',\n",
    "'H-X-Nu',\n",
    "'H-X-CNu',\n",
    "'Schultz Molecular Topological',\n",
    "'Schultz Molecular Topological by valence vertex degrees',\n",
    "'Gutman Molecular Topological',\n",
    "'Gutman MTI by valence vertex degrees',\n",
    "'Centralization',\n",
    "'ALOGP2',\n",
    "'PEOE5',\n",
    "'RMM',\n",
    "'Z-iminium nNH',\n",
    "'Z-iminium i NH'\n",
    "]], Y, cv = 4)\n",
    "\n",
    "for k in range(406):\n",
    "    if y_pred[k] - Y.iloc[k,0] > 2 or y_pred[k] - Y.iloc[k,0] < -2:\n",
    "        print(k, X.index[k], y_pred[k], Y.iloc[k, 0], y_pred[k] - Y.iloc[k,0])\n",
    "        print(k, X.index[k], y_pred[k] - Y.iloc[k,0])\n"
   ]
  },
  {
   "cell_type": "code",
   "execution_count": 24,
   "metadata": {},
   "outputs": [
    {
     "name": "stdout",
     "output_type": "stream",
     "text": [
      "1.146619498461431\n"
     ]
    },
    {
     "data": {
      "text/plain": [
       "array([ 0.03900283, -0.36852153,  0.35142756,  0.38766758])"
      ]
     },
     "execution_count": 24,
     "metadata": {},
     "output_type": "execute_result"
    }
   ],
   "source": [
    "lasso_cvs = Lasso()\n",
    "\n",
    "scores = cross_val_score(lasso_cvs, X, Y, cv = 4)\n",
    "print(sum(np.abs(scores)))\n",
    "scores\n",
    "\n",
    "#lasso_cvs.get_params()"
   ]
  },
  {
   "cell_type": "code",
   "execution_count": 25,
   "metadata": {},
   "outputs": [],
   "source": [
    "predict_lasso_cvs = Lasso()\n",
    "\n",
    "y_pred = cross_val_predict(predict_lasso_cvs, X, Y, cv = 4)\n",
    "\n",
    "#for k in range(406):\n",
    " #   if y_pred[k] - Y.iloc[k,0] > 2 or y_pred[k] - Y.iloc[k,0] < -2:\n",
    "  #      print(k, X.index[k], y_pred[k], Y.iloc[k, 0], y_pred[k] - Y.iloc[k,0])\n",
    "   #     print(k, X.index[k], y_pred[k] - Y.iloc[k,0])\n",
    "\n",
    "results = pd.concat([Y.reset_index(), pd.DataFrame(y_pred)], axis = 1)\n",
    "results.set_index('Reaction', inplace = True)\n",
    "results.columns = ['Actual', 'Predicted']\n",
    "results['Residual'] = results['Actual'] - results['Predicted']\n",
    "\n",
    "#results.head(406)\n",
    "#print(predict_lasso_cvs.coef_)"
   ]
  },
  {
   "cell_type": "code",
   "execution_count": 26,
   "metadata": {},
   "outputs": [
    {
     "data": {
      "text/plain": [
       "[<matplotlib.lines.Line2D at 0x2058b1f9ec8>]"
      ]
     },
     "execution_count": 26,
     "metadata": {},
     "output_type": "execute_result"
    },
    {
     "data": {
      "image/png": "[encoded data removed]",
      "text/plain": [
       "<Figure size 432x288 with 1 Axes>"
      ]
     },
     "metadata": {
      "needs_background": "light"
     },
     "output_type": "display_data"
    }
   ],
   "source": [
    "x = np.linspace(-4,4,10)\n",
    "\n",
    "plt.scatter(Y['ΔΔG‡'], y_pred)\n",
    "plt.xlim(-1, 4)\n",
    "plt.ylim(-1, 4)\n",
    "plt.xlabel('Actual G values')\n",
    "plt.ylabel('Predicted G values')\n",
    "plt.plot(x, x)\n",
    "\n",
    "#does not show outlier"
   ]
  },
  {
   "cell_type": "code",
   "execution_count": 27,
   "metadata": {},
   "outputs": [
    {
     "name": "stdout",
     "output_type": "stream",
     "text": [
      "17.087666738988002\n"
     ]
    },
    {
     "data": {
      "text/plain": [
       "array([-5.76404296, -8.75420788, -2.07023924,  0.49917666])"
      ]
     },
     "execution_count": 27,
     "metadata": {},
     "output_type": "execute_result"
    }
   ],
   "source": [
    "ridge_cvs = Ridge()\n",
    "\n",
    "scores = cross_val_score(ridge_cvs, X, Y, cv = 4)\n",
    "print(sum(np.abs(scores)))\n",
    "scores\n",
    "\n",
    "#lasso_cvs.get_params()"
   ]
  },
  {
   "cell_type": "code",
   "execution_count": 28,
   "metadata": {},
   "outputs": [],
   "source": [
    "predict_ridge_cvs = Ridge()\n",
    "\n",
    "y_pred = cross_val_predict(predict_ridge_cvs, X, Y, cv = 4)\n",
    "\n",
    "#for k in range(406):\n",
    " #   if y_pred[k] - Y.iloc[k,0] > 2 or y_pred[k] - Y.iloc[k,0] < -2:\n",
    "  #      print(k, X.index[k], y_pred[k], Y.iloc[k, 0], y_pred[k] - Y.iloc[k,0])\n",
    "   #     print(k, X.index[k], y_pred[k] - Y.iloc[k,0])\n",
    "    \n",
    "results = pd.concat([Y.reset_index(), pd.DataFrame(y_pred)], axis = 1)\n",
    "results.set_index('Reaction', inplace = True)\n",
    "results.columns = ['Actual', 'Predicted']\n",
    "results['Residual'] = results['Actual'] - results['Predicted']\n",
    "\n",
    "#results.head(406)\n",
    "#print(predict_lasso_cvs.coef_)"
   ]
  },
  {
   "cell_type": "code",
   "execution_count": 29,
   "metadata": {},
   "outputs": [
    {
     "data": {
      "text/plain": [
       "[<matplotlib.lines.Line2D at 0x2058b6ecc08>]"
      ]
     },
     "execution_count": 29,
     "metadata": {},
     "output_type": "execute_result"
    },
    {
     "data": {
      "image/png": "[encoded data removed]",
      "text/plain": [
       "<Figure size 432x288 with 1 Axes>"
      ]
     },
     "metadata": {
      "needs_background": "light"
     },
     "output_type": "display_data"
    }
   ],
   "source": [
    "x = np.linspace(-4,4,10)\n",
    "\n",
    "plt.scatter(Y['ΔΔG‡'], y_pred)\n",
    "#plt.xlim(-1, 4)\n",
    "#plt.ylim(-1, 4)\n",
    "plt.xlabel('Actual G values')\n",
    "plt.ylabel('Predicted G values')\n",
    "plt.plot(x, x)\n",
    "#does not show outlier"
   ]
  },
  {
   "cell_type": "code",
   "execution_count": 30,
   "metadata": {},
   "outputs": [
    {
     "name": "stdout",
     "output_type": "stream",
     "text": [
      "5.61409129649048\n"
     ]
    },
    {
     "data": {
      "text/plain": [
       "array([-0.25365918, -1.81190111, -3.28195374,  0.26657727])"
      ]
     },
     "execution_count": 30,
     "metadata": {},
     "output_type": "execute_result"
    }
   ],
   "source": [
    "tree_cvs = DecisionTreeRegressor()\n",
    "\n",
    "scores = cross_val_score(tree_cvs, X, Y, cv = 4)\n",
    "print(sum(np.abs(scores)))\n",
    "scores"
   ]
  },
  {
   "cell_type": "code",
   "execution_count": 31,
   "metadata": {},
   "outputs": [],
   "source": [
    "predict_tree_cvs = DecisionTreeRegressor()\n",
    "\n",
    "y_pred = cross_val_predict(predict_tree_cvs, X, Y, cv = 4)\n",
    "\n",
    "#for k in range(406):\n",
    " #   if y_pred[k] - Y.iloc[k,0] > 2 or y_pred[k] - Y.iloc[k,0] < -2:\n",
    "  #      print(k, X.index[k], y_pred[k], Y.iloc[k, 0], y_pred[k] - Y.iloc[k,0])\n",
    "   #     print(k, X.index[k], y_pred[k] - Y.iloc[k,0])\n",
    "        \n",
    "results = pd.concat([Y.reset_index(), pd.DataFrame(y_pred)], axis = 1)\n",
    "results.set_index('Reaction', inplace = True)\n",
    "results.columns = ['Actual', 'Predicted']\n",
    "results['Residual'] = results['Actual'] - results['Predicted']\n",
    "\n",
    "#results.head(406)"
   ]
  },
  {
   "cell_type": "code",
   "execution_count": 32,
   "metadata": {},
   "outputs": [
    {
     "data": {
      "text/plain": [
       "[<matplotlib.lines.Line2D at 0x2058bcaca08>]"
      ]
     },
     "execution_count": 32,
     "metadata": {},
     "output_type": "execute_result"
    },
    {
     "data": {
      "image/png": "[encoded data removed]",
      "text/plain": [
       "<Figure size 432x288 with 1 Axes>"
      ]
     },
     "metadata": {
      "needs_background": "light"
     },
     "output_type": "display_data"
    }
   ],
   "source": [
    "x = np.linspace(-4,4,10)\n",
    "\n",
    "plt.scatter(Y['ΔΔG‡'], y_pred)\n",
    "plt.xlim(-1, 4)\n",
    "plt.ylim(-1, 4)\n",
    "plt.xlabel('Actual G values')\n",
    "plt.ylabel('Predicted G values')\n",
    "plt.plot(x, x)\n",
    "#does not show outlier"
   ]
  },
  {
   "cell_type": "code",
   "execution_count": 33,
   "metadata": {},
   "outputs": [
    {
     "name": "stdout",
     "output_type": "stream",
     "text": [
      "2.0532549554277466\n"
     ]
    },
    {
     "data": {
      "text/plain": [
       "array([ 0.24444105, -0.73795744, -0.52027977,  0.5505767 ])"
      ]
     },
     "execution_count": 33,
     "metadata": {},
     "output_type": "execute_result"
    }
   ],
   "source": [
    "boosting_cvs = GradientBoostingRegressor()\n",
    "\n",
    "scores = cross_val_score(boosting_cvs, X, Y.values.ravel(), cv = 4)\n",
    "print(sum(np.abs(scores)))\n",
    "scores\n"
   ]
  },
  {
   "cell_type": "code",
   "execution_count": 34,
   "metadata": {
    "scrolled": true
   },
   "outputs": [],
   "source": [
    "predict_boosting_cvs = GradientBoostingRegressor()\n",
    "\n",
    "y_pred = cross_val_predict(predict_boosting_cvs, X, Y.values.ravel(), cv = 4)\n",
    "\n",
    "#for k in range(406):\n",
    " #   if y_pred[k] - Y.iloc[k,0] > 2 or y_pred[k] - Y.iloc[k,0] < -2:\n",
    "  #      print(k, X.index[k], y_pred[k], Y.iloc[k, 0], y_pred[k] - Y.iloc[k,0])\n",
    "   #     print(k, X.index[k], y_pred[k] - Y.iloc[k,0])\n",
    "        \n",
    "results = pd.concat([Y.reset_index(), pd.DataFrame(y_pred)], axis = 1)\n",
    "results.set_index('Reaction', inplace = True)\n",
    "results.columns = ['Actual', 'Predicted']\n",
    "results['Residual'] = results['Actual'] - results['Predicted']"
   ]
  },
  {
   "cell_type": "code",
   "execution_count": 35,
   "metadata": {},
   "outputs": [
    {
     "data": {
      "text/plain": [
       "[<matplotlib.lines.Line2D at 0x2058bede948>]"
      ]
     },
     "execution_count": 35,
     "metadata": {},
     "output_type": "execute_result"
    },
    {
     "data": {
      "image/png": "[encoded data removed]",
      "text/plain": [
       "<Figure size 432x288 with 1 Axes>"
      ]
     },
     "metadata": {
      "needs_background": "light"
     },
     "output_type": "display_data"
    }
   ],
   "source": [
    "x = np.linspace(-4,4,10)\n",
    "\n",
    "plt.scatter(Y['ΔΔG‡'], y_pred)\n",
    "plt.xlim(-1, 4)\n",
    "plt.ylim(-1, 4)\n",
    "plt.xlabel('Actual G values')\n",
    "plt.ylabel('Predicted G values')\n",
    "plt.plot(x, x)\n",
    "#does not show outlier"
   ]
  },
  {
   "cell_type": "code",
   "execution_count": 36,
   "metadata": {},
   "outputs": [
    {
     "name": "stdout",
     "output_type": "stream",
     "text": [
      "2.9634074169215454\n"
     ]
    },
    {
     "data": {
      "text/plain": [
       "array([-0.00157955, -0.97542209, -1.51941834,  0.46698744])"
      ]
     },
     "execution_count": 36,
     "metadata": {},
     "output_type": "execute_result"
    }
   ],
   "source": [
    "forest_cvs = RandomForestRegressor()\n",
    "\n",
    "scores = cross_val_score(forest_cvs, X, Y.values.ravel(), cv = 4)\n",
    "print(sum(np.abs(scores)))\n",
    "scores"
   ]
  },
  {
   "cell_type": "code",
   "execution_count": 37,
   "metadata": {},
   "outputs": [
    {
     "name": "stdout",
     "output_type": "stream",
     "text": [
      "0.5154499831362367\n",
      "0.24957960732170303\n"
     ]
    }
   ],
   "source": [
    "predict_forest_cvs = RandomForestRegressor()\n",
    "\n",
    "y_pred = cross_val_predict(predict_forest_cvs, X, Y.values.ravel(), cv = 4)\n",
    "\n",
    "#for k in range(406):\n",
    " #   if y_pred[k] - Y.iloc[k,0] > 2 or y_pred[k] - Y.iloc[k,0] < -2:\n",
    "  #      print(k, X.index[k], y_pred[k], Y.iloc[k, 0], y_pred[k] - Y.iloc[k,0])\n",
    "   #     print(k, X.index[k], y_pred[k] - Y.iloc[k,0])\n",
    "    \n",
    "results = pd.concat([Y.reset_index(), pd.DataFrame(y_pred)], axis = 1)\n",
    "results.set_index('Reaction', inplace = True)\n",
    "results.columns = ['Actual', 'Predicted']\n",
    "results['Residual'] = results['Actual'] - results['Predicted']\n",
    "print(mean_squared_error(results['Actual'], results['Predicted']))\n",
    "print(r2_score(results['Actual'], results['Predicted']))"
   ]
  },
  {
   "cell_type": "code",
   "execution_count": 38,
   "metadata": {},
   "outputs": [
    {
     "data": {
      "text/plain": [
       "[<matplotlib.lines.Line2D at 0x2058be1ef08>]"
      ]
     },
     "execution_count": 38,
     "metadata": {},
     "output_type": "execute_result"
    },
    {
     "data": {
      "image/png": "[encoded data removed]",
      "text/plain": [
       "<Figure size 432x288 with 1 Axes>"
      ]
     },
     "metadata": {
      "needs_background": "light"
     },
     "output_type": "display_data"
    }
   ],
   "source": [
    "x = np.linspace(-4,4,10)\n",
    "\n",
    "plt.scatter(Y['ΔΔG‡'], y_pred)\n",
    "plt.xlim(-1, 4)\n",
    "plt.ylim(-1, 4)\n",
    "plt.xlabel('Actual G values')\n",
    "plt.ylabel('Predicted G values')\n",
    "plt.plot(x, x)\n",
    "#does not show outlier"
   ]
  },
  {
   "cell_type": "markdown",
   "metadata": {},
   "source": [
    "###############################################################################################################################\n",
    "\n",
    "End of cross validation\n",
    "\n",
    "Model development with train test split\n",
    "\n",
    "###############################################################################################################################"
   ]
  },
  {
   "cell_type": "code",
   "execution_count": 1,
   "metadata": {},
   "outputs": [
    {
     "ename": "NameError",
     "evalue": "name 'LinearRegression' is not defined",
     "output_type": "error",
     "traceback": [
      "\u001b[1;31m---------------------------------------------------------------------------\u001b[0m",
      "\u001b[1;31mNameError\u001b[0m                                 Traceback (most recent call last)",
      "\u001b[1;32m<ipython-input-1-4840b8734d40>\u001b[0m in \u001b[0;36m<module>\u001b[1;34m\u001b[0m\n\u001b[1;32m----> 1\u001b[1;33m \u001b[0mmodel\u001b[0m \u001b[1;33m=\u001b[0m \u001b[0mLinearRegression\u001b[0m\u001b[1;33m(\u001b[0m\u001b[1;33m)\u001b[0m\u001b[1;33m\u001b[0m\u001b[1;33m\u001b[0m\u001b[0m\n\u001b[0m\u001b[0;32m      2\u001b[0m \u001b[1;33m\u001b[0m\u001b[0m\n\u001b[0;32m      3\u001b[0m X_train, X_test, Y_train, Y_test = train_test_split(X.loc[:, [\n\u001b[0;32m      4\u001b[0m \u001b[1;34m'B53'\u001b[0m\u001b[1;33m,\u001b[0m\u001b[1;33m\u001b[0m\u001b[1;33m\u001b[0m\u001b[0m\n\u001b[0;32m      5\u001b[0m \u001b[1;34m'iPOsy'\u001b[0m\u001b[1;33m,\u001b[0m\u001b[1;33m\u001b[0m\u001b[1;33m\u001b[0m\u001b[0m\n",
      "\u001b[1;31mNameError\u001b[0m: name 'LinearRegression' is not defined"
     ]
    }
   ],
   "source": [
    "model = LinearRegression()\n",
    "\n",
    "X_train, X_test, Y_train, Y_test = train_test_split(X.loc[:, [\n",
    "'B53',\n",
    "'iPOsy',\n",
    "'nPOas',\n",
    "'iPOas',\n",
    "'nXH',\n",
    "'iXH',\n",
    "'Polarizability',\n",
    "'H-X-Nu',\n",
    "'H-X-CNu',\n",
    "'Schultz Molecular Topological',\n",
    "'Schultz Molecular Topological by valence vertex degrees',\n",
    "'Gutman Molecular Topological',\n",
    "'Gutman MTI by valence vertex degrees',\n",
    "'Centralization',\n",
    "'ALOGP2',\n",
    "'PEOE5',\n",
    "'RMM',\n",
    "'Z-iminium nNH',\n",
    "'Z-iminium i NH'\n",
    "]], Y, test_size = 0.1, random_state = 4)\n",
    "\n",
    "model.fit(X_train.reset_index().drop(['Reaction'], axis = 1), Y_train.reset_index().drop('Reaction', axis = 1))\n",
    "Y_pred = model.predict(X_test.reset_index().drop(['Reaction'], axis = 1))\n",
    "\n",
    "results = pd.concat([Y_test.reset_index(), pd.DataFrame(Y_pred)], axis = 1)\n",
    "results.set_index('Reaction', inplace = True)\n",
    "results.columns = ['Actual', 'Predicted']\n",
    "\n",
    "print(mean_squared_error(Y_test, Y_pred))\n",
    "print(r2_score(Y_test, Y_pred))\n",
    "results\n",
    "\n",
    "#print(model.intercept_)\n",
    "print(model.coef_)\n",
    "#print(model.coef_.shape)"
   ]
  },
  {
   "cell_type": "code",
   "execution_count": 40,
   "metadata": {},
   "outputs": [
    {
     "data": {
      "text/plain": [
       "Text(0, 0.5, 'Predicted G values')"
      ]
     },
     "execution_count": 40,
     "metadata": {},
     "output_type": "execute_result"
    },
    {
     "data": {
      "image/png": "[encoded data removed]",
      "text/plain": [
       "<Figure size 432x288 with 1 Axes>"
      ]
     },
     "metadata": {
      "needs_background": "light"
     },
     "output_type": "display_data"
    }
   ],
   "source": [
    "x = np.linspace(0,3.5,10)\n",
    "\n",
    "plt.scatter(results['Actual'], results['Predicted'], color = 'b')\n",
    "#plt.scatter(train_results['Actual'], train_results['Predicted'], color = 'r')\n",
    "#plt.xlim(0, 4)\n",
    "#plt.ylim(-1, 3)\n",
    "plt.plot(x, x)\n",
    "plt.xlabel('Actual G values')\n",
    "plt.ylabel('Predicted G values')"
   ]
  },
  {
   "cell_type": "code",
   "execution_count": 41,
   "metadata": {},
   "outputs": [
    {
     "name": "stdout",
     "output_type": "stream",
     "text": [
      "MSE: 0.198165185600555\n",
      "r^2: 0.6075912539311663\n",
      "Total r^2 score: 0.6427520133563508\n"
     ]
    },
    {
     "name": "stderr",
     "output_type": "stream",
     "text": [
      "C:\\Users\\jlisd\\Anaconda3\\lib\\site-packages\\sklearn\\linear_model\\_coordinate_descent.py:476: ConvergenceWarning: Objective did not converge. You might want to increase the number of iterations. Duality gap: 1.720662602559571, tolerance: 0.02578850847923468\n",
      "  positive)\n"
     ]
    }
   ],
   "source": [
    "lasso_model = Lasso(alpha = 0.1)\n",
    "X_train, X_test, Y_train, Y_test = train_test_split(X, Y, test_size = 0.1, random_state = 3)\n",
    "\n",
    "lasso_model.fit(X_train.reset_index().drop(['Reaction'], axis = 1), Y_train.reset_index().drop('Reaction', axis = 1))\n",
    "Y_pred = lasso_model.predict(X_test.reset_index().drop(['Reaction'], axis = 1))\n",
    "\n",
    "results = pd.concat([Y_test.reset_index(), pd.DataFrame(Y_pred)], axis = 1)\n",
    "results.set_index('Reaction', inplace = True)\n",
    "results.columns = ['Actual', 'Predicted']\n",
    "\n",
    "print('MSE: ' + str(mean_squared_error(Y_test, Y_pred)))\n",
    "print('r^2: ' + str(r2_score(Y_test, Y_pred)))\n",
    "results.head()\n",
    "\n",
    "Y_train_pred = lasso_model.predict(X_train.reset_index().drop(['Reaction'], axis = 1))\n",
    "train_results = pd.concat([Y_train.reset_index(), pd.DataFrame(Y_train_pred)], axis = 1)\n",
    "train_results.set_index('Reaction', inplace = True)\n",
    "train_results.columns = ['Actual', 'Predicted']\n",
    "\n",
    "all_results = pd.concat([train_results, results])\n",
    "all_results\n",
    "print('Total r^2 score: ' + str(r2_score(all_results['Actual'], all_results['Predicted'])))"
   ]
  },
  {
   "cell_type": "code",
   "execution_count": 42,
   "metadata": {},
   "outputs": [
    {
     "data": {
      "text/html": [
       "<div>\n",
       "<style scoped>\n",
       "    .dataframe tbody tr th:only-of-type {\n",
       "        vertical-align: middle;\n",
       "    }\n",
       "\n",
       "    .dataframe tbody tr th {\n",
       "        vertical-align: top;\n",
       "    }\n",
       "\n",
       "    .dataframe thead th {\n",
       "        text-align: right;\n",
       "    }\n",
       "</style>\n",
       "<table border=\"1\" class=\"dataframe\">\n",
       "  <thead>\n",
       "    <tr style=\"text-align: right;\">\n",
       "      <th></th>\n",
       "      <th>Coefficient</th>\n",
       "      <th>Abs Val Coefficient</th>\n",
       "    </tr>\n",
       "    <tr>\n",
       "      <th>Feature</th>\n",
       "      <th></th>\n",
       "      <th></th>\n",
       "    </tr>\n",
       "  </thead>\n",
       "  <tbody>\n",
       "    <tr>\n",
       "      <th>B53</th>\n",
       "      <td>0.038524</td>\n",
       "      <td>0.038524</td>\n",
       "    </tr>\n",
       "    <tr>\n",
       "      <th>Centralization</th>\n",
       "      <td>0.033901</td>\n",
       "      <td>0.033901</td>\n",
       "    </tr>\n",
       "    <tr>\n",
       "      <th>PEOE5</th>\n",
       "      <td>0.015594</td>\n",
       "      <td>0.015594</td>\n",
       "    </tr>\n",
       "    <tr>\n",
       "      <th>RMM</th>\n",
       "      <td>0.007851</td>\n",
       "      <td>0.007851</td>\n",
       "    </tr>\n",
       "    <tr>\n",
       "      <th>Gutman MTI by valence vertex degrees</th>\n",
       "      <td>0.007323</td>\n",
       "      <td>0.007323</td>\n",
       "    </tr>\n",
       "    <tr>\n",
       "      <th>Schultz Molecular Topological</th>\n",
       "      <td>-0.007270</td>\n",
       "      <td>0.007270</td>\n",
       "    </tr>\n",
       "    <tr>\n",
       "      <th>H-X-CNu</th>\n",
       "      <td>-0.007236</td>\n",
       "      <td>0.007236</td>\n",
       "    </tr>\n",
       "    <tr>\n",
       "      <th>Gutman Molecular Topological</th>\n",
       "      <td>-0.004748</td>\n",
       "      <td>0.004748</td>\n",
       "    </tr>\n",
       "    <tr>\n",
       "      <th>Polarizability</th>\n",
       "      <td>0.004475</td>\n",
       "      <td>0.004475</td>\n",
       "    </tr>\n",
       "    <tr>\n",
       "      <th>nPOas</th>\n",
       "      <td>0.004421</td>\n",
       "      <td>0.004421</td>\n",
       "    </tr>\n",
       "    <tr>\n",
       "      <th>H-X-Nu</th>\n",
       "      <td>-0.004085</td>\n",
       "      <td>0.004085</td>\n",
       "    </tr>\n",
       "    <tr>\n",
       "      <th>iXH</th>\n",
       "      <td>-0.003945</td>\n",
       "      <td>0.003945</td>\n",
       "    </tr>\n",
       "    <tr>\n",
       "      <th>Z-iminium i NH</th>\n",
       "      <td>0.003424</td>\n",
       "      <td>0.003424</td>\n",
       "    </tr>\n",
       "    <tr>\n",
       "      <th>iPOsy</th>\n",
       "      <td>-0.003204</td>\n",
       "      <td>0.003204</td>\n",
       "    </tr>\n",
       "    <tr>\n",
       "      <th>iPOas</th>\n",
       "      <td>-0.002230</td>\n",
       "      <td>0.002230</td>\n",
       "    </tr>\n",
       "    <tr>\n",
       "      <th>Schultz Molecular Topological by valence vertex degrees</th>\n",
       "      <td>0.001605</td>\n",
       "      <td>0.001605</td>\n",
       "    </tr>\n",
       "    <tr>\n",
       "      <th>Z-iminium nNH</th>\n",
       "      <td>0.001163</td>\n",
       "      <td>0.001163</td>\n",
       "    </tr>\n",
       "    <tr>\n",
       "      <th>nXH</th>\n",
       "      <td>-0.001064</td>\n",
       "      <td>0.001064</td>\n",
       "    </tr>\n",
       "    <tr>\n",
       "      <th>ALOGP2</th>\n",
       "      <td>-0.001036</td>\n",
       "      <td>0.001036</td>\n",
       "    </tr>\n",
       "    <tr>\n",
       "      <th>Z-iminium Polarizability</th>\n",
       "      <td>-0.000688</td>\n",
       "      <td>0.000688</td>\n",
       "    </tr>\n",
       "    <tr>\n",
       "      <th>E-iminium Polarizability</th>\n",
       "      <td>0.000307</td>\n",
       "      <td>0.000307</td>\n",
       "    </tr>\n",
       "    <tr>\n",
       "      <th>E-iminium nNH</th>\n",
       "      <td>0.000259</td>\n",
       "      <td>0.000259</td>\n",
       "    </tr>\n",
       "    <tr>\n",
       "      <th>E-iminium i NH</th>\n",
       "      <td>-0.000053</td>\n",
       "      <td>0.000053</td>\n",
       "    </tr>\n",
       "    <tr>\n",
       "      <th>Connectivity index chi-4</th>\n",
       "      <td>-0.000000</td>\n",
       "      <td>0.000000</td>\n",
       "    </tr>\n",
       "    <tr>\n",
       "      <th>path/walk 4 - Randic shape index</th>\n",
       "      <td>-0.000000</td>\n",
       "      <td>0.000000</td>\n",
       "    </tr>\n",
       "  </tbody>\n",
       "</table>\n",
       "</div>"
      ],
      "text/plain": [
       "                                                    Coefficient  \\\n",
       "Feature                                                           \n",
       "B53                                                    0.038524   \n",
       "Centralization                                         0.033901   \n",
       "PEOE5                                                  0.015594   \n",
       "RMM                                                    0.007851   \n",
       "Gutman MTI by valence vertex degrees                   0.007323   \n",
       "Schultz Molecular Topological                         -0.007270   \n",
       "H-X-CNu                                               -0.007236   \n",
       "Gutman Molecular Topological                          -0.004748   \n",
       "Polarizability                                         0.004475   \n",
       "nPOas                                                  0.004421   \n",
       "H-X-Nu                                                -0.004085   \n",
       "iXH                                                   -0.003945   \n",
       "Z-iminium i NH                                         0.003424   \n",
       "iPOsy                                                 -0.003204   \n",
       "iPOas                                                 -0.002230   \n",
       "Schultz Molecular Topological by valence vertex...     0.001605   \n",
       "Z-iminium nNH                                          0.001163   \n",
       "nXH                                                   -0.001064   \n",
       "ALOGP2                                                -0.001036   \n",
       "Z-iminium Polarizability                              -0.000688   \n",
       "E-iminium Polarizability                               0.000307   \n",
       "E-iminium nNH                                          0.000259   \n",
       "E-iminium i NH                                        -0.000053   \n",
       "Connectivity index chi-4                              -0.000000   \n",
       "path/walk 4 - Randic shape index                      -0.000000   \n",
       "\n",
       "                                                    Abs Val Coefficient  \n",
       "Feature                                                                  \n",
       "B53                                                            0.038524  \n",
       "Centralization                                                 0.033901  \n",
       "PEOE5                                                          0.015594  \n",
       "RMM                                                            0.007851  \n",
       "Gutman MTI by valence vertex degrees                           0.007323  \n",
       "Schultz Molecular Topological                                  0.007270  \n",
       "H-X-CNu                                                        0.007236  \n",
       "Gutman Molecular Topological                                   0.004748  \n",
       "Polarizability                                                 0.004475  \n",
       "nPOas                                                          0.004421  \n",
       "H-X-Nu                                                         0.004085  \n",
       "iXH                                                            0.003945  \n",
       "Z-iminium i NH                                                 0.003424  \n",
       "iPOsy                                                          0.003204  \n",
       "iPOas                                                          0.002230  \n",
       "Schultz Molecular Topological by valence vertex...             0.001605  \n",
       "Z-iminium nNH                                                  0.001163  \n",
       "nXH                                                            0.001064  \n",
       "ALOGP2                                                         0.001036  \n",
       "Z-iminium Polarizability                                       0.000688  \n",
       "E-iminium Polarizability                                       0.000307  \n",
       "E-iminium nNH                                                  0.000259  \n",
       "E-iminium i NH                                                 0.000053  \n",
       "Connectivity index chi-4                                       0.000000  \n",
       "path/walk 4 - Randic shape index                               0.000000  "
      ]
     },
     "execution_count": 42,
     "metadata": {},
     "output_type": "execute_result"
    }
   ],
   "source": [
    "#print(len(lasso_model.coef_))\n",
    "#print(lasso_model.coef_)\n",
    "\n",
    "features = pd.concat([pd.DataFrame(X.columns), pd.DataFrame(lasso_model.coef_), pd.DataFrame(np.abs(lasso_model.coef_))], axis = 1)\n",
    "features.columns = ['Feature', 'Coefficient', 'Abs Val Coefficient']\n",
    "features.set_index('Feature', inplace = True)\n",
    "\n",
    "features.sort_values(by = ['Abs Val Coefficient'], ascending = False, inplace = True)\n",
    "\n",
    "features.head(25)\n",
    "#for i in range(299):\n",
    " #   if np.abs(features.iloc[i,0]) > 0.001:\n",
    "  #      print(i, features.index[i])"
   ]
  },
  {
   "cell_type": "code",
   "execution_count": 43,
   "metadata": {},
   "outputs": [
    {
     "data": {
      "text/plain": [
       "Text(0, 0.5, 'Predicted G values')"
      ]
     },
     "execution_count": 43,
     "metadata": {},
     "output_type": "execute_result"
    },
    {
     "data": {
      "image/png": "[encoded data removed]",
      "text/plain": [
       "<Figure size 432x288 with 1 Axes>"
      ]
     },
     "metadata": {
      "needs_background": "light"
     },
     "output_type": "display_data"
    }
   ],
   "source": [
    "x = np.linspace(0,3.5,10)\n",
    "\n",
    "plt.scatter(results['Actual'], results['Predicted'], color = 'b')\n",
    "plt.scatter(train_results['Actual'], train_results['Predicted'], color = 'r')\n",
    "#plt.xlim(0, 4)\n",
    "#plt.ylim(-1, 3)\n",
    "plt.plot(x, x)\n",
    "plt.xlabel('Actual G values')\n",
    "plt.ylabel('Predicted G values')"
   ]
  },
  {
   "cell_type": "code",
   "execution_count": 44,
   "metadata": {},
   "outputs": [
    {
     "name": "stdout",
     "output_type": "stream",
     "text": [
      "MSE: 0.11768325297643308\n",
      "r^2: 0.766962407681089\n",
      "Total r^2 score: 0.7511070982098729\n"
     ]
    }
   ],
   "source": [
    "ridge_model = Ridge()\n",
    "X_train, X_test, Y_train, Y_test = train_test_split(X, Y, test_size = 0.1, random_state = 3)\n",
    "\n",
    "ridge_model.fit(X_train.reset_index().drop(['Reaction'], axis = 1), Y_train.reset_index().drop('Reaction', axis = 1))\n",
    "Y_pred = ridge_model.predict(X_test.reset_index().drop(['Reaction'], axis = 1))\n",
    "\n",
    "results = pd.concat([Y_test.reset_index(), pd.DataFrame(Y_pred)], axis = 1)\n",
    "results.set_index('Reaction', inplace = True)\n",
    "results.columns = ['Actual', 'Predicted']\n",
    "\n",
    "print('MSE: ' + str(mean_squared_error(Y_test, Y_pred)))\n",
    "print('r^2: ' + str(r2_score(Y_test, Y_pred)))\n",
    "results.head()\n",
    "\n",
    "Y_train_pred = ridge_model.predict(X_train.reset_index().drop(['Reaction'], axis = 1))\n",
    "train_results = pd.concat([Y_train.reset_index(), pd.DataFrame(Y_train_pred)], axis = 1)\n",
    "train_results.set_index('Reaction', inplace = True)\n",
    "train_results.columns = ['Actual', 'Predicted']\n",
    "\n",
    "all_results = pd.concat([train_results, results])\n",
    "all_results\n",
    "print('Total r^2 score: ' + str(r2_score(all_results['Actual'], all_results['Predicted'])))"
   ]
  },
  {
   "cell_type": "code",
   "execution_count": 45,
   "metadata": {},
   "outputs": [
    {
     "data": {
      "text/plain": [
       "Text(0, 0.5, 'Predicted G values')"
      ]
     },
     "execution_count": 45,
     "metadata": {},
     "output_type": "execute_result"
    },
    {
     "data": {
      "image/png": "[encoded data removed]",
      "text/plain": [
       "<Figure size 432x288 with 1 Axes>"
      ]
     },
     "metadata": {
      "needs_background": "light"
     },
     "output_type": "display_data"
    }
   ],
   "source": [
    "x = np.linspace(0,3.5,10)\n",
    "\n",
    "plt.scatter(results['Actual'], results['Predicted'], color = 'b')\n",
    "plt.scatter(train_results['Actual'], train_results['Predicted'], color = 'r')\n",
    "#plt.xlim(0, 4)\n",
    "#plt.ylim(-1, 3)\n",
    "plt.plot(x, x)\n",
    "plt.xlabel('Actual G values')\n",
    "plt.ylabel('Predicted G values')"
   ]
  },
  {
   "cell_type": "code",
   "execution_count": 46,
   "metadata": {},
   "outputs": [
    {
     "name": "stdout",
     "output_type": "stream",
     "text": [
      "MSE: 0.24247192078402033\n",
      "test r^2: 0.51985459956851\n",
      "Total r^2 score: 0.9462216632755042\n"
     ]
    }
   ],
   "source": [
    "tree_model = DecisionTreeRegressor()\n",
    "X_train, X_test, Y_train, Y_test = train_test_split(X, Y, test_size = 0.1, random_state = 3)\n",
    "\n",
    "tree_model.fit(X_train.reset_index().drop(['Reaction'], axis = 1), Y_train.reset_index().drop('Reaction', axis = 1))\n",
    "Y_pred = tree_model.predict(X_test.reset_index().drop(['Reaction'], axis = 1))\n",
    "\n",
    "results = pd.concat([Y_test.reset_index(), pd.DataFrame(Y_pred)], axis = 1)\n",
    "results.set_index('Reaction', inplace = True)\n",
    "results.columns = ['Actual', 'Predicted']\n",
    "\n",
    "print('MSE: ' + str(mean_squared_error(Y_test, Y_pred)))\n",
    "print('test r^2: ' + str(r2_score(Y_test, Y_pred)))\n",
    "results.head()\n",
    "\n",
    "Y_train_pred = tree_model.predict(X_train.reset_index().drop(['Reaction'], axis = 1))\n",
    "train_results = pd.concat([Y_train.reset_index(), pd.DataFrame(Y_train_pred)], axis = 1)\n",
    "train_results.set_index('Reaction', inplace = True)\n",
    "train_results.columns = ['Actual', 'Predicted']\n",
    "\n",
    "all_results = pd.concat([train_results, results])\n",
    "all_results\n",
    "print('Total r^2 score: ' + str(r2_score(all_results['Actual'], all_results['Predicted'])))"
   ]
  },
  {
   "cell_type": "code",
   "execution_count": 47,
   "metadata": {},
   "outputs": [
    {
     "data": {
      "text/html": [
       "<div>\n",
       "<style scoped>\n",
       "    .dataframe tbody tr th:only-of-type {\n",
       "        vertical-align: middle;\n",
       "    }\n",
       "\n",
       "    .dataframe tbody tr th {\n",
       "        vertical-align: top;\n",
       "    }\n",
       "\n",
       "    .dataframe thead th {\n",
       "        text-align: right;\n",
       "    }\n",
       "</style>\n",
       "<table border=\"1\" class=\"dataframe\">\n",
       "  <thead>\n",
       "    <tr style=\"text-align: right;\">\n",
       "      <th></th>\n",
       "      <th>Importance</th>\n",
       "    </tr>\n",
       "    <tr>\n",
       "      <th>Feature</th>\n",
       "      <th></th>\n",
       "    </tr>\n",
       "  </thead>\n",
       "  <tbody>\n",
       "    <tr>\n",
       "      <th>B5</th>\n",
       "      <td>0.402698</td>\n",
       "    </tr>\n",
       "    <tr>\n",
       "      <th>Z-iminium LUMO</th>\n",
       "      <td>0.109735</td>\n",
       "    </tr>\n",
       "    <tr>\n",
       "      <th>B1whole</th>\n",
       "      <td>0.059477</td>\n",
       "    </tr>\n",
       "    <tr>\n",
       "      <th>Average connectivity index chi-3</th>\n",
       "      <td>0.042232</td>\n",
       "    </tr>\n",
       "    <tr>\n",
       "      <th>iPOsy</th>\n",
       "      <td>0.032014</td>\n",
       "    </tr>\n",
       "    <tr>\n",
       "      <th>L6.2</th>\n",
       "      <td>0.028959</td>\n",
       "    </tr>\n",
       "    <tr>\n",
       "      <th>Z-iminium SB5</th>\n",
       "      <td>0.028667</td>\n",
       "    </tr>\n",
       "    <tr>\n",
       "      <th>HOMO</th>\n",
       "      <td>0.027373</td>\n",
       "    </tr>\n",
       "    <tr>\n",
       "      <th>Total structure connectivity</th>\n",
       "      <td>0.021327</td>\n",
       "    </tr>\n",
       "    <tr>\n",
       "      <th>B52.1</th>\n",
       "      <td>0.020271</td>\n",
       "    </tr>\n",
       "    <tr>\n",
       "      <th>E-iminium SubL</th>\n",
       "      <td>0.018996</td>\n",
       "    </tr>\n",
       "    <tr>\n",
       "      <th>Z-iminium PG</th>\n",
       "      <td>0.018661</td>\n",
       "    </tr>\n",
       "    <tr>\n",
       "      <th>Nu</th>\n",
       "      <td>0.015410</td>\n",
       "    </tr>\n",
       "    <tr>\n",
       "      <th>nXH</th>\n",
       "      <td>0.012446</td>\n",
       "    </tr>\n",
       "    <tr>\n",
       "      <th>Z-iminium Polarizability</th>\n",
       "      <td>0.009833</td>\n",
       "    </tr>\n",
       "    <tr>\n",
       "      <th>B16</th>\n",
       "      <td>0.009497</td>\n",
       "    </tr>\n",
       "    <tr>\n",
       "      <th>Z-iminium N</th>\n",
       "      <td>0.008339</td>\n",
       "    </tr>\n",
       "    <tr>\n",
       "      <th>B1</th>\n",
       "      <td>0.008323</td>\n",
       "    </tr>\n",
       "    <tr>\n",
       "      <th>Z-iminium PGB1</th>\n",
       "      <td>0.008192</td>\n",
       "    </tr>\n",
       "    <tr>\n",
       "      <th>E-iminium electronic energy difference (kcal/mol)</th>\n",
       "      <td>0.007869</td>\n",
       "    </tr>\n",
       "    <tr>\n",
       "      <th>Polarizability</th>\n",
       "      <td>0.007495</td>\n",
       "    </tr>\n",
       "    <tr>\n",
       "      <th>Average connectivity index chi-5</th>\n",
       "      <td>0.005948</td>\n",
       "    </tr>\n",
       "    <tr>\n",
       "      <th>X</th>\n",
       "      <td>0.005472</td>\n",
       "    </tr>\n",
       "    <tr>\n",
       "      <th>E-iminium H</th>\n",
       "      <td>0.005107</td>\n",
       "    </tr>\n",
       "    <tr>\n",
       "      <th>E-iminium C</th>\n",
       "      <td>0.004925</td>\n",
       "    </tr>\n",
       "  </tbody>\n",
       "</table>\n",
       "</div>"
      ],
      "text/plain": [
       "                                                   Importance\n",
       "Feature                                                      \n",
       "B5                                                   0.402698\n",
       "Z-iminium LUMO                                       0.109735\n",
       "B1whole                                              0.059477\n",
       "Average connectivity index chi-3                     0.042232\n",
       "iPOsy                                                0.032014\n",
       "L6.2                                                 0.028959\n",
       "Z-iminium SB5                                        0.028667\n",
       "HOMO                                                 0.027373\n",
       "Total structure connectivity                         0.021327\n",
       "B52.1                                                0.020271\n",
       "E-iminium SubL                                       0.018996\n",
       "Z-iminium PG                                         0.018661\n",
       "Nu                                                   0.015410\n",
       "nXH                                                  0.012446\n",
       "Z-iminium Polarizability                             0.009833\n",
       "B16                                                  0.009497\n",
       "Z-iminium N                                          0.008339\n",
       "B1                                                   0.008323\n",
       "Z-iminium PGB1                                       0.008192\n",
       "E-iminium electronic energy difference (kcal/mol)    0.007869\n",
       "Polarizability                                       0.007495\n",
       "Average connectivity index chi-5                     0.005948\n",
       "X                                                    0.005472\n",
       "E-iminium H                                          0.005107\n",
       "E-iminium C                                          0.004925"
      ]
     },
     "execution_count": 47,
     "metadata": {},
     "output_type": "execute_result"
    }
   ],
   "source": [
    "tree_model.feature_importances_\n",
    "features = pd.concat([pd.DataFrame(X.columns), pd.DataFrame(tree_model.feature_importances_)], axis = 1)\n",
    "features.columns = ['Feature', 'Importance']\n",
    "features.set_index('Feature', inplace = True)\n",
    "features.sort_values(by = ['Importance'], ascending = False, inplace = True)\n",
    "\n",
    "features.head(25)\n",
    "#for i in range(299):\n",
    " #   if np.abs(features.iloc[i,0]) > 0.01:\n",
    "  #      print(i, features.index[i])"
   ]
  },
  {
   "cell_type": "code",
   "execution_count": 48,
   "metadata": {},
   "outputs": [
    {
     "data": {
      "text/plain": [
       "Text(0, 0.5, 'Predicted G values')"
      ]
     },
     "execution_count": 48,
     "metadata": {},
     "output_type": "execute_result"
    },
    {
     "data": {
      "image/png": "[encoded data removed]",
      "text/plain": [
       "<Figure size 432x288 with 1 Axes>"
      ]
     },
     "metadata": {
      "needs_background": "light"
     },
     "output_type": "display_data"
    }
   ],
   "source": [
    "x = np.linspace(0,3.5,10)\n",
    "\n",
    "plt.scatter(results['Actual'], results['Predicted'], color = 'b')\n",
    "plt.scatter(train_results['Actual'], train_results['Predicted'], color = 'r')\n",
    "#plt.xlim(0, 4)\n",
    "#plt.ylim(-1, 3)\n",
    "plt.plot(x, x)\n",
    "plt.xlabel('Actual G values')\n",
    "plt.ylabel('Predicted G values')"
   ]
  },
  {
   "cell_type": "code",
   "execution_count": 49,
   "metadata": {},
   "outputs": [
    {
     "name": "stdout",
     "output_type": "stream",
     "text": [
      "MSE: 0.08433701332333737\n",
      "test r^2: 0.8329949756557609\n",
      "Total r^2 score: 0.9038171699458056\n"
     ]
    }
   ],
   "source": [
    "boosting_tree = GradientBoostingRegressor()\n",
    "X_train, X_test, Y_train, Y_test = train_test_split(X, Y, test_size = 0.1, random_state = 3)\n",
    "\n",
    "boosting_tree.fit(X_train.reset_index().drop(['Reaction'], axis = 1), Y_train.reset_index().drop('Reaction', axis = 1).values.ravel())\n",
    "Y_pred = boosting_tree.predict(X_test.reset_index().drop(['Reaction'], axis = 1))\n",
    "\n",
    "results = pd.concat([Y_test.reset_index(), pd.DataFrame(Y_pred)], axis = 1)\n",
    "results.set_index('Reaction', inplace = True)\n",
    "results.columns = ['Actual', 'Predicted']\n",
    "\n",
    "print('MSE: ' + str(mean_squared_error(Y_test, Y_pred)))\n",
    "print('test r^2: ' + str(r2_score(Y_test, Y_pred)))\n",
    "results.head()\n",
    "\n",
    "Y_train_pred = boosting_tree.predict(X_train.reset_index().drop(['Reaction'], axis = 1))\n",
    "train_results = pd.concat([Y_train.reset_index(), pd.DataFrame(Y_train_pred)], axis = 1)\n",
    "train_results.set_index('Reaction', inplace = True)\n",
    "train_results.columns = ['Actual', 'Predicted']\n",
    "train_results\n",
    "\n",
    "all_results = pd.concat([train_results, results])\n",
    "all_results\n",
    "print('Total r^2 score: ' + str(r2_score(all_results['Actual'], all_results['Predicted'])))"
   ]
  },
  {
   "cell_type": "code",
   "execution_count": 50,
   "metadata": {},
   "outputs": [
    {
     "data": {
      "text/html": [
       "<div>\n",
       "<style scoped>\n",
       "    .dataframe tbody tr th:only-of-type {\n",
       "        vertical-align: middle;\n",
       "    }\n",
       "\n",
       "    .dataframe tbody tr th {\n",
       "        vertical-align: top;\n",
       "    }\n",
       "\n",
       "    .dataframe thead th {\n",
       "        text-align: right;\n",
       "    }\n",
       "</style>\n",
       "<table border=\"1\" class=\"dataframe\">\n",
       "  <thead>\n",
       "    <tr style=\"text-align: right;\">\n",
       "      <th></th>\n",
       "      <th>Importance</th>\n",
       "    </tr>\n",
       "    <tr>\n",
       "      <th>Feature</th>\n",
       "      <th></th>\n",
       "    </tr>\n",
       "  </thead>\n",
       "  <tbody>\n",
       "    <tr>\n",
       "      <th>B5</th>\n",
       "      <td>0.397273</td>\n",
       "    </tr>\n",
       "    <tr>\n",
       "      <th>Z-iminium LUMO</th>\n",
       "      <td>0.076987</td>\n",
       "    </tr>\n",
       "    <tr>\n",
       "      <th>Average connectivity index chi-3</th>\n",
       "      <td>0.030486</td>\n",
       "    </tr>\n",
       "    <tr>\n",
       "      <th>B1whole.2</th>\n",
       "      <td>0.029182</td>\n",
       "    </tr>\n",
       "    <tr>\n",
       "      <th>C2.2</th>\n",
       "      <td>0.025650</td>\n",
       "    </tr>\n",
       "    <tr>\n",
       "      <th>Z-iminium PG</th>\n",
       "      <td>0.023498</td>\n",
       "    </tr>\n",
       "    <tr>\n",
       "      <th>LUMO</th>\n",
       "      <td>0.021349</td>\n",
       "    </tr>\n",
       "    <tr>\n",
       "      <th>X</th>\n",
       "      <td>0.019601</td>\n",
       "    </tr>\n",
       "    <tr>\n",
       "      <th>E-iminium LL</th>\n",
       "      <td>0.018093</td>\n",
       "    </tr>\n",
       "    <tr>\n",
       "      <th>E-iminium PGB5</th>\n",
       "      <td>0.014801</td>\n",
       "    </tr>\n",
       "    <tr>\n",
       "      <th>B1whole.1</th>\n",
       "      <td>0.014200</td>\n",
       "    </tr>\n",
       "    <tr>\n",
       "      <th>iPOas</th>\n",
       "      <td>0.013685</td>\n",
       "    </tr>\n",
       "    <tr>\n",
       "      <th>C6</th>\n",
       "      <td>0.012257</td>\n",
       "    </tr>\n",
       "    <tr>\n",
       "      <th>C2</th>\n",
       "      <td>0.012222</td>\n",
       "    </tr>\n",
       "    <tr>\n",
       "      <th>Z-iminium H</th>\n",
       "      <td>0.011695</td>\n",
       "    </tr>\n",
       "    <tr>\n",
       "      <th>Z-iminium i NH</th>\n",
       "      <td>0.011608</td>\n",
       "    </tr>\n",
       "    <tr>\n",
       "      <th>HOMO</th>\n",
       "      <td>0.011119</td>\n",
       "    </tr>\n",
       "    <tr>\n",
       "      <th>Nu</th>\n",
       "      <td>0.010293</td>\n",
       "    </tr>\n",
       "    <tr>\n",
       "      <th>B16.1</th>\n",
       "      <td>0.008977</td>\n",
       "    </tr>\n",
       "    <tr>\n",
       "      <th>iXH</th>\n",
       "      <td>0.008970</td>\n",
       "    </tr>\n",
       "    <tr>\n",
       "      <th>B56</th>\n",
       "      <td>0.008730</td>\n",
       "    </tr>\n",
       "    <tr>\n",
       "      <th>ALOGP3</th>\n",
       "      <td>0.008431</td>\n",
       "    </tr>\n",
       "    <tr>\n",
       "      <th>LUMO</th>\n",
       "      <td>0.007878</td>\n",
       "    </tr>\n",
       "    <tr>\n",
       "      <th>P</th>\n",
       "      <td>0.007824</td>\n",
       "    </tr>\n",
       "    <tr>\n",
       "      <th>Topological charge index of order 3</th>\n",
       "      <td>0.007794</td>\n",
       "    </tr>\n",
       "  </tbody>\n",
       "</table>\n",
       "</div>"
      ],
      "text/plain": [
       "                                     Importance\n",
       "Feature                                        \n",
       "B5                                     0.397273\n",
       "Z-iminium LUMO                         0.076987\n",
       "Average connectivity index chi-3       0.030486\n",
       "B1whole.2                              0.029182\n",
       "C2.2                                   0.025650\n",
       "Z-iminium PG                           0.023498\n",
       "LUMO                                   0.021349\n",
       "X                                      0.019601\n",
       "E-iminium LL                           0.018093\n",
       "E-iminium PGB5                         0.014801\n",
       "B1whole.1                              0.014200\n",
       "iPOas                                  0.013685\n",
       "C6                                     0.012257\n",
       "C2                                     0.012222\n",
       "Z-iminium H                            0.011695\n",
       "Z-iminium i NH                         0.011608\n",
       "HOMO                                   0.011119\n",
       "Nu                                     0.010293\n",
       "B16.1                                  0.008977\n",
       "iXH                                    0.008970\n",
       "B56                                    0.008730\n",
       "ALOGP3                                 0.008431\n",
       "LUMO                                   0.007878\n",
       "P                                      0.007824\n",
       "Topological charge index of order 3    0.007794"
      ]
     },
     "execution_count": 50,
     "metadata": {},
     "output_type": "execute_result"
    }
   ],
   "source": [
    "boosting_tree.feature_importances_\n",
    "features = pd.concat([pd.DataFrame(X.columns), pd.DataFrame(boosting_tree.feature_importances_)], axis = 1)\n",
    "features.columns = ['Feature', 'Importance']\n",
    "features.set_index('Feature', inplace = True)\n",
    "features.sort_values(by = ['Importance'], ascending = False, inplace = True)\n",
    "\n",
    "features.head(25)\n",
    "#for i in range(299):\n",
    " #   if features.iloc[i,0] > 0.01:\n",
    "  #      print(i, features.index[i])\n",
    "        \n"
   ]
  },
  {
   "cell_type": "code",
   "execution_count": 51,
   "metadata": {},
   "outputs": [
    {
     "data": {
      "text/plain": [
       "Text(0, 0.5, 'Predicted G values')"
      ]
     },
     "execution_count": 51,
     "metadata": {},
     "output_type": "execute_result"
    },
    {
     "data": {
      "image/png": "[encoded data removed]",
      "text/plain": [
       "<Figure size 432x288 with 1 Axes>"
      ]
     },
     "metadata": {
      "needs_background": "light"
     },
     "output_type": "display_data"
    }
   ],
   "source": [
    "x = np.linspace(0,3.5,10)\n",
    "\n",
    "plt.scatter(results['Actual'], results['Predicted'], color = 'b')\n",
    "plt.scatter(train_results['Actual'], train_results['Predicted'], color = 'r')\n",
    "#plt.xlim(0, 4)\n",
    "#plt.ylim(-1, 3)\n",
    "plt.plot(x, x)\n",
    "plt.xlabel('Actual G values')\n",
    "plt.ylabel('Predicted G values')"
   ]
  },
  {
   "cell_type": "code",
   "execution_count": 52,
   "metadata": {},
   "outputs": [
    {
     "name": "stdout",
     "output_type": "stream",
     "text": [
      "MSE: 0.1758937577635538\n",
      "r^2: 0.7190372884142726\n",
      "Total r^2 score: 0.8450673126758032\n"
     ]
    }
   ],
   "source": [
    "forest = RandomForestRegressor()\n",
    "X_train, X_test, Y_train, Y_test = train_test_split(X, Y, test_size = 0.5, random_state = 3)\n",
    "\n",
    "forest.fit(X_train.reset_index().drop(['Reaction'], axis = 1), Y_train.reset_index().drop('Reaction', axis = 1).values.ravel())\n",
    "Y_pred = forest.predict(X_test.reset_index().drop(['Reaction'], axis = 1))\n",
    "\n",
    "results = pd.concat([Y_test.reset_index(), pd.DataFrame(Y_pred)], axis = 1)\n",
    "results.set_index('Reaction', inplace = True)\n",
    "results.columns = ['Actual', 'Predicted']\n",
    "\n",
    "print('MSE: ' + str(mean_squared_error(Y_test, Y_pred)))\n",
    "print('r^2: ' + str(r2_score(Y_test, Y_pred)))\n",
    "results.head()\n",
    "\n",
    "Y_train_pred = forest.predict(X_train.reset_index().drop(['Reaction'], axis = 1))\n",
    "train_results = pd.concat([Y_train.reset_index(), pd.DataFrame(Y_train_pred)], axis = 1)\n",
    "train_results.set_index('Reaction', inplace = True)\n",
    "train_results.columns = ['Actual', 'Predicted']\n",
    "train_results\n",
    "\n",
    "all_results = pd.concat([train_results, results])\n",
    "all_results\n",
    "print('Total r^2 score: ' + str(r2_score(all_results['Actual'], all_results['Predicted'])))"
   ]
  },
  {
   "cell_type": "code",
   "execution_count": 53,
   "metadata": {},
   "outputs": [
    {
     "name": "stdout",
     "output_type": "stream",
     "text": [
      "MSE: 0.07559138792472475\n",
      "r^2: 0.8503131533460389\n",
      "                                                     Actual  Predicted\n",
      "Reaction                                                              \n",
      "Transfer Hydrogenation of N-aryl imines (Ruepin...  0.72692   0.772114\n",
      "Addition of thiols Catalyst & solvent screening...  0.55924   1.062406\n",
      "Addition of thiols to imines (Denmark) 14            3.1343   2.935734\n",
      "Addition of thiols Imine scope 6                    2.72089   2.647436\n",
      "Addition of diazomethylphosphonates Imine scope 1   2.45065   2.248336\n",
      "...                                                     ...        ...\n",
      "Transfer Hydrogenation of N-aryl imines by benz...  2.94915   2.809448\n",
      "Hydrogenation of fluorinated alkynyl ketimines 10   2.60253   2.662828\n",
      "Addition of diazoacetamides Catalyst screening ...  1.30103   1.394562\n",
      "Transfer Hydrogenation of b,g-Alkynyl a-Imino E...  2.16929   1.917177\n",
      "Transfer Hydrogenation of N-aryl imines by benz...  2.03968   1.956290\n",
      "\n",
      "[406 rows x 2 columns]\n",
      "Total r^2 score: 0.8801730954401249\n"
     ]
    }
   ],
   "source": [
    "#testing less features\n",
    "forest = RandomForestRegressor()\n",
    "X_train, X_test, Y_train, Y_test = train_test_split(X.loc[:, ['B5', 'iXH', 'Nu', 'iPOas', 'X', 'HOMO', 'B1whole.2', 'B1whole.1',\n",
    "       'nXH', 'Polarizability', 'C2', 'LUMO', 'iPOsy', 'H',\n",
    "       'Balaban distance connectivity index', 'Mean Distance Degree Deviation',\n",
    "       'L', 'Average eccentricity', 'B1whole', 'C2.2', 'Superpendentic',\n",
    "       'B5whole.1', 'P', 'Maximal electrotopological positive variation',\n",
    "       'Variation']], Y, test_size = 0.1, random_state = 3)\n",
    "\n",
    "forest.fit(X_train.reset_index().drop(['Reaction'], axis = 1), Y_train.reset_index().drop('Reaction', axis = 1).values.ravel())\n",
    "Y_pred = forest.predict(X_test.reset_index().drop(['Reaction'], axis = 1))\n",
    "\n",
    "results = pd.concat([Y_test.reset_index(), pd.DataFrame(Y_pred)], axis = 1)\n",
    "results.set_index('Reaction', inplace = True)\n",
    "results.columns = ['Actual', 'Predicted']\n",
    "\n",
    "print('MSE: ' + str(mean_squared_error(Y_test, Y_pred)))\n",
    "print('r^2: ' + str(r2_score(Y_test, Y_pred)))\n",
    "results.head()\n",
    "\n",
    "Y_train_pred = forest.predict(X_train.reset_index().drop(['Reaction'], axis = 1))\n",
    "train_results = pd.concat([Y_train.reset_index(), pd.DataFrame(Y_train_pred)], axis = 1)\n",
    "train_results.set_index('Reaction', inplace = True)\n",
    "train_results.columns = ['Actual', 'Predicted']\n",
    "train_results\n",
    "\n",
    "all_results = pd.concat([train_results, results])\n",
    "print(all_results)\n",
    "print('Total r^2 score: ' + str(r2_score(all_results['Actual'], all_results['Predicted'])))"
   ]
  },
  {
   "cell_type": "code",
   "execution_count": 54,
   "metadata": {},
   "outputs": [
    {
     "name": "stdout",
     "output_type": "stream",
     "text": [
      "[1.70365345 1.93974982 2.03092836 1.26468319 2.03092836 1.67270925\n",
      " 1.82965857 0.74297995 0.18612615 1.70365345 1.82068808 2.03092836\n",
      " 1.26468319 2.10810206 2.66282771 2.92446768 0.74297995 0.86376328\n",
      " 1.2755288  2.10810206 1.89954991 1.82965857 2.93573416 2.66282771\n",
      " 0.36195343 1.82965857 1.2755288  1.2755288  1.91717683 0.48240387\n",
      " 1.91717683 2.80944779 2.24833616 2.45417108 1.54301031 1.82068808\n",
      " 2.80944779 2.66282771 1.39456158 1.91717683 1.95628983]\n"
     ]
    }
   ],
   "source": [
    "print(Y_pred)"
   ]
  },
  {
   "cell_type": "code",
   "execution_count": 55,
   "metadata": {},
   "outputs": [
    {
     "name": "stdout",
     "output_type": "stream",
     "text": [
      "Index(['arhs', 'alhs', 'C1', 'sin(AREA)', 'b', 'L6', 'L5', 'B53', 'C4',\n",
      "       'B5whole', 'AREA(q)', 'B56', 'L3', 'C3', 'B1whole', 'B55', 'B16', 'C2',\n",
      "       'B13', 'aavg', 'L2', 'B15', 'L4', 'B12', 'Lwhole'],\n",
      "      dtype='object', name='Feature')\n"
     ]
    }
   ],
   "source": [
    "forest.feature_importances_\n",
    "features = pd.concat([pd.DataFrame(X.columns), pd.DataFrame(forest.feature_importances_)], axis = 1)\n",
    "features.columns = ['Feature', 'Importance']\n",
    "features.set_index('Feature', inplace = True)\n",
    "features.sort_values(by = ['Importance'], ascending = False, inplace = True)\n",
    "\n",
    "features.head(25)\n",
    "#for i in range(299):\n",
    "    #if features.iloc[i,0] > 0.005:\n",
    "        #print(i, features.index[i])\n",
    "        \n",
    "print(features.index[0:25])"
   ]
  },
  {
   "cell_type": "code",
   "execution_count": 56,
   "metadata": {},
   "outputs": [
    {
     "data": {
      "text/plain": [
       "Text(0, 0.5, 'Predicted G values')"
      ]
     },
     "execution_count": 56,
     "metadata": {},
     "output_type": "execute_result"
    },
    {
     "data": {
      "image/png": "[encoded data removed]",
      "text/plain": [
       "<Figure size 432x288 with 1 Axes>"
      ]
     },
     "metadata": {
      "needs_background": "light"
     },
     "output_type": "display_data"
    }
   ],
   "source": [
    "x = np.linspace(0,3.5,10)\n",
    "\n",
    "plt.scatter(results['Actual'], results['Predicted'], color = 'b')\n",
    "plt.scatter(train_results['Actual'], train_results['Predicted'], color = 'r')\n",
    "#plt.xlim(0, 4)\n",
    "#plt.ylim(-1, 3)\n",
    "plt.plot(x, x)\n",
    "plt.xlabel('Actual G values')\n",
    "plt.ylabel('Predicted G values')"
   ]
  },
  {
   "cell_type": "markdown",
   "metadata": {},
   "source": [
    "###############################################################################################################################\n",
    "\n",
    "End of train test split section\n",
    "\n",
    "Replicating Paper models + extra\n",
    "\n",
    "###############################################################################################################################"
   ]
  },
  {
   "cell_type": "code",
   "execution_count": 57,
   "metadata": {},
   "outputs": [
    {
     "name": "stdout",
     "output_type": "stream",
     "text": [
      "MSE: 0.21376160204065084\n",
      "r^2: 0.6920434162664698\n",
      "Total r^2 score: 0.817008720582098\n"
     ]
    }
   ],
   "source": [
    "#50 50 TS VS Split\n",
    "\n",
    "forest = RandomForestRegressor()\n",
    "\n",
    "X_train, X_val, Y_train, Y_val = train_test_split(X, Y, test_size = 0.5, random_state = 15)\n",
    "\n",
    "forest.fit(X_train.reset_index().drop(['Reaction'], axis = 1), Y_train.reset_index().drop('Reaction', axis = 1).values.ravel())\n",
    "y_pred = cross_val_predict(forest, X_val, Y_val.values.ravel(), cv = 4)\n",
    "\n",
    "results = pd.concat([Y_val.reset_index(), pd.DataFrame(y_pred)], axis = 1)\n",
    "results.set_index('Reaction', inplace = True)\n",
    "results.columns = ['Actual', 'Predicted']\n",
    "results['Residual'] = results['Actual'] - results['Predicted']\n",
    "results\n",
    "\n",
    "print('MSE: ' + str(mean_squared_error(Y_val, y_pred)))\n",
    "print('r^2: ' + str(r2_score(Y_val, y_pred)))\n",
    "\n",
    "Y_train_pred = forest.predict(X_train.reset_index().drop(['Reaction'], axis = 1))\n",
    "train_results = pd.concat([Y_train.reset_index(), pd.DataFrame(Y_train_pred)], axis = 1)\n",
    "train_results.set_index('Reaction', inplace = True)\n",
    "train_results.columns = ['Actual', 'Predicted']\n",
    "train_results\n",
    "\n",
    "all_results = pd.concat([train_results, results])\n",
    "all_results\n",
    "print('Total r^2 score: ' + str(r2_score(all_results['Actual'], all_results['Predicted'])))"
   ]
  },
  {
   "cell_type": "code",
   "execution_count": 58,
   "metadata": {},
   "outputs": [
    {
     "data": {
      "text/plain": [
       "Text(0, 0.5, 'Predicted G values')"
      ]
     },
     "execution_count": 58,
     "metadata": {},
     "output_type": "execute_result"
    },
    {
     "data": {
      "image/png": "[encoded data removed]",
      "text/plain": [
       "<Figure size 432x288 with 1 Axes>"
      ]
     },
     "metadata": {
      "needs_background": "light"
     },
     "output_type": "display_data"
    }
   ],
   "source": [
    "x = np.linspace(-0.5,3.5,10)\n",
    "\n",
    "plt.scatter(results['Actual'], results['Predicted'], color = 'b')\n",
    "plt.scatter(train_results['Actual'], train_results['Predicted'], color = 'r')\n",
    "#plt.xlim(0, 4)\n",
    "#plt.ylim(-1, 3)\n",
    "plt.plot(x, x)\n",
    "plt.xlabel('Actual G values')\n",
    "plt.ylabel('Predicted G values')"
   ]
  },
  {
   "cell_type": "code",
   "execution_count": 59,
   "metadata": {},
   "outputs": [
    {
     "name": "stdout",
     "output_type": "stream",
     "text": [
      "MSE: 0.3058439983365875\n",
      "r^2: 0.39436455744624677\n",
      "Total r^2 score: 0.9106024991206411\n"
     ]
    }
   ],
   "source": [
    "#Leave one out\n",
    "forest = RandomForestRegressor()\n",
    "\n",
    "X_train, X_val, Y_train, Y_val = train_test_split(X, Y, test_size = 0.1, random_state = 3)\n",
    "\n",
    "forest.fit(X_train.reset_index().drop(['Reaction'], axis = 1), Y_train.reset_index().drop('Reaction', axis = 1).values.ravel())\n",
    "y_pred = cross_val_predict(forest, X_val, Y_val.values.ravel(), cv = X_val.shape[0])\n",
    "\n",
    "results = pd.concat([Y_val.reset_index(), pd.DataFrame(y_pred)], axis = 1)\n",
    "results.set_index('Reaction', inplace = True)\n",
    "results.columns = ['Actual', 'Predicted']\n",
    "results['Residual'] = results['Actual'] - results['Predicted']\n",
    "results\n",
    "\n",
    "print('MSE: ' + str(mean_squared_error(Y_val, y_pred)))\n",
    "print('r^2: ' + str(r2_score(Y_val, y_pred)))\n",
    "\n",
    "Y_train_pred = forest.predict(X_train.reset_index().drop(['Reaction'], axis = 1))\n",
    "train_results = pd.concat([Y_train.reset_index(), pd.DataFrame(Y_train_pred)], axis = 1)\n",
    "train_results.set_index('Reaction', inplace = True)\n",
    "train_results.columns = ['Actual', 'Predicted']\n",
    "train_results\n",
    "\n",
    "all_results = pd.concat([train_results, results])\n",
    "all_results\n",
    "print('Total r^2 score: ' + str(r2_score(all_results['Actual'], all_results['Predicted'])))"
   ]
  },
  {
   "cell_type": "code",
   "execution_count": 60,
   "metadata": {},
   "outputs": [
    {
     "data": {
      "text/plain": [
       "Text(0, 0.5, 'Predicted G values')"
      ]
     },
     "execution_count": 60,
     "metadata": {},
     "output_type": "execute_result"
    },
    {
     "data": {
      "image/png": "[encoded data removed]",
      "text/plain": [
       "<Figure size 432x288 with 1 Axes>"
      ]
     },
     "metadata": {
      "needs_background": "light"
     },
     "output_type": "display_data"
    }
   ],
   "source": [
    "x = np.linspace(0,3.5,10)\n",
    "\n",
    "plt.scatter(results['Actual'], results['Predicted'], color = 'b')\n",
    "plt.scatter(train_results['Actual'], train_results['Predicted'], color = 'r')\n",
    "#plt.xlim(0, 4)\n",
    "#plt.ylim(-1, 3)\n",
    "plt.plot(x, x)\n",
    "plt.xlabel('Actual G values')\n",
    "plt.ylabel('Predicted G values') "
   ]
  },
  {
   "cell_type": "code",
   "execution_count": 61,
   "metadata": {},
   "outputs": [
    {
     "data": {
      "text/plain": [
       "Text(0, 0.5, 'Predicted G values')"
      ]
     },
     "execution_count": 61,
     "metadata": {},
     "output_type": "execute_result"
    },
    {
     "data": {
      "image/png": "[encoded data removed]",
      "text/plain": [
       "<Figure size 432x288 with 1 Axes>"
      ]
     },
     "metadata": {
      "needs_background": "light"
     },
     "output_type": "display_data"
    }
   ],
   "source": [
    "x = np.linspace(0,3.5,10)\n",
    "\n",
    "plt.scatter(results['Actual'], results['Predicted'], color = 'b')\n",
    "plt.scatter(train_results['Actual'], train_results['Predicted'], color = 'r')\n",
    "#plt.xlim(0, 4)\n",
    "#plt.ylim(-1, 3)\n",
    "plt.plot(x, x)\n",
    "plt.xlabel('Actual G values')\n",
    "plt.ylabel('Predicted G values')"
   ]
  },
  {
   "cell_type": "code",
   "execution_count": 62,
   "metadata": {},
   "outputs": [
    {
     "name": "stdout",
     "output_type": "stream",
     "text": [
      "MSE: 0.1610132216842387\n",
      "test r^2: 0.7428066126919073\n",
      "Total r^2 score: 0.8283734584335658\n"
     ]
    }
   ],
   "source": [
    "boosting_tree = GradientBoostingRegressor()\n",
    "X_train, X_test, Y_train, Y_test = train_test_split(X_no_iminium, Y, test_size = 0.5, random_state = 3)\n",
    "\n",
    "boosting_tree.fit(X_train.reset_index().drop(['Reaction'], axis = 1), Y_train.reset_index().drop('Reaction', axis = 1).values.ravel())\n",
    "Y_pred = boosting_tree.predict(X_test.reset_index().drop(['Reaction'], axis = 1))\n",
    "\n",
    "results = pd.concat([Y_test.reset_index(), pd.DataFrame(Y_pred)], axis = 1)\n",
    "results.set_index('Reaction', inplace = True)\n",
    "results.columns = ['Actual', 'Predicted']\n",
    "\n",
    "print('MSE: ' + str(mean_squared_error(Y_test, Y_pred)))\n",
    "print('test r^2: ' + str(r2_score(Y_test, Y_pred)))\n",
    "results.head()\n",
    "\n",
    "Y_train_pred = boosting_tree.predict(X_train.reset_index().drop(['Reaction'], axis = 1))\n",
    "train_results = pd.concat([Y_train.reset_index(), pd.DataFrame(Y_train_pred)], axis = 1)\n",
    "train_results.set_index('Reaction', inplace = True)\n",
    "train_results.columns = ['Actual', 'Predicted']\n",
    "train_results\n",
    "\n",
    "all_results = pd.concat([train_results, results])\n",
    "all_results\n",
    "print('Total r^2 score: ' + str(r2_score(all_results['Actual'], all_results['Predicted'])))"
   ]
  },
  {
   "cell_type": "code",
   "execution_count": 63,
   "metadata": {},
   "outputs": [
    {
     "data": {
      "text/html": [
       "<div>\n",
       "<style scoped>\n",
       "    .dataframe tbody tr th:only-of-type {\n",
       "        vertical-align: middle;\n",
       "    }\n",
       "\n",
       "    .dataframe tbody tr th {\n",
       "        vertical-align: top;\n",
       "    }\n",
       "\n",
       "    .dataframe thead th {\n",
       "        text-align: right;\n",
       "    }\n",
       "</style>\n",
       "<table border=\"1\" class=\"dataframe\">\n",
       "  <thead>\n",
       "    <tr style=\"text-align: right;\">\n",
       "      <th></th>\n",
       "      <th>Importance</th>\n",
       "    </tr>\n",
       "    <tr>\n",
       "      <th>Feature</th>\n",
       "      <th></th>\n",
       "    </tr>\n",
       "  </thead>\n",
       "  <tbody>\n",
       "    <tr>\n",
       "      <th>B5</th>\n",
       "      <td>0.410121</td>\n",
       "    </tr>\n",
       "    <tr>\n",
       "      <th>iXH</th>\n",
       "      <td>0.085810</td>\n",
       "    </tr>\n",
       "    <tr>\n",
       "      <th>iPOas</th>\n",
       "      <td>0.041463</td>\n",
       "    </tr>\n",
       "    <tr>\n",
       "      <th>Nu</th>\n",
       "      <td>0.029537</td>\n",
       "    </tr>\n",
       "    <tr>\n",
       "      <th>Wiener-type index from polarizability weighted distance matrix</th>\n",
       "      <td>0.026433</td>\n",
       "    </tr>\n",
       "    <tr>\n",
       "      <th>LUMO</th>\n",
       "      <td>0.023265</td>\n",
       "    </tr>\n",
       "    <tr>\n",
       "      <th>C2.2</th>\n",
       "      <td>0.021780</td>\n",
       "    </tr>\n",
       "    <tr>\n",
       "      <th>B1whole.1</th>\n",
       "      <td>0.019118</td>\n",
       "    </tr>\n",
       "    <tr>\n",
       "      <th>Wiener-type index from van der waals weighted distance matrix</th>\n",
       "      <td>0.018150</td>\n",
       "    </tr>\n",
       "    <tr>\n",
       "      <th>1-path Kier alpha-modified shape index</th>\n",
       "      <td>0.016344</td>\n",
       "    </tr>\n",
       "    <tr>\n",
       "      <th>C2</th>\n",
       "      <td>0.015573</td>\n",
       "    </tr>\n",
       "    <tr>\n",
       "      <th>Mean Distance Degree Deviation</th>\n",
       "      <td>0.014154</td>\n",
       "    </tr>\n",
       "    <tr>\n",
       "      <th>Valence connectivity index chi-0</th>\n",
       "      <td>0.013168</td>\n",
       "    </tr>\n",
       "    <tr>\n",
       "      <th>Average connectivity index chi-4</th>\n",
       "      <td>0.012815</td>\n",
       "    </tr>\n",
       "    <tr>\n",
       "      <th>L</th>\n",
       "      <td>0.011836</td>\n",
       "    </tr>\n",
       "    <tr>\n",
       "      <th>nXH</th>\n",
       "      <td>0.011801</td>\n",
       "    </tr>\n",
       "    <tr>\n",
       "      <th>B1whole.2</th>\n",
       "      <td>0.010750</td>\n",
       "    </tr>\n",
       "    <tr>\n",
       "      <th>X</th>\n",
       "      <td>0.010745</td>\n",
       "    </tr>\n",
       "    <tr>\n",
       "      <th>B1whole</th>\n",
       "      <td>0.010508</td>\n",
       "    </tr>\n",
       "    <tr>\n",
       "      <th>Balaban-type index from Z weighted distance matrix - Barysz matrix</th>\n",
       "      <td>0.009588</td>\n",
       "    </tr>\n",
       "    <tr>\n",
       "      <th>HOMO</th>\n",
       "      <td>0.008365</td>\n",
       "    </tr>\n",
       "    <tr>\n",
       "      <th>L6.1</th>\n",
       "      <td>0.008293</td>\n",
       "    </tr>\n",
       "    <tr>\n",
       "      <th>Mean topological charge index of order 1</th>\n",
       "      <td>0.008240</td>\n",
       "    </tr>\n",
       "    <tr>\n",
       "      <th>B5whole.1</th>\n",
       "      <td>0.008047</td>\n",
       "    </tr>\n",
       "    <tr>\n",
       "      <th>Topological charge index of order 3</th>\n",
       "      <td>0.007777</td>\n",
       "    </tr>\n",
       "  </tbody>\n",
       "</table>\n",
       "</div>"
      ],
      "text/plain": [
       "                                                    Importance\n",
       "Feature                                                       \n",
       "B5                                                    0.410121\n",
       "iXH                                                   0.085810\n",
       "iPOas                                                 0.041463\n",
       "Nu                                                    0.029537\n",
       "Wiener-type index from polarizability weighted ...    0.026433\n",
       "LUMO                                                  0.023265\n",
       "C2.2                                                  0.021780\n",
       "B1whole.1                                             0.019118\n",
       "Wiener-type index from van der waals weighted d...    0.018150\n",
       "1-path Kier alpha-modified shape index                0.016344\n",
       "C2                                                    0.015573\n",
       "Mean Distance Degree Deviation                        0.014154\n",
       "Valence connectivity index chi-0                      0.013168\n",
       "Average connectivity index chi-4                      0.012815\n",
       "L                                                     0.011836\n",
       "nXH                                                   0.011801\n",
       "B1whole.2                                             0.010750\n",
       "X                                                     0.010745\n",
       "B1whole                                               0.010508\n",
       "Balaban-type index from Z weighted distance mat...    0.009588\n",
       "HOMO                                                  0.008365\n",
       "L6.1                                                  0.008293\n",
       "Mean topological charge index of order 1              0.008240\n",
       "B5whole.1                                             0.008047\n",
       "Topological charge index of order 3                   0.007777"
      ]
     },
     "execution_count": 63,
     "metadata": {},
     "output_type": "execute_result"
    }
   ],
   "source": [
    "boosting_tree.feature_importances_\n",
    "features = pd.concat([pd.DataFrame(X.columns), pd.DataFrame(boosting_tree.feature_importances_)], axis = 1)\n",
    "features.columns = ['Feature', 'Importance']\n",
    "features.set_index('Feature', inplace = True)\n",
    "features.sort_values(by = ['Importance'], ascending = False, inplace = True)\n",
    "\n",
    "features.head(25)"
   ]
  },
  {
   "cell_type": "code",
   "execution_count": 64,
   "metadata": {},
   "outputs": [
    {
     "data": {
      "text/plain": [
       "Text(0, 0.5, 'Predicted G values')"
      ]
     },
     "execution_count": 64,
     "metadata": {},
     "output_type": "execute_result"
    },
    {
     "data": {
      "image/png": "[encoded data removed]",
      "text/plain": [
       "<Figure size 432x288 with 1 Axes>"
      ]
     },
     "metadata": {
      "needs_background": "light"
     },
     "output_type": "display_data"
    }
   ],
   "source": [
    "x = np.linspace(0,3.5,10)\n",
    "\n",
    "plt.scatter(results['Actual'], results['Predicted'], color = 'b')\n",
    "plt.scatter(train_results['Actual'], train_results['Predicted'], color = 'r')\n",
    "#plt.xlim(0, 4)\n",
    "#plt.ylim(-1, 3)\n",
    "plt.plot(x, x)\n",
    "plt.xlabel('Actual G values')\n",
    "plt.ylabel('Predicted G values')"
   ]
  },
  {
   "cell_type": "code",
   "execution_count": 65,
   "metadata": {},
   "outputs": [
    {
     "data": {
      "text/plain": [
       "Text(0, 0.5, 'Predicted G values')"
      ]
     },
     "execution_count": 65,
     "metadata": {},
     "output_type": "execute_result"
    },
    {
     "data": {
      "image/png": "[encoded data removed]",
      "text/plain": [
       "<Figure size 432x288 with 1 Axes>"
      ]
     },
     "metadata": {
      "needs_background": "light"
     },
     "output_type": "display_data"
    }
   ],
   "source": [
    "x = np.linspace(0,3.5,10)\n",
    "\n",
    "plt.scatter(results['Actual'], results['Predicted'], color = 'b')\n",
    "plt.scatter(train_results['Actual'], train_results['Predicted'], color = 'r')\n",
    "#plt.xlim(0, 4)\n",
    "#plt.ylim(-1, 3)\n",
    "plt.plot(x, x)\n",
    "plt.xlabel('Actual G values')\n",
    "plt.ylabel('Predicted G values')"
   ]
  },
  {
   "cell_type": "code",
   "execution_count": 66,
   "metadata": {},
   "outputs": [
    {
     "name": "stdout",
     "output_type": "stream",
     "text": [
      "Train Index:  [  0   1   2   3   4   5   6   7   8   9  11  12  13  14  17  18  19  20\n",
      "  21  22  25  26  28  29  30  32  33  34  35  36  38  39  41  42  43  44\n",
      "  45  46  47  48  49  50  52  54  57  58  59  60  62  63  64  65  68  69\n",
      "  70  71  72  75  76  77  78  79  80  85  86  87  89  90  91  92  93  94\n",
      "  95  96  97  99 100 104 106 108 109 110 111 113 115 117 118 119 120 121\n",
      " 122 125 126 129 131 132 133 134 135 138 139 140 141 143 145 146 147 148\n",
      " 149 150 151 152 156 158 160 161 162 163 164 165 166 167 168 169 170 171\n",
      " 172 173 174 175 176 177 178 179 180 181 182 183 184 187 189 192 195 196\n",
      " 198 199 200 201 202 204 205 206 207 208 210 211 212 213 215 216 217 219\n",
      " 220 221 222 223 224 225 226 229 231 232 233 234 235 236 237 239 241 242\n",
      " 243 245 246 247 248 249 250 252 253 254 256 257 258 259 261 262 263 264\n",
      " 266 267 270 272 274 275 276 277 280 282 283 285 286 287 288 289 291 292\n",
      " 293 295 296 297 300 302 303 304 305 306 307 308 309 310 311 312 313 314\n",
      " 315 316 317 318 320 322 323 324 326 327 330 331 332 333 334 335 336 337\n",
      " 338 339 341 342 344 345 346 347 348 349 350 352 355 356 357 359 360 361\n",
      " 362 363 364 367 368 371 372 373 374 376 377 378 379 380 381 382 383 384\n",
      " 386 388 390 391 392 393 394 395 396 397 399 400 401 402 404 405] \n",
      "\n",
      "Test Index:  [ 10  15  16  23  24  27  31  37  40  51  53  55  56  61  66  67  73  74\n",
      "  81  82  83  84  88  98 101 102 103 105 107 112 114 116 123 124 127 128\n",
      " 130 136 137 142 144 153 154 155 157 159 185 186 188 190 191 193 194 197\n",
      " 203 209 214 218 227 228 230 238 240 244 251 255 260 265 268 269 271 273\n",
      " 278 279 281 284 290 294 298 299 301 319 321 325 328 329 340 343 351 353\n",
      " 354 358 365 366 369 370 375 385 387 389 398 403]\n",
      "Train Index:  [  0   1   2   7   8   9  10  11  12  13  15  16  17  19  20  22  23  24\n",
      "  26  27  28  29  31  32  33  34  35  36  37  39  40  41  44  48  49  51\n",
      "  52  53  54  55  56  60  61  62  63  66  67  69  71  72  73  74  76  81\n",
      "  82  83  84  85  86  87  88  89  90  91  92  93  94  95  96  97  98  99\n",
      " 100 101 102 103 104 105 106 107 110 111 112 113 114 116 117 119 120 123\n",
      " 124 127 128 129 130 131 132 133 135 136 137 138 139 141 142 144 145 147\n",
      " 148 149 150 152 153 154 155 156 157 158 159 160 162 164 165 167 169 170\n",
      " 171 172 173 174 175 176 178 179 181 182 183 184 185 186 187 188 190 191\n",
      " 192 193 194 196 197 198 199 200 202 203 205 206 207 208 209 212 213 214\n",
      " 215 216 217 218 219 220 221 222 223 226 227 228 230 232 233 234 235 236\n",
      " 237 238 240 242 244 246 249 251 252 253 255 256 257 258 260 264 265 267\n",
      " 268 269 271 272 273 274 275 276 277 278 279 280 281 282 283 284 285 287\n",
      " 289 290 292 293 294 295 296 297 298 299 300 301 304 305 306 308 310 311\n",
      " 312 313 315 316 317 318 319 320 321 322 325 328 329 331 332 333 335 336\n",
      " 337 338 340 341 342 343 344 345 346 347 348 350 351 353 354 355 356 358\n",
      " 360 361 362 363 364 365 366 368 369 370 371 372 374 375 377 378 379 380\n",
      " 381 382 384 385 387 389 390 391 393 395 398 400 401 403 404 405] \n",
      "\n",
      "Test Index:  [  3   4   5   6  14  18  21  25  30  38  42  43  45  46  47  50  57  58\n",
      "  59  64  65  68  70  75  77  78  79  80 108 109 115 118 121 122 125 126\n",
      " 134 140 143 146 151 161 163 166 168 177 180 189 195 201 204 210 211 224\n",
      " 225 229 231 239 241 243 245 247 248 250 254 259 261 262 263 266 270 286\n",
      " 288 291 302 303 307 309 314 323 324 326 327 330 334 339 349 352 357 359\n",
      " 367 373 376 383 386 388 392 394 396 397 399 402]\n",
      "Train Index:  [  0   1   2   3   4   5   6   7   9  10  14  15  16  18  20  21  23  24\n",
      "  25  26  27  28  30  31  33  35  36  37  38  40  42  43  44  45  46  47\n",
      "  48  49  50  51  53  54  55  56  57  58  59  61  64  65  66  67  68  69\n",
      "  70  73  74  75  76  77  78  79  80  81  82  83  84  88  91  93  97  98\n",
      "  99 101 102 103 104 105 106 107 108 109 110 112 113 114 115 116 117 118\n",
      " 119 120 121 122 123 124 125 126 127 128 129 130 131 134 136 137 138 140\n",
      " 141 142 143 144 146 147 148 150 151 152 153 154 155 156 157 159 160 161\n",
      " 163 165 166 167 168 169 171 172 174 176 177 178 180 182 183 184 185 186\n",
      " 188 189 190 191 192 193 194 195 197 201 202 203 204 206 208 209 210 211\n",
      " 212 214 216 218 219 223 224 225 226 227 228 229 230 231 232 235 238 239\n",
      " 240 241 242 243 244 245 247 248 249 250 251 253 254 255 256 258 259 260\n",
      " 261 262 263 265 266 267 268 269 270 271 273 274 275 277 278 279 281 284\n",
      " 285 286 288 289 290 291 293 294 295 298 299 300 301 302 303 307 308 309\n",
      " 311 312 314 315 316 318 319 321 322 323 324 325 326 327 328 329 330 331\n",
      " 332 334 335 336 337 339 340 341 343 346 347 349 350 351 352 353 354 355\n",
      " 356 357 358 359 360 361 362 363 365 366 367 369 370 372 373 374 375 376\n",
      " 383 385 386 387 388 389 392 394 396 397 398 399 400 402 403 404 405] \n",
      "\n",
      "Test Index:  [  8  11  12  13  17  19  22  29  32  34  39  41  52  60  62  63  71  72\n",
      "  85  86  87  89  90  92  94  95  96 100 111 132 133 135 139 145 149 158\n",
      " 162 164 170 173 175 179 181 187 196 198 199 200 205 207 213 215 217 220\n",
      " 221 222 233 234 236 237 246 252 257 264 272 276 280 282 283 287 292 296\n",
      " 297 304 305 306 310 313 317 320 333 338 342 344 345 348 364 368 371 377\n",
      " 378 379 380 381 382 384 390 391 393 395 401]\n",
      "Train Index:  [  3   4   5   6   8  10  11  12  13  14  15  16  17  18  19  21  22  23\n",
      "  24  25  27  29  30  31  32  34  37  38  39  40  41  42  43  45  46  47\n",
      "  50  51  52  53  55  56  57  58  59  60  61  62  63  64  65  66  67  68\n",
      "  70  71  72  73  74  75  77  78  79  80  81  82  83  84  85  86  87  88\n",
      "  89  90  92  94  95  96  98 100 101 102 103 105 107 108 109 111 112 114\n",
      " 115 116 118 121 122 123 124 125 126 127 128 130 132 133 134 135 136 137\n",
      " 139 140 142 143 144 145 146 149 151 153 154 155 157 158 159 161 162 163\n",
      " 164 166 168 170 173 175 177 179 180 181 185 186 187 188 189 190 191 193\n",
      " 194 195 196 197 198 199 200 201 203 204 205 207 209 210 211 213 214 215\n",
      " 217 218 220 221 222 224 225 227 228 229 230 231 233 234 236 237 238 239\n",
      " 240 241 243 244 245 246 247 248 250 251 252 254 255 257 259 260 261 262\n",
      " 263 264 265 266 268 269 270 271 272 273 276 278 279 280 281 282 283 284\n",
      " 286 287 288 290 291 292 294 296 297 298 299 301 302 303 304 305 306 307\n",
      " 309 310 313 314 317 319 320 321 323 324 325 326 327 328 329 330 333 334\n",
      " 338 339 340 342 343 344 345 348 349 351 352 353 354 357 358 359 364 365\n",
      " 366 367 368 369 370 371 373 375 376 377 378 379 380 381 382 383 384 385\n",
      " 386 387 388 389 390 391 392 393 394 395 396 397 398 399 401 402 403] \n",
      "\n",
      "Test Index:  [  0   1   2   7   9  20  26  28  33  35  36  44  48  49  54  69  76  91\n",
      "  93  97  99 104 106 110 113 117 119 120 129 131 138 141 147 148 150 152\n",
      " 156 160 165 167 169 171 172 174 176 178 182 183 184 192 202 206 208 212\n",
      " 216 219 223 226 232 235 242 249 253 256 258 267 274 275 277 285 289 293\n",
      " 295 300 308 311 312 315 316 318 322 331 332 335 336 337 341 346 347 350\n",
      " 355 356 360 361 362 363 372 374 400 404 405]\n"
     ]
    }
   ],
   "source": [
    "#scaler = MinMaxScaler(feature_range = (0,1))\n",
    "#X = scaler.fit_transform(X)\n",
    "scores = []\n",
    "forest_test = RandomForestRegressor()\n",
    "cv = KFold(n_splits = 4, random_state = 3, shuffle = True)\n",
    "for train_index, test_index in cv.split(X):\n",
    "    print('Train Index: ', train_index, \"\\n\")\n",
    "    print('Test Index: ', test_index)\n",
    "    \n",
    "    X_train, X_test = np.array(X)[train_index], np.array(X)[test_index]\n",
    "    Y_train, Y_test = np.array(Y.values.ravel())[train_index], np.array(Y.values.ravel())[test_index]\n",
    "    forest_test.fit(X_train, Y_train)\n",
    "    scores.append(forest_test.score(X_test, Y_test))"
   ]
  },
  {
   "cell_type": "code",
   "execution_count": 67,
   "metadata": {},
   "outputs": [
    {
     "name": "stdout",
     "output_type": "stream",
     "text": [
      "MSE: 0.06279058592740291\n",
      "r^2: 0.9085860167043829\n"
     ]
    },
    {
     "data": {
      "text/html": [
       "<div>\n",
       "<style scoped>\n",
       "    .dataframe tbody tr th:only-of-type {\n",
       "        vertical-align: middle;\n",
       "    }\n",
       "\n",
       "    .dataframe tbody tr th {\n",
       "        vertical-align: top;\n",
       "    }\n",
       "\n",
       "    .dataframe thead th {\n",
       "        text-align: right;\n",
       "    }\n",
       "</style>\n",
       "<table border=\"1\" class=\"dataframe\">\n",
       "  <thead>\n",
       "    <tr style=\"text-align: right;\">\n",
       "      <th></th>\n",
       "      <th>Actual</th>\n",
       "      <th>Predicted</th>\n",
       "    </tr>\n",
       "    <tr>\n",
       "      <th>Reaction</th>\n",
       "      <th></th>\n",
       "      <th></th>\n",
       "    </tr>\n",
       "  </thead>\n",
       "  <tbody>\n",
       "    <tr>\n",
       "      <th>Addition of Alcohols Scope 1</th>\n",
       "      <td>2.05829</td>\n",
       "      <td>1.777151</td>\n",
       "    </tr>\n",
       "    <tr>\n",
       "      <th>Addition of Alcohols Scope 2</th>\n",
       "      <td>1.74348</td>\n",
       "      <td>1.570203</td>\n",
       "    </tr>\n",
       "    <tr>\n",
       "      <th>Addition of Alcohols Scope 3</th>\n",
       "      <td>1.62926</td>\n",
       "      <td>1.583393</td>\n",
       "    </tr>\n",
       "    <tr>\n",
       "      <th>Addition of Alcohols Scope 4</th>\n",
       "      <td>1.88181</td>\n",
       "      <td>1.791512</td>\n",
       "    </tr>\n",
       "    <tr>\n",
       "      <th>Addition of Alcohols Scope 5</th>\n",
       "      <td>1.88181</td>\n",
       "      <td>1.876215</td>\n",
       "    </tr>\n",
       "  </tbody>\n",
       "</table>\n",
       "</div>"
      ],
      "text/plain": [
       "                               Actual  Predicted\n",
       "Reaction                                        \n",
       "Addition of Alcohols Scope 1  2.05829   1.777151\n",
       "Addition of Alcohols Scope 2  1.74348   1.570203\n",
       "Addition of Alcohols Scope 3  1.62926   1.583393\n",
       "Addition of Alcohols Scope 4  1.88181   1.791512\n",
       "Addition of Alcohols Scope 5  1.88181   1.876215"
      ]
     },
     "execution_count": 67,
     "metadata": {},
     "output_type": "execute_result"
    }
   ],
   "source": [
    "Y_pred = forest_test.predict(X.reset_index().drop(['Reaction'], axis = 1))\n",
    "Y_pred\n",
    "results = pd.concat([Y.reset_index(), pd.DataFrame(Y_pred)], axis = 1)\n",
    "results.set_index('Reaction', inplace = True)\n",
    "results.columns = ['Actual', 'Predicted']\n",
    "\n",
    "print('MSE: ' + str(mean_squared_error(Y, Y_pred)))\n",
    "print('r^2: ' + str(r2_score(Y, Y_pred)))\n",
    "results.head()\n",
    "#results.set_index('Reaction', inplace = True)\n",
    "#results.columns = ['Actual', 'Predicted']\n",
    "\n",
    "#print('MSE: ' + str(mean_squared_error(Y, Y_pred)))\n",
    "#print('r^2: ' + str(r2_score(Y, Y_pred)))\n",
    "#results"
   ]
  },
  {
   "cell_type": "code",
   "execution_count": 68,
   "metadata": {},
   "outputs": [
    {
     "data": {
      "text/plain": [
       "Text(0, 0.5, 'Predicted G values')"
      ]
     },
     "execution_count": 68,
     "metadata": {},
     "output_type": "execute_result"
    },
    {
     "data": {
      "image/png": "[encoded data removed]",
      "text/plain": [
       "<Figure size 432x288 with 1 Axes>"
      ]
     },
     "metadata": {
      "needs_background": "light"
     },
     "output_type": "display_data"
    }
   ],
   "source": [
    "x = np.linspace(0,3.5,10)\n",
    "\n",
    "plt.scatter(results['Actual'], results['Predicted'], color = 'b')\n",
    "#plt.scatter(train_results['Actual'], train_results['Predicted'], color = 'r')\n",
    "#plt.xlim(0, 4)\n",
    "#plt.ylim(-1, 3)\n",
    "plt.plot(x, x)\n",
    "plt.xlabel('Actual G values')\n",
    "plt.ylabel('Predicted G values')"
   ]
  },
  {
   "cell_type": "code",
   "execution_count": 69,
   "metadata": {},
   "outputs": [
    {
     "data": {
      "text/plain": [
       "Text(0, 0.5, 'G Values')"
      ]
     },
     "execution_count": 69,
     "metadata": {},
     "output_type": "execute_result"
    },
    {
     "data": {
      "image/png": "[encoded data removed]",
      "text/plain": [
       "<Figure size 432x288 with 1 Axes>"
      ]
     },
     "metadata": {
      "needs_background": "light"
     },
     "output_type": "display_data"
    }
   ],
   "source": [
    "plt.scatter(X.loc[:, 'B5'], Y, color = 'b')\n",
    "#plt.scatter(train_results['Actual'], train_results['Predicted'], color = 'r')\n",
    "#plt.xlim(0, 4)\n",
    "#plt.ylim(-1, 3)\n",
    "plt.xlabel('B5')\n",
    "plt.ylabel('G Values')"
   ]
  },
  {
   "cell_type": "markdown",
   "metadata": {},
   "source": [
    "###############################################################################################################################\n",
    "\n",
    "Notes\n",
    "\n",
    "###############################################################################################################################"
   ]
  },
  {
   "cell_type": "code",
   "execution_count": null,
   "metadata": {},
   "outputs": [],
   "source": []
  },
  {
   "cell_type": "code",
   "execution_count": null,
   "metadata": {},
   "outputs": [],
   "source": [
    "5/23\n",
    "##given properties of iminium and catalyst, build model to predict delta delta G\n",
    "##use scikit learn\n",
    "##use linear regression to debug pipeline I built up, make sure I load info correct"
   ]
  },
  {
   "cell_type": "code",
   "execution_count": null,
   "metadata": {},
   "outputs": [],
   "source": [
    "5/30\n",
    "#now include all numerical properties\n",
    "#run linear regression multiple times (cross validation look it up)\n",
    "#try lasso linear regression\n",
    "#use regression tree scikit learn\n",
    "#use boosting tree"
   ]
  },
  {
   "cell_type": "code",
   "execution_count": null,
   "metadata": {},
   "outputs": [],
   "source": [
    "6/20\n",
    "#try cross val predict with all models, look at specific reactions taht are causing it.\n",
    "\n",
    "6/22\n",
    "#take a look at supplementary material and read stuff from s594 to end, try to replicate what they are doing (LOO)\n",
    "\n",
    "#notice: in the paper, some actual Gs are negative. In our data, it doesnt' seem like this is the case\n",
    "#graph of actual vs predicted doesnt' show good prediction"
   ]
  },
  {
   "cell_type": "code",
   "execution_count": null,
   "metadata": {},
   "outputs": [],
   "source": [
    "6/24\n",
    "#figure out cross val predict, why it is doing that\n",
    "#boosting, random forest might tell you which features are more important\n",
    "#do leave one out\n",
    "#try to replicate paper\n",
    "#try to use thier equation\n",
    "\n",
    "#notes: They did not use out of sample reactions\n",
    "#for linear regression, I probably need less features\n",
    "#I'm sturggling because I'm using all 299 features on only 300-400 data points\n",
    "#need to choose most important and develop model based off of that"
   ]
  },
  {
   "cell_type": "code",
   "execution_count": null,
   "metadata": {},
   "outputs": [],
   "source": [
    "6/26\n",
    "#try removing e and z\n",
    "#try to figure out e and z\n",
    "#try replciating some of the models\n",
    "#do cross validation manually\n",
    "\n",
    "6/28\n",
    "#use b5, other important figures to figure this thing out\n",
    "#do cross validation manually\n",
    "#which experiments/reactions cannot be well predicted, take a look at those experiments\n",
    "\n",
    "6/30\n",
    "#turn z imines negative in new jupyter notebook \n",
    "#figure out important feature in iminium prediction, put all in new spreadsheet, identify them (nucleophile, catalyst, solven, iminium, etc)\n",
    "#csend email to  sigman making sure they made z reaction delta g negative\n",
    "#write email to dakang about all missing data, cc \n",
    "#read other stereochemistry paper \n",
    "#https://pubs.acs.org/doi/10.1021/acs.accounts.6b00052\n",
    "\n",
    "7/2\n",
    "#ask sigman about missing data in reactions 7, 12, 15\n",
    "#try to build model without iminium data with negative z values still"
   ]
  },
  {
   "cell_type": "code",
   "execution_count": null,
   "metadata": {},
   "outputs": [],
   "source": [
    "#model notes\n",
    "#svm doesn't work"
   ]
  }
 ],
 "metadata": {
  "kernelspec": {
   "display_name": "Python 3",
   "language": "python",
   "name": "python3"
  },
  "language_info": {
   "codemirror_mode": {
    "name": "ipython",
    "version": 3
   },
   "file_extension": ".py",
   "mimetype": "text/x-python",
   "name": "python",
   "nbconvert_exporter": "python",
   "pygments_lexer": "ipython3",
   "version": "3.7.6"
  }
 },
 "nbformat": 4,
 "nbformat_minor": 4
}
