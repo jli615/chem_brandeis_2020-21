{
 "cells": [
  {
   "cell_type": "code",
   "execution_count": 1,
   "metadata": {},
   "outputs": [],
   "source": [
    "import numpy as np\n",
    "import pandas as pd\n",
    "import os\n",
    "from os import path"
   ]
  },
  {
   "cell_type": "code",
   "execution_count": 5,
   "metadata": {},
   "outputs": [
    {
     "data": {
      "text/plain": [
       "8"
      ]
     },
     "execution_count": 5,
     "metadata": {},
     "output_type": "execute_result"
    }
   ],
   "source": [
    "test = pd.read_excel('/Users/jlisd/Downloads/AI Chem/AI Chem/reaction information/2 Addition of thiols.xlsx')\n",
    "test.shape[0]\n",
    "#path.exists('/Users/jlisd/Downloads/AI Chem/AI Chem/reaction information/2 Addition of thiols.xlsx')"
   ]
  },
  {
   "cell_type": "code",
   "execution_count": 15,
   "metadata": {},
   "outputs": [
    {
     "data": {
      "text/html": [
       "<div>\n",
       "<style scoped>\n",
       "    .dataframe tbody tr th:only-of-type {\n",
       "        vertical-align: middle;\n",
       "    }\n",
       "\n",
       "    .dataframe tbody tr th {\n",
       "        vertical-align: top;\n",
       "    }\n",
       "\n",
       "    .dataframe thead th {\n",
       "        text-align: right;\n",
       "    }\n",
       "</style>\n",
       "<table border=\"1\" class=\"dataframe\">\n",
       "  <thead>\n",
       "    <tr style=\"text-align: right;\">\n",
       "      <th></th>\n",
       "      <th>nucleophile</th>\n",
       "      <th>Unnamed: 1</th>\n",
       "      <th>H</th>\n",
       "      <th>X</th>\n",
       "      <th>Nu</th>\n",
       "      <th>nXH</th>\n",
       "      <th>iXH</th>\n",
       "      <th>HOMO</th>\n",
       "      <th>LUMO</th>\n",
       "      <th>Polarizability</th>\n",
       "      <th>L</th>\n",
       "      <th>B1</th>\n",
       "      <th>B5</th>\n",
       "      <th>bond distance H-X</th>\n",
       "      <th>H-X-Nu</th>\n",
       "      <th>H-X-CNu</th>\n",
       "    </tr>\n",
       "  </thead>\n",
       "  <tbody>\n",
       "    <tr>\n",
       "      <th>0</th>\n",
       "      <td>methanol</td>\n",
       "      <td>methanol</td>\n",
       "      <td>0.458</td>\n",
       "      <td>-0.707</td>\n",
       "      <td>-0.707</td>\n",
       "      <td>3899.40</td>\n",
       "      <td>40.1897</td>\n",
       "      <td>-0.35328</td>\n",
       "      <td>0.06260</td>\n",
       "      <td>18.27</td>\n",
       "      <td>3.99</td>\n",
       "      <td>1.40</td>\n",
       "      <td>3.17</td>\n",
       "      <td>0.96</td>\n",
       "      <td>180.0</td>\n",
       "      <td>180.0</td>\n",
       "    </tr>\n",
       "    <tr>\n",
       "      <th>1</th>\n",
       "      <td>ethanol</td>\n",
       "      <td>ethanol</td>\n",
       "      <td>0.464</td>\n",
       "      <td>-0.717</td>\n",
       "      <td>-0.717</td>\n",
       "      <td>3893.54</td>\n",
       "      <td>39.6036</td>\n",
       "      <td>-0.34808</td>\n",
       "      <td>0.06264</td>\n",
       "      <td>30.23</td>\n",
       "      <td>5.03</td>\n",
       "      <td>1.20</td>\n",
       "      <td>3.41</td>\n",
       "      <td>0.96</td>\n",
       "      <td>180.0</td>\n",
       "      <td>180.0</td>\n",
       "    </tr>\n",
       "    <tr>\n",
       "      <th>2</th>\n",
       "      <td>isopropanol</td>\n",
       "      <td>propan-2-ol</td>\n",
       "      <td>0.461</td>\n",
       "      <td>-0.717</td>\n",
       "      <td>-0.717</td>\n",
       "      <td>3877.10</td>\n",
       "      <td>28.7764</td>\n",
       "      <td>-0.34588</td>\n",
       "      <td>0.05777</td>\n",
       "      <td>42.01</td>\n",
       "      <td>5.03</td>\n",
       "      <td>1.13</td>\n",
       "      <td>4.45</td>\n",
       "      <td>0.96</td>\n",
       "      <td>180.0</td>\n",
       "      <td>180.0</td>\n",
       "    </tr>\n",
       "    <tr>\n",
       "      <th>3</th>\n",
       "      <td>tert-butanol</td>\n",
       "      <td>2-methylpropan-2-ol</td>\n",
       "      <td>0.459</td>\n",
       "      <td>-0.722</td>\n",
       "      <td>-0.722</td>\n",
       "      <td>3859.15</td>\n",
       "      <td>22.2253</td>\n",
       "      <td>-0.34415</td>\n",
       "      <td>0.05141</td>\n",
       "      <td>53.61</td>\n",
       "      <td>5.03</td>\n",
       "      <td>1.44</td>\n",
       "      <td>4.44</td>\n",
       "      <td>0.96</td>\n",
       "      <td>180.0</td>\n",
       "      <td>180.0</td>\n",
       "    </tr>\n",
       "    <tr>\n",
       "      <th>4</th>\n",
       "      <td>2-chloroethanol</td>\n",
       "      <td>2-chloroethan-1-ol</td>\n",
       "      <td>0.471</td>\n",
       "      <td>-0.704</td>\n",
       "      <td>-0.704</td>\n",
       "      <td>3851.90</td>\n",
       "      <td>43.4805</td>\n",
       "      <td>-0.35820</td>\n",
       "      <td>0.05955</td>\n",
       "      <td>40.75</td>\n",
       "      <td>3.98</td>\n",
       "      <td>1.40</td>\n",
       "      <td>4.44</td>\n",
       "      <td>0.96</td>\n",
       "      <td>180.0</td>\n",
       "      <td>180.0</td>\n",
       "    </tr>\n",
       "  </tbody>\n",
       "</table>\n",
       "</div>"
      ],
      "text/plain": [
       "       nucleophile           Unnamed: 1      H      X     Nu      nXH  \\\n",
       "0         methanol             methanol  0.458 -0.707 -0.707  3899.40   \n",
       "1          ethanol              ethanol  0.464 -0.717 -0.717  3893.54   \n",
       "2      isopropanol          propan-2-ol  0.461 -0.717 -0.717  3877.10   \n",
       "3     tert-butanol  2-methylpropan-2-ol  0.459 -0.722 -0.722  3859.15   \n",
       "4  2-chloroethanol   2-chloroethan-1-ol  0.471 -0.704 -0.704  3851.90   \n",
       "\n",
       "       iXH     HOMO     LUMO  Polarizability     L    B1    B5  \\\n",
       "0  40.1897 -0.35328  0.06260           18.27  3.99  1.40  3.17   \n",
       "1  39.6036 -0.34808  0.06264           30.23  5.03  1.20  3.41   \n",
       "2  28.7764 -0.34588  0.05777           42.01  5.03  1.13  4.45   \n",
       "3  22.2253 -0.34415  0.05141           53.61  5.03  1.44  4.44   \n",
       "4  43.4805 -0.35820  0.05955           40.75  3.98  1.40  4.44   \n",
       "\n",
       "   bond distance H-X  H-X-Nu  H-X-CNu  \n",
       "0               0.96   180.0    180.0  \n",
       "1               0.96   180.0    180.0  \n",
       "2               0.96   180.0    180.0  \n",
       "3               0.96   180.0    180.0  \n",
       "4               0.96   180.0    180.0  "
      ]
     },
     "execution_count": 15,
     "metadata": {},
     "output_type": "execute_result"
    }
   ],
   "source": [
    "solvent = pd.read_excel('/Users/jlisd/Downloads/AI Chem/AI Chem/Holistic prediction of enantioselectivity in asymmetric catalysis.Supplementary Data.xlsx')\n",
    "solvent.head()\n",
    "full_catalyst = pd.read_excel('/Users/jlisd/Downloads/AI Chem/AI Chem/Holistic prediction of enantioselectivity in asymmetric catalysis.Supplementary Data.xlsx', sheet_name = \"full_catalyst\")\n",
    "full_catalyst.head()\n",
    "model_catalyst = pd.read_excel('/Users/jlisd/Downloads/AI Chem/AI Chem/Holistic prediction of enantioselectivity in asymmetric catalysis.Supplementary Data.xlsx', sheet_name = \"model_catalyst\")\n",
    "model_catalyst.head()\n",
    "nucleophiles = pd.read_excel('/Users/jlisd/Downloads/AI Chem/AI Chem/Holistic prediction of enantioselectivity in asymmetric catalysis.Supplementary Data.xlsx', sheet_name = \"nucleophiles\")\n",
    "nucleophiles.head()"
   ]
  },
  {
   "cell_type": "code",
   "execution_count": 37,
   "metadata": {},
   "outputs": [
    {
     "data": {
      "text/html": [
       "<div>\n",
       "<style scoped>\n",
       "    .dataframe tbody tr th:only-of-type {\n",
       "        vertical-align: middle;\n",
       "    }\n",
       "\n",
       "    .dataframe tbody tr th {\n",
       "        vertical-align: top;\n",
       "    }\n",
       "\n",
       "    .dataframe thead th {\n",
       "        text-align: right;\n",
       "    }\n",
       "</style>\n",
       "<table border=\"1\" class=\"dataframe\">\n",
       "  <thead>\n",
       "    <tr style=\"text-align: right;\">\n",
       "      <th></th>\n",
       "      <th>Unnamed: 0</th>\n",
       "      <th>Unnamed: 1</th>\n",
       "      <th>Unnamed: 2</th>\n",
       "      <th>Unnamed: 3</th>\n",
       "      <th>Unnamed: 4</th>\n",
       "      <th>Unnamed: 5</th>\n",
       "      <th>Unnamed: 6</th>\n",
       "      <th>Unnamed: 7</th>\n",
       "      <th>Right hand side</th>\n",
       "      <th>Unnamed: 9</th>\n",
       "      <th>...</th>\n",
       "      <th>Unnamed: 76</th>\n",
       "      <th>Unnamed: 77</th>\n",
       "      <th>Unnamed: 78</th>\n",
       "      <th>Unnamed: 79</th>\n",
       "      <th>Unnamed: 80</th>\n",
       "      <th>Unnamed: 81</th>\n",
       "      <th>Unnamed: 82</th>\n",
       "      <th>Unnamed: 83</th>\n",
       "      <th>Unnamed: 84</th>\n",
       "      <th>Unnamed: 85</th>\n",
       "    </tr>\n",
       "  </thead>\n",
       "  <tbody>\n",
       "    <tr>\n",
       "      <th>0</th>\n",
       "      <td>Ar group</td>\n",
       "      <td>last catalyst only S used</td>\n",
       "      <td>arhs</td>\n",
       "      <td>alhs</td>\n",
       "      <td>aavg</td>\n",
       "      <td>b</td>\n",
       "      <td>AREA(q)</td>\n",
       "      <td>sin(AREA)</td>\n",
       "      <td>Lwhole</td>\n",
       "      <td>B1whole</td>\n",
       "      <td>...</td>\n",
       "      <td>C3</td>\n",
       "      <td>C4</td>\n",
       "      <td>C5</td>\n",
       "      <td>C6</td>\n",
       "      <td>nPOsy</td>\n",
       "      <td>iPOsy</td>\n",
       "      <td>nPOas</td>\n",
       "      <td>iPOas</td>\n",
       "      <td>P</td>\n",
       "      <td>PNMR</td>\n",
       "    </tr>\n",
       "    <tr>\n",
       "      <th>1</th>\n",
       "      <td>Ph</td>\n",
       "      <td>(R/S)-2,2'-Dihydroxy-3,3'-diphenyl-1,1'-binaph...</td>\n",
       "      <td>54.388</td>\n",
       "      <td>54.395</td>\n",
       "      <td>54.3915</td>\n",
       "      <td>56.388</td>\n",
       "      <td>70</td>\n",
       "      <td>0.773891</td>\n",
       "      <td>6.89</td>\n",
       "      <td>1.7</td>\n",
       "      <td>...</td>\n",
       "      <td>-0.23</td>\n",
       "      <td>-0.224</td>\n",
       "      <td>-0.211</td>\n",
       "      <td>-0.186</td>\n",
       "      <td>1085.06</td>\n",
       "      <td>364.346</td>\n",
       "      <td>1306.55</td>\n",
       "      <td>271.606</td>\n",
       "      <td>2.546</td>\n",
       "      <td>266.512</td>\n",
       "    </tr>\n",
       "    <tr>\n",
       "      <th>2</th>\n",
       "      <td>4-NO2C6H4</td>\n",
       "      <td>(R/S)-3,3′-Bis(4-nitrophenyl)-1,1′-binaphthyl-...</td>\n",
       "      <td>52.789</td>\n",
       "      <td>52.801</td>\n",
       "      <td>52.795</td>\n",
       "      <td>56.202</td>\n",
       "      <td>64</td>\n",
       "      <td>0.920026</td>\n",
       "      <td>8.28</td>\n",
       "      <td>1.7</td>\n",
       "      <td>...</td>\n",
       "      <td>-0.177</td>\n",
       "      <td>0.01</td>\n",
       "      <td>-0.195</td>\n",
       "      <td>-0.207</td>\n",
       "      <td>1086.44</td>\n",
       "      <td>320.28</td>\n",
       "      <td>1310.44</td>\n",
       "      <td>295.36</td>\n",
       "      <td>2.545</td>\n",
       "      <td>266.15</td>\n",
       "    </tr>\n",
       "    <tr>\n",
       "      <th>3</th>\n",
       "      <td>4-(2,4,6-MeC6H2)C6H4</td>\n",
       "      <td>(R/S)-3,3'-Bis[4-(2,4,6-trimethylphenyl)phenyl...</td>\n",
       "      <td>53.962</td>\n",
       "      <td>53.963</td>\n",
       "      <td>53.9625</td>\n",
       "      <td>56.355</td>\n",
       "      <td>38</td>\n",
       "      <td>0.296369</td>\n",
       "      <td>12.27</td>\n",
       "      <td>2.97</td>\n",
       "      <td>...</td>\n",
       "      <td>-0.207</td>\n",
       "      <td>-0.053</td>\n",
       "      <td>-0.223</td>\n",
       "      <td>-0.199</td>\n",
       "      <td>1085.55</td>\n",
       "      <td>356.62</td>\n",
       "      <td>1306.58</td>\n",
       "      <td>242.228</td>\n",
       "      <td>2.546</td>\n",
       "      <td>266.322</td>\n",
       "    </tr>\n",
       "    <tr>\n",
       "      <th>4</th>\n",
       "      <td>4-ClC6H4</td>\n",
       "      <td>(R/S)-3,3′-Bis(4-chlorophenyl)-1,1′-binaphthyl...</td>\n",
       "      <td>53.704</td>\n",
       "      <td>53.718</td>\n",
       "      <td>53.711</td>\n",
       "      <td>56.219</td>\n",
       "      <td>67</td>\n",
       "      <td>-0.85552</td>\n",
       "      <td>8.21</td>\n",
       "      <td>1.7</td>\n",
       "      <td>...</td>\n",
       "      <td>-0.232</td>\n",
       "      <td>-0.03</td>\n",
       "      <td>-0.25</td>\n",
       "      <td>-0.19</td>\n",
       "      <td>1085.19</td>\n",
       "      <td>338.559</td>\n",
       "      <td>1306.11</td>\n",
       "      <td>286.441</td>\n",
       "      <td>2.546</td>\n",
       "      <td>266.139</td>\n",
       "    </tr>\n",
       "  </tbody>\n",
       "</table>\n",
       "<p>5 rows × 86 columns</p>\n",
       "</div>"
      ],
      "text/plain": [
       "             Unnamed: 0                                         Unnamed: 1  \\\n",
       "0              Ar group                          last catalyst only S used   \n",
       "1                    Ph  (R/S)-2,2'-Dihydroxy-3,3'-diphenyl-1,1'-binaph...   \n",
       "2             4-NO2C6H4  (R/S)-3,3′-Bis(4-nitrophenyl)-1,1′-binaphthyl-...   \n",
       "3  4-(2,4,6-MeC6H2)C6H4  (R/S)-3,3'-Bis[4-(2,4,6-trimethylphenyl)phenyl...   \n",
       "4              4-ClC6H4  (R/S)-3,3′-Bis(4-chlorophenyl)-1,1′-binaphthyl...   \n",
       "\n",
       "  Unnamed: 2 Unnamed: 3 Unnamed: 4 Unnamed: 5 Unnamed: 6 Unnamed: 7  \\\n",
       "0       arhs       alhs       aavg          b    AREA(q)  sin(AREA)   \n",
       "1     54.388     54.395    54.3915     56.388         70   0.773891   \n",
       "2     52.789     52.801     52.795     56.202         64   0.920026   \n",
       "3     53.962     53.963    53.9625     56.355         38   0.296369   \n",
       "4     53.704     53.718     53.711     56.219         67   -0.85552   \n",
       "\n",
       "  Right hand side Unnamed: 9  ... Unnamed: 76 Unnamed: 77 Unnamed: 78  \\\n",
       "0          Lwhole    B1whole  ...          C3          C4          C5   \n",
       "1            6.89        1.7  ...       -0.23      -0.224      -0.211   \n",
       "2            8.28        1.7  ...      -0.177        0.01      -0.195   \n",
       "3           12.27       2.97  ...      -0.207      -0.053      -0.223   \n",
       "4            8.21        1.7  ...      -0.232       -0.03       -0.25   \n",
       "\n",
       "  Unnamed: 79 Unnamed: 80 Unnamed: 81 Unnamed: 82 Unnamed: 83 Unnamed: 84  \\\n",
       "0          C6       nPOsy       iPOsy       nPOas       iPOas           P   \n",
       "1      -0.186     1085.06     364.346     1306.55     271.606       2.546   \n",
       "2      -0.207     1086.44      320.28     1310.44      295.36       2.545   \n",
       "3      -0.199     1085.55      356.62     1306.58     242.228       2.546   \n",
       "4       -0.19     1085.19     338.559     1306.11     286.441       2.546   \n",
       "\n",
       "  Unnamed: 85  \n",
       "0        PNMR  \n",
       "1     266.512  \n",
       "2      266.15  \n",
       "3     266.322  \n",
       "4     266.139  \n",
       "\n",
       "[5 rows x 86 columns]"
      ]
     },
     "execution_count": 37,
     "metadata": {},
     "output_type": "execute_result"
    }
   ],
   "source": []
  },
  {
   "cell_type": "code",
   "execution_count": 21,
   "metadata": {},
   "outputs": [],
   "source": [
    "solvent_name = []\n",
    "for name in solvent.iloc[:, 1]:\n",
    "    solvent_name.append(name)"
   ]
  },
  {
   "cell_type": "code",
   "execution_count": 84,
   "metadata": {},
   "outputs": [],
   "source": [
    "full_catalyst_name = []\n",
    "for name in full_catalyst.iloc[:, 1]:\n",
    "    full_catalyst_name.append(name.replace('R/S', 'R'))\n",
    "    full_catalyst_name.append(name.replace('R/S', 'S'))"
   ]
  },
  {
   "cell_type": "code",
   "execution_count": 85,
   "metadata": {},
   "outputs": [
    {
     "data": {
      "text/plain": [
       "['last catalyst only S used',\n",
       " 'last catalyst only S used',\n",
       " \"(R)-2,2'-Dihydroxy-3,3'-diphenyl-1,1'-binaphthalene cyclic phosphate\",\n",
       " \"(S)-2,2'-Dihydroxy-3,3'-diphenyl-1,1'-binaphthalene cyclic phosphate\",\n",
       " '(R)-3,3′-Bis(4-nitrophenyl)-1,1′-binaphthyl-2,2′-diyl hydrogenphosphate',\n",
       " '(S)-3,3′-Bis(4-nitrophenyl)-1,1′-binaphthyl-2,2′-diyl hydrogenphosphate',\n",
       " \"(R)-3,3'-Bis[4-(2,4,6-trimethylphenyl)phenyl]-1,1'-binaphthyl-2,2'-diyl Hydrogen Phosphate\",\n",
       " \"(S)-3,3'-Bis[4-(2,4,6-trimethylphenyl)phenyl]-1,1'-binaphthyl-2,2'-diyl Hydrogen Phosphate\",\n",
       " '(R)-3,3′-Bis(4-chlorophenyl)-1,1′-binaphthyl-2,2′-diyl hydrogenphosphate',\n",
       " '(S)-3,3′-Bis(4-chlorophenyl)-1,1′-binaphthyl-2,2′-diyl hydrogenphosphate',\n",
       " \"(R)-3,3'-Bis(4-diphenyl)-1,1'-binaphthyl 2,2'-diyl hydrogenphosphate\",\n",
       " \"(S)-3,3'-Bis(4-diphenyl)-1,1'-binaphthyl 2,2'-diyl hydrogenphosphate\",\n",
       " '(R)-3,3′-Bis(4-trifluoromethylphenyl)-1,1′-binaphthyl-2,2′-diyl hydrogenphosphate',\n",
       " '(S)-3,3′-Bis(4-trifluoromethylphenyl)-1,1′-binaphthyl-2,2′-diyl hydrogenphosphate',\n",
       " '(R)-3,3′-Bis(3,5-dinitrolphenyl)-1,1′-binaphthyl-2,2′-diyl hydrogenphosphate',\n",
       " '(S)-3,3′-Bis(3,5-dinitrolphenyl)-1,1′-binaphthyl-2,2′-diyl hydrogenphosphate',\n",
       " \"(R)-3,3'-Bis(3,5-diphenyl)phenyl-1,1'-binaphthyl-2,2'-diyl Hydrogen Phosphate\",\n",
       " \"(S)-3,3'-Bis(3,5-diphenyl)phenyl-1,1'-binaphthyl-2,2'-diyl Hydrogen Phosphate\",\n",
       " '(R)-3,3′-Bis[3,5-bis(trifluoromethyl)phenyl]-1,1′-binaphthyl-2,2′-diyl hydrogenphosphate',\n",
       " '(S)-3,3′-Bis[3,5-bis(trifluoromethyl)phenyl]-1,1′-binaphthyl-2,2′-diyl hydrogenphosphate',\n",
       " '(R)-3,3-Bis(9-anthracenyl)-1,1-binaphthyl-2,2-diyl hydrogenphosphate',\n",
       " '(S)-3,3-Bis(9-anthracenyl)-1,1-binaphthyl-2,2-diyl hydrogenphosphate',\n",
       " \"(R)-3,3'-Bis(9-phenanthryl)-1,1'-binaphthalene-2,2'-diyl hydrogen phosphate\",\n",
       " \"(S)-3,3'-Bis(9-phenanthryl)-1,1'-binaphthalene-2,2'-diyl hydrogen phosphate\",\n",
       " \"(R)-3,3'-Bis(1-naphthalenyl)-1,1'-binaphthyl-2,2'-diyl Hydrogen Phosphate\",\n",
       " \"(S)-3,3'-Bis(1-naphthalenyl)-1,1'-binaphthyl-2,2'-diyl Hydrogen Phosphate\",\n",
       " \"(R)-3,3'-Bis(2-naphthalenyl)-1,1'-binaphthyl-2,2'-diyl Hydrogen Phosphate\",\n",
       " \"(S)-3,3'-Bis(2-naphthalenyl)-1,1'-binaphthyl-2,2'-diyl Hydrogen Phosphate\",\n",
       " '(R)-3,3′-Bis(2,4,6-triisopropylphenyl)-1,1′-binaphthyl-2,2′-diyl hydrogenphosphate',\n",
       " '(S)-3,3′-Bis(2,4,6-triisopropylphenyl)-1,1′-binaphthyl-2,2′-diyl hydrogenphosphate',\n",
       " '(R)-3,3′-Bis(2,4,6-trimethylphenyl)-1,1′-binaphthyl-2,2′-diyl hydrogenphosphate',\n",
       " '(S)-3,3′-Bis(2,4,6-trimethylphenyl)-1,1′-binaphthyl-2,2′-diyl hydrogenphosphate',\n",
       " '(R)-3,3′-Bis(2,6-dimethylphenyl)-1,1′-binaphthyl-2,2′-diyl hydrogenphosphate',\n",
       " '(S)-3,3′-Bis(2,6-dimethylphenyl)-1,1′-binaphthyl-2,2′-diyl hydrogenphosphate',\n",
       " \"(R)-4-Hydroxy-2,6-bis(2,4,6-tricyclohexylphenyl)dinaphtho[2,1-d:1',2'-f][1,3,2]dioxaphosphepine 4-oxide\",\n",
       " \"(S)-4-Hydroxy-2,6-bis(2,4,6-tricyclohexylphenyl)dinaphtho[2,1-d:1',2'-f][1,3,2]dioxaphosphepine 4-oxide\",\n",
       " \"(11bS)-2,6-Bis[3,5-bis(trifluoromethyl)phenyl]-8,9,10,11,12,13,14,15-octahydro-4-hydroxy-4-oxide-dinaphtho[2,1-d:1',2'-f][1,3,2]dioxaphosphepin\",\n",
       " \"(11bS)-2,6-Bis[3,5-bis(trifluoromethyl)phenyl]-8,9,10,11,12,13,14,15-octahydro-4-hydroxy-4-oxide-dinaphtho[2,1-d:1',2'-f][1,3,2]dioxaphosphepin\"]"
      ]
     },
     "execution_count": 85,
     "metadata": {},
     "output_type": "execute_result"
    }
   ],
   "source": [
    "full_catalyst_name"
   ]
  },
  {
   "cell_type": "code",
   "execution_count": 86,
   "metadata": {},
   "outputs": [],
   "source": [
    "model_catalyst_name = []\n",
    "for name in model_catalyst.iloc[:, 1]:\n",
    "    model_catalyst_name.append(name.replace('R/S', 'R'))\n",
    "    model_catalyst_name.append(name.replace('R/S', 'S'))"
   ]
  },
  {
   "cell_type": "code",
   "execution_count": 24,
   "metadata": {},
   "outputs": [],
   "source": [
    "nucleophiles_name = []\n",
    "for name in nucleophiles.iloc[:, 1]:\n",
    "    nucleophiles_name.append(name)"
   ]
  },
  {
   "cell_type": "code",
   "execution_count": 113,
   "metadata": {},
   "outputs": [],
   "source": [
    "class Reaction():\n",
    "    \n",
    "    def __init__(self, filename):\n",
    "        self.file = '/Users/jlisd/Downloads/AI Chem/AI Chem/reaction information/' + filename\n",
    "        data = pd.ExcelFile(self.file)\n",
    "        self.datalen = len(data.sheet_names)\n",
    "        self.data = pd.concat([pd.read_excel(self.file, i) for i in range(self.datalen)])\n",
    "        self.len = self.data.shape[0]\n",
    "        \n",
    "    def check_names(self):\n",
    "        self.nucleophiles = self.data[\"Nucleophile\"]\n",
    "        self.catalysts = self.data[\"Catalyst\"]\n",
    "        self.solvents = self.data[\"Solvent\"]\n",
    "        for nucleophile in self.nucleophiles:\n",
    "            if nucleophile not in nucleophiles_name:\n",
    "                print(\"nucleophile: \" + str(nucleophile))\n",
    "        for catalyst in self.catalysts:\n",
    "            if catalyst not in full_catalyst_name:\n",
    "                print(\"catalyst: \" + catalyst)\n",
    "        for solvent in self.solvents:\n",
    "            if solvent not in solvent_name:\n",
    "                print(\"solvent: \" + solvent)\n",
    "        return \"done checking \" + self.file\n",
    "        \n",
    "        \n",
    "    def check_files(self):\n",
    "        for i in range(self.len):\n",
    "            if path.isfile('/Users/jlisd/Downloads/' + self.data.iloc[i, 2]) == True:\n",
    "                print('yes')\n",
    "        "
   ]
  },
  {
   "cell_type": "code",
   "execution_count": 93,
   "metadata": {},
   "outputs": [
    {
     "data": {
      "text/plain": [
       "0                  ethoxyethane\n",
       "1                  ethoxyethane\n",
       "2                  ethoxyethane\n",
       "3                  ethoxyethane\n",
       "4               tetrahydrofuran\n",
       "5     2-methoxy-2-methylpropane\n",
       "6                       toluene\n",
       "7                       toluene\n",
       "0                       toluene\n",
       "1                       toluene\n",
       "2                       toluene\n",
       "3                       toluene\n",
       "4                       toluene\n",
       "5                       toluene\n",
       "6                       toluene\n",
       "0                       toluene\n",
       "1                       toluene\n",
       "2                       toluene\n",
       "3                       toluene\n",
       "4                       toluene\n",
       "5                       toluene\n",
       "6                       toluene\n",
       "7                       toluene\n",
       "0                       toluene\n",
       "1                       toluene\n",
       "2                       toluene\n",
       "3                       toluene\n",
       "4                       toluene\n",
       "5                       toluene\n",
       "6                       toluene\n",
       "7                       toluene\n",
       "8                       toluene\n",
       "9                       toluene\n",
       "10                      toluene\n",
       "Name: Solvent, dtype: object"
      ]
     },
     "execution_count": 93,
     "metadata": {},
     "output_type": "execute_result"
    }
   ],
   "source": [
    "reaction2.data[\"Solvent\"]"
   ]
  },
  {
   "cell_type": "code",
   "execution_count": 94,
   "metadata": {},
   "outputs": [
    {
     "data": {
      "text/plain": [
       "'done checking /Users/jlisd/Downloads/AI Chem/AI Chem/reaction information/2 Addition of thiols.xlsx'"
      ]
     },
     "execution_count": 94,
     "metadata": {},
     "output_type": "execute_result"
    }
   ],
   "source": [
    "reaction2.check_names()"
   ]
  },
  {
   "cell_type": "code",
   "execution_count": 97,
   "metadata": {},
   "outputs": [],
   "source": [
    "reaction1 = Reaction('1 Addition of alcohols.xlsx')\n",
    "reaction2 = Reaction('2 Addition of thiols.xlsx')\n",
    "reaction3 = Reaction('3 Hydrophosphonylation of imines.xlsx')\n",
    "reaction4 = Reaction('4 Addition of diazomethylphosphonates.xlsx')\n",
    "reaction5 = Reaction('5 Addition of diazoacetamides.xlsx')\n",
    "reaction6 = Reaction('6 Strecker Reaction (with aldimines).xlsx')\n",
    "reaction7 = Reaction('7 Peroxidation of imines.xlsx')\n",
    "reaction8 = Reaction('8 Transfer Hydrogenation of b,g-Alkynyl a-Imino Esters.xlsx')\n",
    "reaction9 = Reaction('9 Transfer Hydrogenation of Enamides.xlsx')\n",
    "reaction10 = Reaction('10 Transfer Hydrogenation of N-aryl imines (List).xlsx')\n",
    "reaction11 = Reaction('11 Transfer Hydrogenation of N-aryl imines (Rueping).xlsx')\n",
    "reaction12 = Reaction('12 Reductive amination of N-aryl imines (Macmillan).xlsx')\n",
    "reaction13 = Reaction('13 Transfer Hydrogenation of trifluoromethyl ketimines.xlsx')\n",
    "reaction14 = Reaction('14 Transfer Hydrogenation of N-aryl imines by benzothiazoline.xlsx')\n",
    "reaction15 = Reaction('15 Reductive amination of aliphatic ketones by benzothiazoline.xlsx')\n",
    "reaction16 = Reaction('16 Transfer Hydrogenation of ethyl ketimines.xlsx')\n",
    "reaction17 = Reaction('17 Strecker Reaction (with ketimines).xlsx')\n",
    "reaction18 = Reaction('18 Addition of enecarbamates to benzoyl imines.xlsx')\n",
    "reaction19 = Reaction('19 Hydrogenation of fluorinated alkynyl ketimines.xlsx')\n",
    "reaction20 = Reaction('20 Addition of thiols to imines (Denmark).xlsx')\n"
   ]
  },
  {
   "cell_type": "code",
   "execution_count": 98,
   "metadata": {},
   "outputs": [
    {
     "name": "stdout",
     "output_type": "stream",
     "text": [
      "catalyst: 2,6-di(anthracen-9-yl)-4-hydroxydinaphtho[2,1-d:1',2'-f][1,3,2]dioxaphosphepine 4-oxide\n",
      "catalyst: 2,6-di(anthracen-9-yl)-4-hydroxydinaphtho[2,1-d:1',2'-f][1,3,2]dioxaphosphepine 4-oxide\n",
      "catalyst: 2,6-di(anthracen-9-yl)-4-hydroxydinaphtho[2,1-d:1',2'-f][1,3,2]dioxaphosphepine 4-oxide\n",
      "catalyst: 2,6-di(anthracen-9-yl)-4-hydroxydinaphtho[2,1-d:1',2'-f][1,3,2]dioxaphosphepine 4-oxide\n",
      "catalyst: 2,6-di(anthracen-9-yl)-4-hydroxydinaphtho[2,1-d:1',2'-f][1,3,2]dioxaphosphepine 4-oxide\n",
      "catalyst: 2,6-di(anthracen-9-yl)-4-hydroxydinaphtho[2,1-d:1',2'-f][1,3,2]dioxaphosphepine 4-oxide\n",
      "catalyst: 2,6-di(anthracen-9-yl)-4-hydroxydinaphtho[2,1-d:1',2'-f][1,3,2]dioxaphosphepine 4-oxide\n",
      "catalyst: 2,6-di(anthracen-9-yl)-4-hydroxydinaphtho[2,1-d:1',2'-f][1,3,2]dioxaphosphepine 4-oxide\n",
      "catalyst: 2,6-di(anthracen-9-yl)-4-hydroxydinaphtho[2,1-d:1',2'-f][1,3,2]dioxaphosphepine 4-oxide\n",
      "catalyst: 2,6-di(anthracen-9-yl)-4-hydroxydinaphtho[2,1-d:1',2'-f][1,3,2]dioxaphosphepine 4-oxide\n",
      "catalyst: 2,6-di(anthracen-9-yl)-4-hydroxydinaphtho[2,1-d:1',2'-f][1,3,2]dioxaphosphepine 4-oxide\n",
      "catalyst: 2,6-di(anthracen-9-yl)-4-hydroxydinaphtho[2,1-d:1',2'-f][1,3,2]dioxaphosphepine 4-oxide\n",
      "catalyst: 2,6-di(anthracen-9-yl)-4-hydroxydinaphtho[2,1-d:1',2'-f][1,3,2]dioxaphosphepine 4-oxide\n",
      "catalyst: 2,6-di(anthracen-9-yl)-4-hydroxydinaphtho[2,1-d:1',2'-f][1,3,2]dioxaphosphepine 4-oxide\n",
      "catalyst: 2,6-di(anthracen-9-yl)-4-hydroxydinaphtho[2,1-d:1',2'-f][1,3,2]dioxaphosphepine 4-oxide\n",
      "catalyst: 2,6-di(anthracen-9-yl)-4-hydroxydinaphtho[2,1-d:1',2'-f][1,3,2]dioxaphosphepine 4-oxide\n",
      "catalyst: 2,6-di(anthracen-9-yl)-4-hydroxydinaphtho[2,1-d:1',2'-f][1,3,2]dioxaphosphepine 4-oxide\n",
      "catalyst: 2,6-di(anthracen-9-yl)-4-hydroxydinaphtho[2,1-d:1',2'-f][1,3,2]dioxaphosphepine 4-oxide\n",
      "catalyst: 2,6-di(anthracen-9-yl)-4-hydroxydinaphtho[2,1-d:1',2'-f][1,3,2]dioxaphosphepine 4-oxide\n",
      "catalyst: 2,6-di(anthracen-9-yl)-4-hydroxydinaphtho[2,1-d:1',2'-f][1,3,2]dioxaphosphepine 4-oxide\n"
     ]
    },
    {
     "data": {
      "text/plain": [
       "'done checking /Users/jlisd/Downloads/AI Chem/AI Chem/reaction information/1 Addition of alcohols.xlsx'"
      ]
     },
     "execution_count": 98,
     "metadata": {},
     "output_type": "execute_result"
    }
   ],
   "source": [
    "reaction1.check_names()"
   ]
  },
  {
   "cell_type": "code",
   "execution_count": 99,
   "metadata": {},
   "outputs": [
    {
     "data": {
      "text/plain": [
       "'done checking /Users/jlisd/Downloads/AI Chem/AI Chem/reaction information/2 Addition of thiols.xlsx'"
      ]
     },
     "execution_count": 99,
     "metadata": {},
     "output_type": "execute_result"
    }
   ],
   "source": [
    "reaction2.check_names()"
   ]
  },
  {
   "cell_type": "code",
   "execution_count": 100,
   "metadata": {},
   "outputs": [
    {
     "data": {
      "text/plain": [
       "'done checking /Users/jlisd/Downloads/AI Chem/AI Chem/reaction information/3 Hydrophosphonylation of imines.xlsx'"
      ]
     },
     "execution_count": 100,
     "metadata": {},
     "output_type": "execute_result"
    }
   ],
   "source": [
    "reaction3.check_names()"
   ]
  },
  {
   "cell_type": "code",
   "execution_count": 101,
   "metadata": {},
   "outputs": [
    {
     "data": {
      "text/plain": [
       "'done checking /Users/jlisd/Downloads/AI Chem/AI Chem/reaction information/4 Addition of diazomethylphosphonates.xlsx'"
      ]
     },
     "execution_count": 101,
     "metadata": {},
     "output_type": "execute_result"
    }
   ],
   "source": [
    "reaction4.check_names()"
   ]
  },
  {
   "cell_type": "code",
   "execution_count": 102,
   "metadata": {},
   "outputs": [
    {
     "data": {
      "text/plain": [
       "'done checking /Users/jlisd/Downloads/AI Chem/AI Chem/reaction information/5 Addition of diazoacetamides.xlsx'"
      ]
     },
     "execution_count": 102,
     "metadata": {},
     "output_type": "execute_result"
    }
   ],
   "source": [
    "reaction5.check_names()"
   ]
  },
  {
   "cell_type": "code",
   "execution_count": 103,
   "metadata": {},
   "outputs": [
    {
     "data": {
      "text/plain": [
       "'done checking /Users/jlisd/Downloads/AI Chem/AI Chem/reaction information/6 Strecker Reaction (with aldimines).xlsx'"
      ]
     },
     "execution_count": 103,
     "metadata": {},
     "output_type": "execute_result"
    }
   ],
   "source": [
    "reaction6.check_names()"
   ]
  },
  {
   "cell_type": "code",
   "execution_count": 104,
   "metadata": {},
   "outputs": [
    {
     "data": {
      "text/plain": [
       "'done checking /Users/jlisd/Downloads/AI Chem/AI Chem/reaction information/7 Peroxidation of imines.xlsx'"
      ]
     },
     "execution_count": 104,
     "metadata": {},
     "output_type": "execute_result"
    }
   ],
   "source": [
    "reaction7.check_names()"
   ]
  },
  {
   "cell_type": "code",
   "execution_count": 105,
   "metadata": {},
   "outputs": [
    {
     "data": {
      "text/plain": [
       "'done checking /Users/jlisd/Downloads/AI Chem/AI Chem/reaction information/8 Transfer Hydrogenation of b,g-Alkynyl a-Imino Esters.xlsx'"
      ]
     },
     "execution_count": 105,
     "metadata": {},
     "output_type": "execute_result"
    }
   ],
   "source": [
    "reaction8.check_names()"
   ]
  },
  {
   "cell_type": "code",
   "execution_count": 106,
   "metadata": {},
   "outputs": [
    {
     "data": {
      "text/plain": [
       "'done checking /Users/jlisd/Downloads/AI Chem/AI Chem/reaction information/9 Transfer Hydrogenation of Enamides.xlsx'"
      ]
     },
     "execution_count": 106,
     "metadata": {},
     "output_type": "execute_result"
    }
   ],
   "source": [
    "reaction9.check_names()"
   ]
  },
  {
   "cell_type": "code",
   "execution_count": 107,
   "metadata": {},
   "outputs": [
    {
     "data": {
      "text/plain": [
       "'done checking /Users/jlisd/Downloads/AI Chem/AI Chem/reaction information/10 Transfer Hydrogenation of N-aryl imines (List).xlsx'"
      ]
     },
     "execution_count": 107,
     "metadata": {},
     "output_type": "execute_result"
    }
   ],
   "source": [
    "reaction10.check_names()"
   ]
  },
  {
   "cell_type": "code",
   "execution_count": 108,
   "metadata": {},
   "outputs": [
    {
     "data": {
      "text/plain": [
       "'done checking /Users/jlisd/Downloads/AI Chem/AI Chem/reaction information/11 Transfer Hydrogenation of N-aryl imines (Rueping).xlsx'"
      ]
     },
     "execution_count": 108,
     "metadata": {},
     "output_type": "execute_result"
    }
   ],
   "source": [
    "reaction11.check_names()"
   ]
  },
  {
   "cell_type": "code",
   "execution_count": 115,
   "metadata": {},
   "outputs": [
    {
     "name": "stdout",
     "output_type": "stream",
     "text": [
      "nucleophile: 4-methoxyaniline\n",
      "nucleophile: 4-methoxyaniline\n",
      "nucleophile: 4-methoxyaniline\n",
      "nucleophile: 4-methoxyaniline\n"
     ]
    },
    {
     "data": {
      "text/plain": [
       "'done checking /Users/jlisd/Downloads/AI Chem/AI Chem/reaction information/12 Reductive amination of N-aryl imines (Macmillan).xlsx'"
      ]
     },
     "execution_count": 115,
     "metadata": {},
     "output_type": "execute_result"
    }
   ],
   "source": [
    "reaction12.check_names()"
   ]
  },
  {
   "cell_type": "code",
   "execution_count": 110,
   "metadata": {},
   "outputs": [
    {
     "data": {
      "text/plain": [
       "'done checking /Users/jlisd/Downloads/AI Chem/AI Chem/reaction information/13 Transfer Hydrogenation of trifluoromethyl ketimines.xlsx'"
      ]
     },
     "execution_count": 110,
     "metadata": {},
     "output_type": "execute_result"
    }
   ],
   "source": [
    "reaction13.check_names()"
   ]
  },
  {
   "cell_type": "code",
   "execution_count": 111,
   "metadata": {},
   "outputs": [
    {
     "data": {
      "text/plain": [
       "'done checking /Users/jlisd/Downloads/AI Chem/AI Chem/reaction information/14 Transfer Hydrogenation of N-aryl imines by benzothiazoline.xlsx'"
      ]
     },
     "execution_count": 111,
     "metadata": {},
     "output_type": "execute_result"
    }
   ],
   "source": [
    "reaction14.check_names()"
   ]
  },
  {
   "cell_type": "code",
   "execution_count": 114,
   "metadata": {},
   "outputs": [
    {
     "name": "stdout",
     "output_type": "stream",
     "text": [
      "nucleophile: 4-methoxyaniline\n",
      "nucleophile: 4-methoxyaniline\n",
      "nucleophile: 4-methoxyaniline\n",
      "nucleophile: 4-methoxyaniline\n",
      "nucleophile: 4-methoxyaniline\n",
      "nucleophile: 4-methoxyaniline\n",
      "nucleophile: 4-methoxyaniline\n",
      "nucleophile: 4-methoxyaniline\n",
      "nucleophile: 4-methoxyaniline\n",
      "nucleophile: 4-methoxyaniline\n",
      "nucleophile: aniline\n",
      "nucleophile: 4-methoxyaniline\n",
      "nucleophile: 4-methoxyaniline\n",
      "nucleophile: aniline\n",
      "nucleophile: 4-bromoaniline\n",
      "nucleophile: 4-methoxyaniline\n",
      "nucleophile: 4-methoxyaniline\n"
     ]
    },
    {
     "ename": "TypeError",
     "evalue": "can only concatenate str (not \"float\") to str",
     "output_type": "error",
     "traceback": [
      "\u001b[1;31m---------------------------------------------------------------------------\u001b[0m",
      "\u001b[1;31mTypeError\u001b[0m                                 Traceback (most recent call last)",
      "\u001b[1;32m<ipython-input-114-7994f33cfc8b>\u001b[0m in \u001b[0;36m<module>\u001b[1;34m\u001b[0m\n\u001b[1;32m----> 1\u001b[1;33m \u001b[0mreaction15\u001b[0m\u001b[1;33m.\u001b[0m\u001b[0mcheck_names\u001b[0m\u001b[1;33m(\u001b[0m\u001b[1;33m)\u001b[0m\u001b[1;33m\u001b[0m\u001b[1;33m\u001b[0m\u001b[0m\n\u001b[0m",
      "\u001b[1;32m<ipython-input-92-f4109cd87875>\u001b[0m in \u001b[0;36mcheck_names\u001b[1;34m(self)\u001b[0m\n\u001b[0;32m     14\u001b[0m         \u001b[1;32mfor\u001b[0m \u001b[0mnucleophile\u001b[0m \u001b[1;32min\u001b[0m \u001b[0mself\u001b[0m\u001b[1;33m.\u001b[0m\u001b[0mnucleophiles\u001b[0m\u001b[1;33m:\u001b[0m\u001b[1;33m\u001b[0m\u001b[1;33m\u001b[0m\u001b[0m\n\u001b[0;32m     15\u001b[0m             \u001b[1;32mif\u001b[0m \u001b[0mnucleophile\u001b[0m \u001b[1;32mnot\u001b[0m \u001b[1;32min\u001b[0m \u001b[0mnucleophiles_name\u001b[0m\u001b[1;33m:\u001b[0m\u001b[1;33m\u001b[0m\u001b[1;33m\u001b[0m\u001b[0m\n\u001b[1;32m---> 16\u001b[1;33m                 \u001b[0mprint\u001b[0m\u001b[1;33m(\u001b[0m\u001b[1;34m\"nucleophile: \"\u001b[0m \u001b[1;33m+\u001b[0m \u001b[0mnucleophile\u001b[0m\u001b[1;33m)\u001b[0m\u001b[1;33m\u001b[0m\u001b[1;33m\u001b[0m\u001b[0m\n\u001b[0m\u001b[0;32m     17\u001b[0m         \u001b[1;32mfor\u001b[0m \u001b[0mcatalyst\u001b[0m \u001b[1;32min\u001b[0m \u001b[0mself\u001b[0m\u001b[1;33m.\u001b[0m\u001b[0mcatalysts\u001b[0m\u001b[1;33m:\u001b[0m\u001b[1;33m\u001b[0m\u001b[1;33m\u001b[0m\u001b[0m\n\u001b[0;32m     18\u001b[0m             \u001b[1;32mif\u001b[0m \u001b[0mcatalyst\u001b[0m \u001b[1;32mnot\u001b[0m \u001b[1;32min\u001b[0m \u001b[0mfull_catalyst_name\u001b[0m\u001b[1;33m:\u001b[0m\u001b[1;33m\u001b[0m\u001b[1;33m\u001b[0m\u001b[0m\n",
      "\u001b[1;31mTypeError\u001b[0m: can only concatenate str (not \"float\") to str"
     ]
    }
   ],
   "source": [
    "reaction15.check_names()\n",
    "###missing imine_scope nucleophile # 12 lol"
   ]
  },
  {
   "cell_type": "code",
   "execution_count": 116,
   "metadata": {},
   "outputs": [
    {
     "data": {
      "text/plain": [
       "'done checking /Users/jlisd/Downloads/AI Chem/AI Chem/reaction information/16 Transfer Hydrogenation of ethyl ketimines.xlsx'"
      ]
     },
     "execution_count": 116,
     "metadata": {},
     "output_type": "execute_result"
    }
   ],
   "source": [
    "reaction16.check_names()"
   ]
  },
  {
   "cell_type": "code",
   "execution_count": 117,
   "metadata": {},
   "outputs": [
    {
     "data": {
      "text/plain": [
       "'done checking /Users/jlisd/Downloads/AI Chem/AI Chem/reaction information/17 Strecker Reaction (with ketimines).xlsx'"
      ]
     },
     "execution_count": 117,
     "metadata": {},
     "output_type": "execute_result"
    }
   ],
   "source": [
    "reaction17.check_names()"
   ]
  },
  {
   "cell_type": "code",
   "execution_count": 118,
   "metadata": {},
   "outputs": [
    {
     "data": {
      "text/plain": [
       "'done checking /Users/jlisd/Downloads/AI Chem/AI Chem/reaction information/18 Addition of enecarbamates to benzoyl imines.xlsx'"
      ]
     },
     "execution_count": 118,
     "metadata": {},
     "output_type": "execute_result"
    }
   ],
   "source": [
    "reaction18.check_names()"
   ]
  },
  {
   "cell_type": "code",
   "execution_count": 119,
   "metadata": {},
   "outputs": [
    {
     "data": {
      "text/plain": [
       "'done checking /Users/jlisd/Downloads/AI Chem/AI Chem/reaction information/19 Hydrogenation of fluorinated alkynyl ketimines.xlsx'"
      ]
     },
     "execution_count": 119,
     "metadata": {},
     "output_type": "execute_result"
    }
   ],
   "source": [
    "reaction19.check_names()"
   ]
  },
  {
   "cell_type": "code",
   "execution_count": 120,
   "metadata": {},
   "outputs": [
    {
     "data": {
      "text/plain": [
       "'done checking /Users/jlisd/Downloads/AI Chem/AI Chem/reaction information/20 Addition of thiols to imines (Denmark).xlsx'"
      ]
     },
     "execution_count": 120,
     "metadata": {},
     "output_type": "execute_result"
    }
   ],
   "source": [
    "reaction20.check_names()"
   ]
  },
  {
   "cell_type": "code",
   "execution_count": null,
   "metadata": {},
   "outputs": [],
   "source": []
  }
 ],
 "metadata": {
  "kernelspec": {
   "display_name": "Python 3",
   "language": "python",
   "name": "python3"
  },
  "language_info": {
   "codemirror_mode": {
    "name": "ipython",
    "version": 3
   },
   "file_extension": ".py",
   "mimetype": "text/x-python",
   "name": "python",
   "nbconvert_exporter": "python",
   "pygments_lexer": "ipython3",
   "version": "3.7.6"
  }
 },
 "nbformat": 4,
 "nbformat_minor": 4
}
