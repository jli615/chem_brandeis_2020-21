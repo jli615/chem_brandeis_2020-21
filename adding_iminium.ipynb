{
 "cells": [
  {
   "cell_type": "code",
   "execution_count": 1,
   "metadata": {},
   "outputs": [],
   "source": [
    "import pandas as pd"
   ]
  },
  {
   "cell_type": "code",
   "execution_count": 2,
   "metadata": {},
   "outputs": [
    {
     "data": {
      "text/html": [
       "<div>\n",
       "<style scoped>\n",
       "    .dataframe tbody tr th:only-of-type {\n",
       "        vertical-align: middle;\n",
       "    }\n",
       "\n",
       "    .dataframe tbody tr th {\n",
       "        vertical-align: top;\n",
       "    }\n",
       "\n",
       "    .dataframe thead th {\n",
       "        text-align: right;\n",
       "    }\n",
       "</style>\n",
       "<table border=\"1\" class=\"dataframe\">\n",
       "  <thead>\n",
       "    <tr style=\"text-align: right;\">\n",
       "      <th></th>\n",
       "      <th>iminium</th>\n",
       "    </tr>\n",
       "    <tr>\n",
       "      <th>substrate</th>\n",
       "      <th></th>\n",
       "    </tr>\n",
       "  </thead>\n",
       "  <tbody>\n",
       "    <tr>\n",
       "      <th>4-phenylbutan-2-one</th>\n",
       "      <td>Iminium 1</td>\n",
       "    </tr>\n",
       "    <tr>\n",
       "      <th>hex-5-en-2-one</th>\n",
       "      <td>Iminium 2</td>\n",
       "    </tr>\n",
       "    <tr>\n",
       "      <th>2-oxopropyl benzoate</th>\n",
       "      <td>Iminium 3</td>\n",
       "    </tr>\n",
       "    <tr>\n",
       "      <th>octan-2-one</th>\n",
       "      <td>Iminium 4</td>\n",
       "    </tr>\n",
       "    <tr>\n",
       "      <th>heptan-2-one</th>\n",
       "      <td>Iminium 5</td>\n",
       "    </tr>\n",
       "    <tr>\n",
       "      <th>...</th>\n",
       "      <td>...</td>\n",
       "    </tr>\n",
       "    <tr>\n",
       "      <th>(Z)-4-(cyclohex-1-en-1-yl)-1,1,1-trifluoro-N-(4-methoxyphenyl)but-3-yn-2-imine</th>\n",
       "      <td>Iminium 176</td>\n",
       "    </tr>\n",
       "    <tr>\n",
       "      <th>(Z)-1,1,1-trifluoro-N-(4-methoxyphenyl)oct-3-yn-2-imine</th>\n",
       "      <td>Iminium 177</td>\n",
       "    </tr>\n",
       "    <tr>\n",
       "      <th>(Z)-1,1,1-trifluoro-N-(4-methoxyphenyl)-6-phenylhexa-3,5-diyn-2-imine</th>\n",
       "      <td>Iminium 178</td>\n",
       "    </tr>\n",
       "    <tr>\n",
       "      <th>(Z)-1,1-difluoro-N-(4-methoxyphenyl)-4-phenylbut-3-yn-2-imine</th>\n",
       "      <td>Iminium 179</td>\n",
       "    </tr>\n",
       "    <tr>\n",
       "      <th>(Z)-4,4,5,5,5-pentafluoro-N-(4-methoxyphenyl)-1-phenylpent-1-yn-3-imine</th>\n",
       "      <td>Iminium 180</td>\n",
       "    </tr>\n",
       "  </tbody>\n",
       "</table>\n",
       "<p>180 rows × 1 columns</p>\n",
       "</div>"
      ],
      "text/plain": [
       "                                                        iminium\n",
       "substrate                                                      \n",
       "4-phenylbutan-2-one                                   Iminium 1\n",
       "hex-5-en-2-one                                        Iminium 2\n",
       "2-oxopropyl benzoate                                  Iminium 3\n",
       "octan-2-one                                           Iminium 4\n",
       "heptan-2-one                                          Iminium 5\n",
       "...                                                         ...\n",
       "(Z)-4-(cyclohex-1-en-1-yl)-1,1,1-trifluoro-N-(4...  Iminium 176\n",
       "(Z)-1,1,1-trifluoro-N-(4-methoxyphenyl)oct-3-yn...  Iminium 177\n",
       "(Z)-1,1,1-trifluoro-N-(4-methoxyphenyl)-6-pheny...  Iminium 178\n",
       "(Z)-1,1-difluoro-N-(4-methoxyphenyl)-4-phenylbu...  Iminium 179\n",
       "(Z)-4,4,5,5,5-pentafluoro-N-(4-methoxyphenyl)-1...  Iminium 180\n",
       "\n",
       "[180 rows x 1 columns]"
      ]
     },
     "execution_count": 2,
     "metadata": {},
     "output_type": "execute_result"
    }
   ],
   "source": [
    "iminium_data = pd.read_excel('/Users/jlisd/Downloads/AI Chem/AI Chem/reaction information UPDATED/substrate-iminium.xlsx')\n",
    "iminium_data.columns = ['substrate', 'iminium']\n",
    "iminium_data.set_index('substrate', inplace = True)\n",
    "iminium_data\n"
   ]
  },
  {
   "cell_type": "code",
   "execution_count": 3,
   "metadata": {},
   "outputs": [],
   "source": [
    "def insert_iminium(reaction_number, reaction, sheetname = None):\n",
    "    reaction_file = '/Users/jlisd/Downloads/AI Chem/AI Chem/reaction information UPDATED/' + str(reaction_number) + ' ' + reaction + '.xlsx'\n",
    "    if sheetname == None:\n",
    "        data = pd.read_excel(reaction_file)\n",
    "    else:\n",
    "        data = pd.read_excel(reaction_file, sheet_name = sheetname)\n",
    "        \n",
    "    data.set_index('entry', inplace = True)\n",
    "    data.insert(1, 'Iminium', None)\n",
    "    entries = len(data)\n",
    "    \n",
    "    for entry in range(1, entries + 1):\n",
    "        data.loc[entry, 'Iminium'] = iminium_data.loc[data.loc[entry, 'Substrate'], 'iminium']\n",
    "    \n",
    "    return(data)"
   ]
  },
  {
   "cell_type": "code",
   "execution_count": 4,
   "metadata": {},
   "outputs": [],
   "source": [
    "def finish_file(reaction_number, reaction):\n",
    "    reaction_file = '/Users/jlisd/Downloads/AI Chem/AI Chem/reaction information UPDATED/' + str(reaction_number) + ' ' + reaction + '.xlsx'\n",
    "    new_file = '/Users/jlisd/Downloads/AI Chem/AI Chem/reaction info updated iminiums/' + str(reaction_number) + ' ' + reaction + '.xlsx'\n",
    "    sheetnames = pd.ExcelFile(reaction_file).sheet_names\n",
    "    reactions = {}\n",
    "    \n",
    "    for sheet in sheetnames:\n",
    "        data = pd.read_excel(reaction_file, sheet_name = sheet)\n",
    "        data.set_index('entry', inplace = True)\n",
    "        if 'Iminium' in list(data.columns):\n",
    "            reactions[sheet] = data\n",
    "        else:\n",
    "            print(reaction_number, reaction, sheet)\n",
    "            reactions[sheet] = insert_iminium(reaction_number, reaction, sheet)\n",
    "    with pd.ExcelWriter(new_file, engine = 'xlsxwriter') as writer:      \n",
    "        for reaction in reactions:\n",
    "            reactions[reaction].to_excel(writer, sheet_name = reaction)"
   ]
  },
  {
   "cell_type": "code",
   "execution_count": 5,
   "metadata": {},
   "outputs": [
    {
     "name": "stdout",
     "output_type": "stream",
     "text": [
      "11 Transfer Hydrogenation of N-aryl imines (Rueping) Catalyst screening data\n",
      "11 Transfer Hydrogenation of N-aryl imines (Rueping) Solvent screening data\n"
     ]
    }
   ],
   "source": [
    "finish_file(11, 'Transfer Hydrogenation of N-aryl imines (Rueping)')"
   ]
  },
  {
   "cell_type": "code",
   "execution_count": 6,
   "metadata": {},
   "outputs": [
    {
     "name": "stdout",
     "output_type": "stream",
     "text": [
      "2 Addition of thiols Catalyst & solvent screening da\n",
      "2 Addition of thiols Effect of catalyst loading\n",
      "2 Addition of thiols Thiol scope\n",
      "3 Hydrophosphonylation of imines Catalyst screening data\n",
      "4 Addition of diazomethylphosphonates Optimization of catalyst and re\n",
      "5 Addition of diazoacetamides Catalyst screening data\n",
      "5 Addition of diazoacetamides Solvent screening data\n",
      "6 Strecker Reaction (with aldimines) Catalyst screening data\n",
      "6 Strecker Reaction (with aldimines) Solvent screening data\n",
      "7 Peroxidation of imines Catalyst screening data\n",
      "7 Peroxidation of imines Solvent screening data\n",
      "8 Transfer Hydrogenation of b,g-Alkynyl a-Imino Esters Catalyst screening and reaction\n",
      "10 Transfer Hydrogenation of N-aryl imines (List) Catalyst screening data\n",
      "11 Transfer Hydrogenation of N-aryl imines (Rueping) Catalyst screening data\n",
      "11 Transfer Hydrogenation of N-aryl imines (Rueping) Solvent screening data\n",
      "13 Transfer Hydrogenation of trifluoromethyl ketimines Benzothiazoline screening data\n",
      "14 Transfer Hydrogenation of N-aryl imines by benzothiazoline Catalyst screening data\n",
      "14 Transfer Hydrogenation of N-aryl imines by benzothiazoline Benzothiazoline screening data\n",
      "15 Reductive amination of aliphatic ketones by benzothiazoline Catalyst screening data\n",
      "16 Transfer Hydrogenation of ethyl ketimines Benzothiazoline screening data\n",
      "17 Strecker Reaction (with ketimines) Catalyst screening data\n",
      "17 Strecker Reaction (with ketimines) Solvent data\n"
     ]
    }
   ],
   "source": [
    "finish_file(1, 'Addition of Alcohols')\n",
    "finish_file(2, 'Addition of thiols')\n",
    "finish_file(3, 'Hydrophosphonylation of imines')\n",
    "finish_file(4, 'Addition of diazomethylphosphonates')\n",
    "finish_file(5, 'Addition of diazoacetamides')\n",
    "finish_file(6, 'Strecker Reaction (with aldimines)')\n",
    "finish_file(7, 'Peroxidation of imines')\n",
    "finish_file(8, 'Transfer Hydrogenation of b,g-Alkynyl a-Imino Esters')\n",
    "finish_file(9, 'Transfer Hydrogenation of Enamides')\n",
    "finish_file(10, 'Transfer Hydrogenation of N-aryl imines (List)')\n",
    "finish_file(11, 'Transfer Hydrogenation of N-aryl imines (Rueping)')\n",
    "finish_file(12, 'Reductive amination of N-aryl imines (Macmillan)')\n",
    "finish_file(13, 'Transfer Hydrogenation of trifluoromethyl ketimines')\n",
    "finish_file(14, 'Transfer Hydrogenation of N-aryl imines by benzothiazoline')\n",
    "finish_file(15, 'Reductive amination of aliphatic ketones by benzothiazoline')\n",
    "finish_file(16, 'Transfer Hydrogenation of ethyl ketimines')\n",
    "finish_file(17, 'Strecker Reaction (with ketimines)')\n",
    "finish_file(18, 'Addition of enecarbamates to benzoyl imines')\n",
    "finish_file(19, 'Hydrogenation of fluorinated alkynyl ketimines')\n",
    "finish_file(20, 'Addition of thiols to imines (Denmark)')"
   ]
  },
  {
   "cell_type": "code",
   "execution_count": 6,
   "metadata": {},
   "outputs": [],
   "source": [
    "test2 = insert_iminium(2, 'Addition of thiols', 'Catalyst & solvent screening da')\n",
    "test2\n",
    "with pd.ExcelWriter('/Users/jlisd/Downloads/AI Chem/AI Chem/reaction information UPDATED/2 Addition of thiols.xlsx') as writer:\n",
    "    test2.to_excel(writer, sheet_name = 'Catalyst & solvent screening da')\n"
   ]
  },
  {
   "cell_type": "code",
   "execution_count": 33,
   "metadata": {},
   "outputs": [],
   "source": [
    "test= pd.read_excel('/Users/jlisd/Downloads/AI Chem/AI Chem/reaction information UPDATED/2 Addition of thiols.xlsx', sheet_name = 'Catalyst & solvent screening da')\n",
    "#testreaction.sheet_names\n",
    "test.set_index('entry', inplace = True)\n",
    "test.insert(1, 'test', None)"
   ]
  },
  {
   "cell_type": "code",
   "execution_count": null,
   "metadata": {},
   "outputs": [],
   "source": [
    "#(E)-N-(4-methoxyphenyl)-1-(naphthalen-2-yl)ethan-1-imine shows up twice in substrate-iminium - messing up sheet 11"
   ]
  }
 ],
 "metadata": {
  "kernelspec": {
   "display_name": "Python 3",
   "language": "python",
   "name": "python3"
  },
  "language_info": {
   "codemirror_mode": {
    "name": "ipython",
    "version": 3
   },
   "file_extension": ".py",
   "mimetype": "text/x-python",
   "name": "python",
   "nbconvert_exporter": "python",
   "pygments_lexer": "ipython3",
   "version": "3.7.6"
  }
 },
 "nbformat": 4,
 "nbformat_minor": 4
}
